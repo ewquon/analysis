{
 "cells": [
  {
   "cell_type": "code",
   "execution_count": 1,
   "metadata": {},
   "outputs": [],
   "source": [
    "%load_ext autoreload\n",
    "%autoreload 2"
   ]
  },
  {
   "cell_type": "code",
   "execution_count": 2,
   "metadata": {},
   "outputs": [],
   "source": [
    "%matplotlib inline\n",
    "import os\n",
    "import numpy as np\n",
    "import matplotlib.pyplot as plt\n",
    "import xarray"
   ]
  },
  {
   "cell_type": "code",
   "execution_count": 3,
   "metadata": {},
   "outputs": [],
   "source": [
    "from mmctools.helper_functions import fit_power_law_alpha"
   ]
  },
  {
   "cell_type": "code",
   "execution_count": 4,
   "metadata": {},
   "outputs": [],
   "source": [
    "from study import V27, unstable"
   ]
  },
  {
   "cell_type": "markdown",
   "metadata": {},
   "source": [
    "# Estimate inflow from upstream plane\n",
    "- velocity profile $= \\bar{U}(t,z)$\n",
    "- $\\bar{U}$ is a 1-min rolling mean\n",
    "- need offset in time from the x=-2.5D plane to the downstream wake planes"
   ]
  },
  {
   "cell_type": "code",
   "execution_count": 5,
   "metadata": {},
   "outputs": [],
   "source": [
    "case = unstable(casedir='WAKEBENCH-NREL_SHALER_DWMT-LES/Phase 2/unstable',\n",
    "                prefix='NREL_SHALER_DWMT_LES_190910',\n",
    "                suffix='_Unstable',\n",
    "                turbine=V27)"
   ]
  },
  {
   "cell_type": "code",
   "execution_count": 6,
   "metadata": {},
   "outputs": [
    {
     "data": {
      "text/plain": [
       "67.5"
      ]
     },
     "execution_count": 6,
     "metadata": {},
     "output_type": "execute_result"
    }
   ],
   "source": [
    "-case.upstreamD*V27.D"
   ]
  },
  {
   "cell_type": "markdown",
   "metadata": {},
   "source": [
    "## Load data into wake object"
   ]
  },
  {
   "cell_type": "code",
   "execution_count": 7,
   "metadata": {},
   "outputs": [
    {
     "name": "stdout",
     "output_type": "stream",
     "text": [
      "Selected datafile: WAKEBENCH-NREL_SHALER_DWMT-LES/Phase 2/unstable/NREL_SHALER_DWMT_LES_190910_uvw_-2.5D_Unstable.nc\n"
     ]
    },
    {
     "data": {
      "text/plain": [
       "<xarray.Dataset>\n",
       "Dimensions:  (t: 875, x: 1, y: 66, z: 35)\n",
       "Coordinates:\n",
       "  * t        (t) float64 500.0 502.0 504.0 ... 2.244e+03 2.246e+03 2.248e+03\n",
       "  * x        (x) float64 -67.5\n",
       "  * y        (y) float64 -181.8 -179.3 -176.8 -174.3 ... -24.89 -22.4 -19.91\n",
       "  * z        (z) float64 1.25 3.75 6.25 8.75 11.25 ... 78.75 81.25 83.75 86.25\n",
       "Data variables:\n",
       "    U        (t, x, y, z) float64 ...\n",
       "    V        (t, x, y, z) float64 ...\n",
       "    W        (t, x, y, z) float64 ..."
      ]
     },
     "execution_count": 7,
     "metadata": {},
     "output_type": "execute_result"
    }
   ],
   "source": [
    "xa = xarray.open_dataset(case.get_wake_datafile(case.upstreamD))\n",
    "xa"
   ]
  },
  {
   "cell_type": "code",
   "execution_count": 8,
   "metadata": {},
   "outputs": [],
   "source": [
    "Ntimes = xa.dims['t']"
   ]
  },
  {
   "cell_type": "code",
   "execution_count": 9,
   "metadata": {},
   "outputs": [],
   "source": [
    "t = xa.t.values\n",
    "z = xa.z.values"
   ]
  },
  {
   "cell_type": "code",
   "execution_count": 10,
   "metadata": {},
   "outputs": [
    {
     "data": {
      "text/plain": [
       "<xarray.DataArray 'U' (t: 875, x: 1, y: 66, z: 35)>\n",
       "[2021250 values with dtype=float64]\n",
       "Coordinates:\n",
       "  * t        (t) float64 500.0 502.0 504.0 ... 2.244e+03 2.246e+03 2.248e+03\n",
       "  * x        (x) float64 -67.5\n",
       "  * y        (y) float64 -181.8 -179.3 -176.8 -174.3 ... -24.89 -22.4 -19.91\n",
       "  * z        (z) float64 1.25 3.75 6.25 8.75 11.25 ... 78.75 81.25 83.75 86.25\n",
       "Attributes:\n",
       "    long_name:  streamwise wind component\n",
       "    units:      m/s"
      ]
     },
     "execution_count": 10,
     "metadata": {},
     "output_type": "execute_result"
    }
   ],
   "source": [
    "xa.U"
   ]
  },
  {
   "cell_type": "markdown",
   "metadata": {},
   "source": [
    "## Estimate TI"
   ]
  },
  {
   "cell_type": "code",
   "execution_count": 11,
   "metadata": {},
   "outputs": [
    {
     "name": "stdout",
     "output_type": "stream",
     "text": [
      "<xarray.DataArray 'z' ()>\n",
      "array(12) <xarray.DataArray 'z' ()>\n",
      "array(31.25)\n",
      "Coordinates:\n",
      "    z        float64 31.25\n"
     ]
    }
   ],
   "source": [
    "khub = np.argmin(np.abs(xa.coords['z'] - case.turbine.zhub))\n",
    "print(khub, xa.coords['z'][khub])"
   ]
  },
  {
   "cell_type": "code",
   "execution_count": 12,
   "metadata": {},
   "outputs": [],
   "source": [
    "Uhub = xa.sel(dict(\n",
    "    x=case.upstreamD*case.turbine.D,\n",
    "    z=xa.coords['z'].values[khub]\n",
    ")).to_dataframe()['U']"
   ]
  },
  {
   "cell_type": "code",
   "execution_count": 13,
   "metadata": {},
   "outputs": [
    {
     "data": {
      "text/plain": [
       "0.7727263188525626"
      ]
     },
     "execution_count": 13,
     "metadata": {},
     "output_type": "execute_result"
    }
   ],
   "source": [
    "Ustd = Uhub.unstack().std().mean()\n",
    "Ustd"
   ]
  },
  {
   "cell_type": "code",
   "execution_count": 14,
   "metadata": {},
   "outputs": [
    {
     "data": {
      "text/plain": [
       "0.11533228639590486"
      ]
     },
     "execution_count": 14,
     "metadata": {},
     "output_type": "execute_result"
    }
   ],
   "source": [
    "Ustd/case.Uref"
   ]
  },
  {
   "cell_type": "markdown",
   "metadata": {},
   "source": [
    "## Estimate profile"
   ]
  },
  {
   "cell_type": "code",
   "execution_count": 15,
   "metadata": {},
   "outputs": [],
   "source": [
    "Uprofile_inst = xa.U.mean(dim=('x','y')) # average over x,y: U(t,z)"
   ]
  },
  {
   "cell_type": "code",
   "execution_count": 16,
   "metadata": {},
   "outputs": [],
   "source": [
    "Uprofile_mean = Uprofile_inst.rolling(dim={'t':case.Navg}).mean()"
   ]
  },
  {
   "cell_type": "code",
   "execution_count": 17,
   "metadata": {},
   "outputs": [],
   "source": [
    "Uprofile = Uprofile_inst.mean(dim='t') # average over t,x,y: U(z)"
   ]
  },
  {
   "cell_type": "code",
   "execution_count": 18,
   "metadata": {},
   "outputs": [
    {
     "data": {
      "text/plain": [
       "((875, 35), (875, 35), (35,))"
      ]
     },
     "execution_count": 18,
     "metadata": {},
     "output_type": "execute_result"
    }
   ],
   "source": [
    "Uprofile_inst.shape, Uprofile_mean.shape, Uprofile.shape"
   ]
  },
  {
   "cell_type": "code",
   "execution_count": 19,
   "metadata": {},
   "outputs": [],
   "source": [
    "# profile envelope\n",
    "Uprofile_min = Uprofile_inst.min(dim='t')\n",
    "Uprofile_max = Uprofile_inst.max(dim='t')\n",
    "Uprofile_std = Uprofile_inst.std(dim='t')"
   ]
  },
  {
   "cell_type": "markdown",
   "metadata": {},
   "source": [
    "## Estimate simulated $\\alpha$"
   ]
  },
  {
   "cell_type": "code",
   "execution_count": 20,
   "metadata": {},
   "outputs": [],
   "source": [
    "alpha,R2 = fit_power_law_alpha(z,Uprofile,\n",
    "                               zref=case.turbine.zhub,\n",
    "                               Uref=case.Uref)"
   ]
  },
  {
   "cell_type": "markdown",
   "metadata": {},
   "source": [
    "## Plot"
   ]
  },
  {
   "cell_type": "code",
   "execution_count": 21,
   "metadata": {},
   "outputs": [
    {
     "data": {
      "text/plain": [
       "<matplotlib.legend.Legend at 0x1221ada9e8>"
      ]
     },
     "execution_count": 21,
     "metadata": {},
     "output_type": "execute_result"
    },
    {
     "data": {
      "image/png": "[encoded data removed]",
      "text/plain": [
       "<Figure size 288x432 with 1 Axes>"
      ]
     },
     "metadata": {
      "needs_background": "light"
     },
     "output_type": "display_data"
    }
   ],
   "source": [
    "fig,ax = plt.subplots(figsize=(4,6))\n",
    "ax.plot(Uprofile,z,'k',lw=3,label='simulated mean')\n",
    "#ax.fill_betweenx(z, Uprofile_min, Uprofile_max)\n",
    "ax.fill_betweenx(z, Uprofile-Uprofile_std, Uprofile+Uprofile_std)\n",
    "\n",
    "U_powerlaw = case.Uref * (z/case.turbine.zhub)**case.alpha\n",
    "ax.plot(U_powerlaw,z,'r',label=r'$\\alpha = {:g}$'.format(case.alpha))\n",
    "\n",
    "U_powerlaw = case.Uref * (z/case.turbine.zhub)**alpha\n",
    "ax.plot(U_powerlaw,z,color='b',label=r'$\\alpha = {:g}$'.format(alpha))\n",
    "\n",
    "ax.legend()"
   ]
  },
  {
   "cell_type": "markdown",
   "metadata": {},
   "source": [
    "## save data\n",
    "Values/nans for *rolling mean* `U_mean` of upstream sampled inflow for `Noffset==7`, `Navg==60`, and `Ntimes==1663`:\n",
    "```\n",
    "tidx  U(x=-2.5D)      U(x=0)\n",
    "---  ---------------  -----------\n",
    "0     nan             ???\n",
    "7     nan             U_mean(t=0)==nan\n",
    "59    U_mean(t=59)    U_mean(t=52)==nan\n",
    "66    U_mean(t=66)    U_mean(t=59)\n",
    "1655  U_mean(t=1655)  U_mean(t=1648)\n",
    "1662  U_mean(t=1662)  U_mean(t=1655)\n",
    "```\n",
    "Therefore,\n",
    "- upstream U(t,z) for t $\\in$ [`Navg`-1, -`Noffset`]\n",
    "- inflow U(t,z) for t $\\in$ [`Navg`+`Noffset`-1, -1]"
   ]
  },
  {
   "cell_type": "code",
   "execution_count": 22,
   "metadata": {},
   "outputs": [
    {
     "data": {
      "text/plain": [
       "10"
      ]
     },
     "execution_count": 22,
     "metadata": {},
     "output_type": "execute_result"
    }
   ],
   "source": [
    "# number of planes before inflow hits the rotor\n",
    "Noffset = int(-case.upstreamD*V27.D / case.Uref)\n",
    "Noffset"
   ]
  },
  {
   "cell_type": "code",
   "execution_count": 23,
   "metadata": {},
   "outputs": [],
   "source": [
    "np.savez(os.path.join(case.casedir,'inflow.npz'), z=z, U=Uprofile_mean.values)"
   ]
  },
  {
   "cell_type": "code",
   "execution_count": null,
   "metadata": {},
   "outputs": [],
   "source": []
  }
 ],
 "metadata": {
  "kernelspec": {
   "display_name": "Python 3",
   "language": "python",
   "name": "python3"
  },
  "language_info": {
   "codemirror_mode": {
    "name": "ipython",
    "version": 3
   },
   "file_extension": ".py",
   "mimetype": "text/x-python",
   "name": "python",
   "nbconvert_exporter": "python",
   "pygments_lexer": "ipython3",
   "version": "3.7.1"
  }
 },
 "nbformat": 4,
 "nbformat_minor": 2
}
