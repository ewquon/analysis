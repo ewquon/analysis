{
 "cells": [
  {
   "cell_type": "code",
   "execution_count": 1,
   "metadata": {},
   "outputs": [],
   "source": [
    "%load_ext autoreload\n",
    "%autoreload 2"
   ]
  },
  {
   "cell_type": "code",
   "execution_count": 2,
   "metadata": {},
   "outputs": [],
   "source": [
    "%matplotlib inline\n",
    "import numpy as np\n",
    "import pandas as pd\n",
    "import matplotlib.pyplot as plt\n",
    "import matplotlib.dates as mdates\n",
    "from matplotlib.cm import get_cmap\n",
    "colors = plt.rcParams['axes.prop_cycle'].by_key()['color']"
   ]
  },
  {
   "cell_type": "code",
   "execution_count": 3,
   "metadata": {},
   "outputs": [
    {
     "ename": "ImportError",
     "evalue": "cannot import name 'profiler' from 'mmctools.measurements.radar' (/Users/equon/a2e-mmc/mmctools/measurements/radar.py)",
     "output_type": "error",
     "traceback": [
      "\u001b[0;31m---------------------------------------------------------------------------\u001b[0m",
      "\u001b[0;31mImportError\u001b[0m                               Traceback (most recent call last)",
      "\u001b[0;32m<ipython-input-3-3c927999a6f2>\u001b[0m in \u001b[0;36m<module>\u001b[0;34m\u001b[0m\n\u001b[1;32m      2\u001b[0m \u001b[0;31m#from datatools.remote_sensing import ESRL_wind_profiler, Vaisala_CL31\u001b[0m\u001b[0;34m\u001b[0m\u001b[0;34m\u001b[0m\u001b[0;34m\u001b[0m\u001b[0m\n\u001b[1;32m      3\u001b[0m \u001b[0;32mfrom\u001b[0m \u001b[0mmmctools\u001b[0m\u001b[0;34m.\u001b[0m\u001b[0mdataloaders\u001b[0m \u001b[0;32mimport\u001b[0m \u001b[0;34m*\u001b[0m\u001b[0;34m\u001b[0m\u001b[0;34m\u001b[0m\u001b[0m\n\u001b[0;32m----> 4\u001b[0;31m \u001b[0;32mfrom\u001b[0m \u001b[0mmmctools\u001b[0m\u001b[0;34m.\u001b[0m\u001b[0mmeasurements\u001b[0m\u001b[0;34m.\u001b[0m\u001b[0mradar\u001b[0m \u001b[0;32mimport\u001b[0m \u001b[0mprofiler\u001b[0m\u001b[0;34m\u001b[0m\u001b[0;34m\u001b[0m\u001b[0m\n\u001b[0m\u001b[1;32m      5\u001b[0m \u001b[0;32mfrom\u001b[0m \u001b[0mmmctools\u001b[0m\u001b[0;34m.\u001b[0m\u001b[0mmeasurements\u001b[0m\u001b[0;34m.\u001b[0m\u001b[0mlidar\u001b[0m \u001b[0;32mimport\u001b[0m \u001b[0mVaisala_CL31\u001b[0m\u001b[0;34m\u001b[0m\u001b[0;34m\u001b[0m\u001b[0m\n",
      "\u001b[0;31mImportError\u001b[0m: cannot import name 'profiler' from 'mmctools.measurements.radar' (/Users/equon/a2e-mmc/mmctools/measurements/radar.py)"
     ]
    }
   ],
   "source": [
    "#from datatools import wfip2\n",
    "#from datatools.remote_sensing import ESRL_wind_profiler, Vaisala_CL31\n",
    "from mmctools.dataloaders import *\n",
    "from mmctools.measurements.radar import profiler\n",
    "from mmctools.measurements.lidar import Vaisala_CL31"
   ]
  },
  {
   "cell_type": "markdown",
   "metadata": {},
   "source": [
    "# Compare PBL height (mixing height) observations\n",
    "also see previous analysis: `~/WFIP2/PBL_characterization_2016-11-21`"
   ]
  },
  {
   "cell_type": "markdown",
   "metadata": {},
   "source": [
    "## read radar.z04.b0 data\n",
    "Radar • ESRL Wind Profiler with RASS, Wasco Airport • Reviewed Data\n",
    "\n",
    "45.59011, -120.67193\n",
    "\n",
    "Averaged at interval of 60 minutes at the *start* of the bin"
   ]
  },
  {
   "cell_type": "code",
   "execution_count": null,
   "metadata": {},
   "outputs": [],
   "source": [
    "elev = 456. # [m]"
   ]
  },
  {
   "cell_type": "raw",
   "metadata": {},
   "source": [
    "%%time\n",
    "# <2 min\n",
    "# part a, w/ .winds.txt extension\n",
    "df_a0 = wfip2.read_date_dirs('/Users/equon/WFIP2/Wasco/radar.z04.b0',expected_date_format='%Y%d',\n",
    "                             reader=profiler,ext='winds.txt',\n",
    "                             modes=[0],check_na=['SPD','DIR','SNR'],na_values=999999)\n",
    "df_a1 = wfip2.read_date_dirs('/Users/equon/WFIP2/Wasco/radar.z04.b0',expected_date_format='%Y%d',\n",
    "                             reader=profiler,ext='winds.txt',\n",
    "                             modes=[1],check_na=['SPD','DIR','SNR'],na_values=999999)                             "
   ]
  },
  {
   "cell_type": "raw",
   "metadata": {},
   "source": [
    "%%time\n",
    "# 1 min\n",
    "# part b, w/ .winds extension\n",
    "df_b0 = wfip2.read_date_dirs('/Users/equon/WFIP2/Wasco/radar.z04.b0',expected_date_format='%Y%d',\n",
    "                             reader=profiler,ext='winds',\n",
    "                             modes=[0],check_na=['SPD','DIR','SNR'],na_values=999999)\n",
    "df_b1 = wfip2.read_date_dirs('/Users/equon/WFIP2/Wasco/radar.z04.b0',expected_date_format='%Y%d',\n",
    "                             reader=profiler,ext='winds',\n",
    "                             modes=[1],check_na=['SPD','DIR','SNR'],na_values=999999)                             "
   ]
  },
  {
   "cell_type": "raw",
   "metadata": {},
   "source": [
    "wind0 = pd.concat([df_a0,df_b0]).set_index('date_time')\n",
    "wind1 = pd.concat([df_a1,df_b1]).set_index('date_time')"
   ]
  },
  {
   "cell_type": "raw",
   "metadata": {},
   "source": [
    "%%time\n",
    "# 1 min\n",
    "rass = wfip2.read_date_dirs('/Users/equon/WFIP2/Wasco/radar.z04.b0',expected_date_format='%Y%d',\n",
    "                            reader=profiler,ext='temp.txt',\n",
    "                            modes=1,check_na=['T','Tc','W'])"
   ]
  },
  {
   "cell_type": "raw",
   "metadata": {},
   "source": [
    "rass = rass.set_index('date_time')"
   ]
  },
  {
   "cell_type": "raw",
   "metadata": {},
   "source": [
    "wind0.to_csv('data/Wasco_radar_wind_mode0.csv')\n",
    "wind1.to_csv('data/Wasco_radar_wind_mode1.csv')\n",
    "rass.to_csv('data/Wasco_radar_rass.csv')"
   ]
  },
  {
   "cell_type": "code",
   "execution_count": null,
   "metadata": {},
   "outputs": [],
   "source": [
    "wind = [\n",
    "    pd.read_csv('data/Wasco_radar_wind_mode{:d}.csv'.format(i),parse_dates=['date_time']).set_index('date_time')\n",
    "    for i in range(2)\n",
    "]\n",
    "rass = pd.read_csv('data/Wasco_radar_rass.csv',parse_dates=['date_time']).set_index('date_time')"
   ]
  },
  {
   "cell_type": "code",
   "execution_count": null,
   "metadata": {},
   "outputs": [],
   "source": [
    "wind[0].head()"
   ]
  },
  {
   "cell_type": "code",
   "execution_count": null,
   "metadata": {},
   "outputs": [],
   "source": [
    "wind[1].head()"
   ]
  },
  {
   "cell_type": "code",
   "execution_count": null,
   "metadata": {},
   "outputs": [],
   "source": [
    "rass.head()"
   ]
  },
  {
   "cell_type": "code",
   "execution_count": null,
   "metadata": {},
   "outputs": [],
   "source": [
    "z = rass['HT'].unique()"
   ]
  },
  {
   "cell_type": "markdown",
   "metadata": {},
   "source": [
    "## calculate virtual potential temperature\n",
    "NOAA approach (from Irina Djalalova, 2019-01-31):\n",
    "- corrected temperature is _not_ used (correction is only for vertical velocity and has no appreciable effect; radio frequency interference and outliers are not accounted for)\n",
    "- assumes standard atmosphere (http://glossary.ametsoc.org/wiki/Standard_atmosphere)\n",
    "\n",
    "Equations:\n",
    "\n",
    "1. Barometric formula for an exponential atmosphere with nonzero lapse rate\n",
    "$p = p_0 \\left[\\frac{T_0 - \\Gamma(h-h_0)}{T_0}\\right]^{1/(\\Gamma R/g)}\n",
    "= p_0 \\left[\\frac{T_0/\\Gamma - h_{asl}}{T_0/\\Gamma}\\right]^{1/(\\Gamma R/g)}$\n",
    "2. Poisson equation - the relationship between temperature T and pressure p of an ideal gas undergoing an adiabatic process\n",
    "\n",
    "Notes:\n",
    "- lapse rate ($\\Gamma$) is 6.5$^\\circ$C/km, $\\Gamma R/g$ = 0.19\n",
    "- temperature at zero pressure altitude is 15 deg C; $T_0/\\Gamma$ = 44331 m\n",
    "- for one standard atmosphere, $p_0$ = 101,325 Pa; Eqn 1 can also be written\n",
    "$p = 100\\left(\\frac{44331-h_{asl}}{11880}\\right)^{1/0.19}\n",
    "= 100\\left(1013.25^{0.19}\\frac{44331-h_{asl}}{44331}\\right)^{1/0.19}\n",
    "= p_0\\left(\\frac{44331-h_{asl}}{44331}\\right)^{1/0.19}$\n",
    "- $R/c_p \\approx R_d/C_{pd} \\approx 287./1004. = 0.286$"
   ]
  },
  {
   "cell_type": "code",
   "execution_count": null,
   "metadata": {},
   "outputs": [],
   "source": [
    "rass['P'] = 100.*((44331.514 - (rass['HT']*1000.+elev))/11880.516)**(1./0.1902632)"
   ]
  },
  {
   "cell_type": "code",
   "execution_count": null,
   "metadata": {},
   "outputs": [],
   "source": [
    "Pref = 100000. # reference pressure [Pa]\n",
    "rass['VPT'] = ((rass['T']+273.16)*(Pref/rass['P'])**0.286) # [K]"
   ]
  },
  {
   "cell_type": "code",
   "execution_count": null,
   "metadata": {},
   "outputs": [],
   "source": [
    "rass_clean = rass.loc[rass['QC_T']==0]\n",
    "len(rass),len(rass_clean)"
   ]
  },
  {
   "cell_type": "markdown",
   "metadata": {},
   "source": [
    "## check Nov 21, 2016"
   ]
  },
  {
   "cell_type": "code",
   "execution_count": null,
   "metadata": {},
   "outputs": [],
   "source": [
    "tstart,tend = pd.to_datetime('2016-11-21 17:00'), pd.to_datetime('2016-11-22 05:00')\n",
    "#datetime_range = (rass.index >= tstart) & (rass.index <= tend)"
   ]
  },
  {
   "cell_type": "markdown",
   "metadata": {},
   "source": [
    "### first, check potential temperature profile"
   ]
  },
  {
   "cell_type": "code",
   "execution_count": null,
   "metadata": {},
   "outputs": [],
   "source": [
    "datetime_range = (rass.index >= tstart-pd.to_timedelta(10,unit='m')) & (rass.index <= tend)\n",
    "rass_nov21 = rass.loc[datetime_range].pivot(columns='HT',values='VPT')"
   ]
  },
  {
   "cell_type": "code",
   "execution_count": null,
   "metadata": {},
   "outputs": [],
   "source": [
    "rass_nov21.head()"
   ]
  },
  {
   "cell_type": "code",
   "execution_count": null,
   "metadata": {},
   "outputs": [],
   "source": [
    "len(rass_nov21),rass_nov21.index"
   ]
  },
  {
   "cell_type": "code",
   "execution_count": null,
   "metadata": {},
   "outputs": [],
   "source": [
    "tt,zz = np.meshgrid(rass_nov21.index.unique(),z,indexing='ij')"
   ]
  },
  {
   "cell_type": "code",
   "execution_count": null,
   "metadata": {},
   "outputs": [],
   "source": [
    "fig,ax = plt.subplots(figsize=(11,4))\n",
    "pcm = ax.pcolormesh(tt,1000*zz,rass_nov21)\n",
    "fig.colorbar(pcm)\n",
    "ax.set_xlabel('UTC')\n",
    "ax.set_ylabel('height AGL [m]')\n",
    "\n",
    "ax.set_xticks(pd.date_range(tstart,tend,freq='H'))#, minor=True)\n",
    "ax.xaxis.set_major_locator(mdates.HourLocator())\n",
    "#ax.xaxis.set_major_locator(mdates.DayLocator())\n",
    "#ax.xaxis.set_minor_locator(mdates.HourLocator())\n",
    "#ax.xaxis.set_major_formatter(mdates.DateFormatter('%d-$b-%y'))\n",
    "#ax.xaxis.set_minor_formatter(mdates.DateFormatter('%H'))\n",
    "ax.xaxis.set_major_formatter(mdates.DateFormatter('%H'))\n",
    "ax.set_title('{:s} to {:s}'.format(str(tstart.date()),str(tend.date())))"
   ]
  },
  {
   "cell_type": "code",
   "execution_count": null,
   "metadata": {},
   "outputs": [],
   "source": [
    "fig,ax = plt.subplots(figsize=(4,8))\n",
    "cm = get_cmap('viridis')\n",
    "Tperiod = (rass_nov21.index[-1] - rass_nov21.index[0]).total_seconds()\n",
    "for ti,row in rass_nov21.iterrows():\n",
    "    tfrac = (ti - rass_nov21.index[0]).total_seconds() / Tperiod\n",
    "    if (tfrac==0) or (tfrac==1):\n",
    "        label = str(ti)\n",
    "    else:\n",
    "        label = ''\n",
    "    ax.plot(row.values,1000*row.index,color=cm(tfrac),label=label)\n",
    "ax.set_xlabel(r'$\\theta_v$')\n",
    "ax.set_ylabel('height AGL [m]')\n",
    "ax.legend()"
   ]
  },
  {
   "cell_type": "markdown",
   "metadata": {},
   "source": [
    "### check signal-to-noise"
   ]
  },
  {
   "cell_type": "code",
   "execution_count": null,
   "metadata": {},
   "outputs": [],
   "source": [
    "datetime_range = [\n",
    "    (wind[i].index >= tstart) & (wind[i].index <= tend)\n",
    "    for i in range(2)\n",
    "]\n",
    "snr0_nov21 = [\n",
    "    wind[i].loc[datetime_range[i]].pivot(columns='HT',values='SNR.0')\n",
    "    for i in range(2)\n",
    "]\n",
    "snr1_nov21 = [\n",
    "    wind[i].loc[datetime_range[i]].pivot(columns='HT',values='SNR.1')\n",
    "    for i in range(2)\n",
    "]\n",
    "snr2_nov21 = [\n",
    "    wind[i].loc[datetime_range[i]].pivot(columns='HT',values='SNR.2')\n",
    "    for i in range(2)\n",
    "]"
   ]
  },
  {
   "cell_type": "code",
   "execution_count": null,
   "metadata": {},
   "outputs": [],
   "source": [
    "for i in range(2):\n",
    "    print(len(snr0_nov21[i]),snr0_nov21[i].index)"
   ]
  },
  {
   "cell_type": "code",
   "execution_count": null,
   "metadata": {},
   "outputs": [],
   "source": [
    "for i in range(2):\n",
    "    fig,ax = plt.subplots(figsize=(6,6))\n",
    "    ax.plot(snr0_nov21[i].values.ravel(),snr1_nov21[i].values.ravel(),'.',label='SNR0,1')\n",
    "    ax.plot(snr0_nov21[i].values.ravel(),snr2_nov21[i].values.ravel(),'.',label='SNR0,2')\n",
    "    ax.plot(snr1_nov21[i].values.ravel(),snr2_nov21[i].values.ravel(),'.',label='SNR1,2')\n",
    "    ax.plot([-25,5],[-25,5],'k--')\n",
    "    ax.legend()\n",
    "    ax.set_title('mode {:d}'.format(i))"
   ]
  },
  {
   "cell_type": "code",
   "execution_count": null,
   "metadata": {},
   "outputs": [],
   "source": [
    "fig,ax = plt.subplots(ncols=2,sharey=True,figsize=(8,8))\n",
    "cm = get_cmap('viridis')\n",
    "for i in range(2):\n",
    "    Tperiod = (snr0_nov21[i].index[-1] - snr0_nov21[i].index[0]).total_seconds()\n",
    "    for ti,row in snr0_nov21[i].iterrows():\n",
    "        tfrac = (ti - snr0_nov21[i].index[0]).total_seconds() / Tperiod\n",
    "        #if (tfrac==0) or (tfrac==1):\n",
    "        #    label = str(ti)\n",
    "        #else:\n",
    "        #    label = ''\n",
    "        label = str(ti.strftime('%H:%M'))\n",
    "        ax[i].plot(row.values,1000*row.index,color=cm(tfrac),label=label)\n",
    "        ax[i].set_title('mode {:d}'.format(i))\n",
    "        ax[i].legend()\n",
    "ax[0].set_xlabel(r'signal-to-noise ratio')\n",
    "ax[1].set_xlabel(r'signal-to-noise ratio')\n",
    "ax[0].set_ylabel('height AGL [m]')\n",
    "fig.suptitle('beam 0')"
   ]
  },
  {
   "cell_type": "code",
   "execution_count": null,
   "metadata": {},
   "outputs": [],
   "source": [
    "# average 3 beams\n",
    "snr_nov21 = [\n",
    "    (snr0_nov21[i] + snr1_nov21[i] + snr2_nov21[i])/3\n",
    "    for i in range(2)\n",
    "]"
   ]
  },
  {
   "cell_type": "code",
   "execution_count": null,
   "metadata": {},
   "outputs": [],
   "source": [
    "fig,ax = plt.subplots(ncols=2,sharey=True,figsize=(8,8))\n",
    "cm = get_cmap('viridis')\n",
    "for i in range(2):\n",
    "    Tperiod = (snr_nov21[i].index[-1] - snr_nov21[i].index[0]).total_seconds()\n",
    "    for ti,row in snr_nov21[i].iterrows():\n",
    "        tfrac = (ti - snr_nov21[i].index[0]).total_seconds() / Tperiod\n",
    "        #if (tfrac==0) or (tfrac==1):\n",
    "        #    label = str(ti)\n",
    "        #else:\n",
    "        #    label = ''\n",
    "        label = str(ti.strftime('%H:%M'))\n",
    "        ax[i].plot(row.values,1000*row.index,color=cm(tfrac),label=label)\n",
    "        ax[i].set_title('mode {:d}'.format(i))\n",
    "        ax[i].legend()\n",
    "ax[0].set_ylabel('height AGL [m]')\n",
    "ax[0].set_xlabel(r'signal-to-noise ratio')\n",
    "ax[1].set_xlabel(r'signal-to-noise ratio')\n",
    "fig.suptitle('average of 3 beams')"
   ]
  },
  {
   "cell_type": "markdown",
   "metadata": {},
   "source": [
    "### read ceilometer data for comparison"
   ]
  },
  {
   "cell_type": "raw",
   "metadata": {},
   "source": [
    "%%time\n",
    "# takes ~1min\n",
    "ceilo = read_dir(dpath='/Users/equon/WFIP2/Wasco/ceil.z01.00',\n",
    "                 reader=Vaisala_CL31,ext='.xlsx',\n",
    "                 unpack=False)"
   ]
  },
  {
   "cell_type": "raw",
   "metadata": {},
   "source": [
    "ceilo.head()"
   ]
  },
  {
   "cell_type": "raw",
   "metadata": {},
   "source": [
    "ceilo.to_csv('data/Wasco_ceilometer.csv')"
   ]
  },
  {
   "cell_type": "code",
   "execution_count": null,
   "metadata": {},
   "outputs": [],
   "source": [
    "ceilo = pd.read_csv('data/Wasco_ceilometer.csv',parse_dates=['date_time']).set_index('date_time')"
   ]
  },
  {
   "cell_type": "code",
   "execution_count": null,
   "metadata": {},
   "outputs": [],
   "source": [
    "# throw out unused cloud info\n",
    "ceilo = ceilo.drop(columns=['Status','Height1','Height2','Height3'])"
   ]
  },
  {
   "cell_type": "code",
   "execution_count": null,
   "metadata": {},
   "outputs": [],
   "source": [
    "# reshape data \n",
    "ceilo = ceilo.stack().reset_index(1).rename(columns={'level_1':'height',0:'backscat'})"
   ]
  },
  {
   "cell_type": "code",
   "execution_count": null,
   "metadata": {},
   "outputs": [],
   "source": [
    "# trim values above say, 2 km or so\n",
    "ceilo['height'] = ceilo['height'].astype(float)\n",
    "ceilo = ceilo.loc[ceilo['height'] <= 2500.]\n",
    "ceilo_heights = ceilo['height'].unique()"
   ]
  },
  {
   "cell_type": "code",
   "execution_count": null,
   "metadata": {},
   "outputs": [],
   "source": [
    "# do some averaging\n",
    "ceilo = ceilo.pivot(columns='height',values='backscat').resample('30min',closed='left').mean()"
   ]
  },
  {
   "cell_type": "code",
   "execution_count": null,
   "metadata": {},
   "outputs": [],
   "source": [
    "ceilo"
   ]
  },
  {
   "cell_type": "markdown",
   "metadata": {},
   "source": [
    "### 1-hr near-neutral period (SciTech 2019 study)"
   ]
  },
  {
   "cell_type": "code",
   "execution_count": null,
   "metadata": {},
   "outputs": [],
   "source": [
    "signals = ['SNR.0','SNR.1','SNR.2']\n",
    "inrange = (wind[0].index >= '2016-11-21 22:00') & (wind[0].index <= '2016-11-21 23:15')\n",
    "heights = 1000 * wind[0].loc[inrange,'HT'].unique()\n",
    "inrange1 = (wind[1].index >= '2016-11-21 22:00') & (wind[1].index <= '2016-11-21 23:15')\n",
    "heights1 = 1000 * wind[1].loc[inrange1,'HT'].unique()"
   ]
  },
  {
   "cell_type": "code",
   "execution_count": null,
   "metadata": {},
   "outputs": [],
   "source": [
    "fig,ax = plt.subplots(figsize=(4,8))\n",
    "df0 = wind[0].loc[inrange,signals]\n",
    "for t in df0.index.unique():\n",
    "    for sig in signals:\n",
    "        ax.plot(df0.loc[df0.index==t,sig],heights)\n",
    "ax.axhline(600,color='k',ls='--')\n",
    "ax.set_xlabel(r'signal-to-noise ratio',fontsize='large')\n",
    "ax.set_ylabel('height AGL [m]',fontsize='large')\n",
    "ax.set_title('Radar Wind Profiler',fontsize='x-large')"
   ]
  },
  {
   "cell_type": "code",
   "execution_count": null,
   "metadata": {},
   "outputs": [],
   "source": [
    "ceilo_inrange = (ceilo.index >= '2016-11-21 22:00') & (ceilo.index <= '2016-11-21 23:00')"
   ]
  },
  {
   "cell_type": "code",
   "execution_count": null,
   "metadata": {},
   "outputs": [],
   "source": [
    "fig,ax = plt.subplots(figsize=(8,8),ncols=2,sharey=True)\n",
    "df0 = wind[0].loc[inrange,signals]\n",
    "colorlist = [colors[i] for i in (0,2)]\n",
    "for itime,t in enumerate(df0.index.unique()):\n",
    "    df = df0.loc[df0.index==t]\n",
    "    color = colorlist[itime]\n",
    "    ax[0].plot(df.mean(axis=1),heights,color=color,label=str(t))\n",
    "    ax[0].fill_betweenx(heights,df.min(axis=1),df.max(axis=1),color=color,alpha=0.2)\n",
    "ax[0].axhline(600,color='k',lw=1,alpha=0.5)\n",
    "ax[0].set_ylim((0,2000))\n",
    "ax[0].legend()\n",
    "ax[0].set_ylabel('height AGL [m]',fontsize='large')\n",
    "ax[0].set_xlabel('signal-to-noise ratio [-]',fontsize='large')\n",
    "ax[0].set_title('Radar Wind Profiler',fontsize='x-large')\n",
    "\n",
    "df = ceilo.loc[ceilo_inrange]\n",
    "for itime,(t,rowdata) in enumerate(df.iterrows()):\n",
    "    ax[1].plot(rowdata,ceilo_heights,color=colors[itime],label=str(t))\n",
    "ax[1].axhline(600,color='k',lw=1,alpha=0.5)\n",
    "ax[1].set_xlim((-15,30))\n",
    "ax[1].legend()\n",
    "ax[1].set_xlabel(r'backscatter [10$^{-4}$srad$^{-1}$km$^{-1}$]',fontsize='large')\n",
    "ax[1].set_title('Ceilometer',fontsize='x-large')"
   ]
  },
  {
   "cell_type": "code",
   "execution_count": null,
   "metadata": {},
   "outputs": [],
   "source": [
    "# backscatter profile filtered to radar resolution (~60 m ==> 6 pts w/ 10-m spacing)\n",
    "N = 6\n",
    "fltr = np.ones((N,)) / N\n",
    "\n",
    "fig,ax = plt.subplots(figsize=(12,8),ncols=3,sharey=True)\n",
    "\n",
    "spd0 = wind[0].loc[inrange,['SPD']]\n",
    "spd1 = wind[1].loc[inrange1,['SPD']]\n",
    "snr = wind[0].loc[inrange,signals]\n",
    "colorlist = [colors[i] for i in (0,2)]\n",
    "for itime,t in enumerate(spd0.index.unique()):\n",
    "    df = spd0.loc[t]\n",
    "    ax[0].plot(df.mean(axis=1),heights,color=colorlist[itime],label=str(t))\n",
    "for itime,t in enumerate(spd1.index.unique()):\n",
    "    df = spd1.loc[t]\n",
    "    ax[0].plot(df.mean(axis=1),heights1,color=colorlist[itime],ls='--')\n",
    "for itime,t in enumerate(snr.index.unique()):\n",
    "    df = snr.loc[t]\n",
    "    color = colorlist[itime]\n",
    "    ax[1].plot(df.mean(axis=1),heights,color=color,label=str(t))\n",
    "    ax[1].fill_betweenx(heights,df.min(axis=1),df.max(axis=1),color=color,alpha=0.2)\n",
    "ax[0].axhline(600,color='k',lw=1,alpha=0.5)\n",
    "ax[1].axhline(600,color='k',lw=1,alpha=0.5)\n",
    "ax[0].set_ylim((0,2000))\n",
    "ax[0].set_ylabel('height AGL [m]',fontsize='large')\n",
    "ax[0].legend()\n",
    "ax[1].legend()\n",
    "ax[0].set_xlabel('wind speed [m/s]',fontsize='large')\n",
    "ax[0].set_title('Radar Wind Profiler',fontsize='x-large')\n",
    "ax[1].set_xlabel('signal-to-noise ratio [-]',fontsize='large')\n",
    "ax[1].set_title('Radar Wind Profiler',fontsize='x-large')\n",
    "\n",
    "df = ceilo.loc[ceilo_inrange]\n",
    "zvals = ceilo_heights[int(N/2):-int(N/2)+1]\n",
    "for itime,(t,rowdata) in enumerate(df.iterrows()):\n",
    "    #ax[1].plot(rowdata,ceilo_heights,color=colors[itime],label=str(t))\n",
    "    bs_filtered = np.convolve(rowdata,fltr,mode='valid)')\n",
    "    ax[2].plot(bs_filtered,zvals,color=colors[itime],label=str(t))\n",
    "ax[2].axhline(600,color='k',lw=1,alpha=0.5)\n",
    "ax[2].set_xlim((-15,30))\n",
    "ax[2].legend()\n",
    "ax[2].set_xlabel(r'backscatter [10$^{-4}$srad$^{-1}$km$^{-1}$]',fontsize='large')\n",
    "ax[2].set_title('Ceilometer (filtered)',fontsize='x-large')\n",
    "fig.savefig('figures/Wasco_PBL_height_20161121_22Z.png',dpi=150,bbox_inches='tight')"
   ]
  },
  {
   "cell_type": "code",
   "execution_count": null,
   "metadata": {},
   "outputs": [],
   "source": []
  }
 ],
 "metadata": {
  "kernelspec": {
   "display_name": "Python 3",
   "language": "python",
   "name": "python3"
  },
  "language_info": {
   "codemirror_mode": {
    "name": "ipython",
    "version": 3
   },
   "file_extension": ".py",
   "mimetype": "text/x-python",
   "name": "python",
   "nbconvert_exporter": "python",
   "pygments_lexer": "ipython3",
   "version": "3.7.1"
  }
 },
 "nbformat": 4,
 "nbformat_minor": 2
}
