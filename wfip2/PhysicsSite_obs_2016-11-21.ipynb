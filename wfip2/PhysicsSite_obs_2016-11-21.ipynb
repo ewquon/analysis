{
 "cells": [
  {
   "cell_type": "code",
   "execution_count": 1,
   "metadata": {},
   "outputs": [],
   "source": [
    "%load_ext autoreload\n",
    "%autoreload 2"
   ]
  },
  {
   "cell_type": "code",
   "execution_count": 2,
   "metadata": {},
   "outputs": [],
   "source": [
    "%matplotlib inline\n",
    "import os\n",
    "import numpy as np\n",
    "import matplotlib.pyplot as plt\n",
    "#import matplotlib.dates as mdates\n",
    "import pandas as pd"
   ]
  },
  {
   "cell_type": "code",
   "execution_count": 3,
   "metadata": {},
   "outputs": [],
   "source": [
    "colors = plt.rcParams['axes.prop_cycle'].by_key()['color']"
   ]
  },
  {
   "cell_type": "code",
   "execution_count": 4,
   "metadata": {},
   "outputs": [],
   "source": [
    "from mmctools.dataloaders import read_dir, read_date_dirs\n",
    "import mmctools.measurements.metmast as met"
   ]
  },
  {
   "cell_type": "code",
   "execution_count": 5,
   "metadata": {},
   "outputs": [],
   "source": [
    "from mmctools.helper_functions import T_to_Tv, covariance\n",
    "from abl.meteorology import fit_power_law_alpha"
   ]
  },
  {
   "cell_type": "markdown",
   "metadata": {},
   "source": [
    "# WFIP2/MMC Case  (2016-11-21) : simulation setup\n",
    "- \"CBS-\": cross-barrier synoptic\n",
    "- mountain waves\n",
    "- topographic wakes\n",
    "- power ramp event \"VOL\"\n",
    "\n",
    "Notes:\n",
    "- All data except for the PS12 met mast is processed on the fly\n",
    "- All statistics have timestamps aligned with the *beginning* of the interval"
   ]
  },
  {
   "cell_type": "code",
   "execution_count": 6,
   "metadata": {},
   "outputs": [],
   "source": [
    "starttime = pd.to_datetime('2016-11-21 17:00')\n",
    "endtime = pd.to_datetime('2016-11-22 04:00')  # radar data collection slightly offset from the hour\n",
    "\n",
    "simstart = pd.to_datetime('2016-11-21 22:00')\n",
    "simend = pd.to_datetime('2016-11-21 23:00')"
   ]
  },
  {
   "cell_type": "code",
   "execution_count": 7,
   "metadata": {},
   "outputs": [],
   "source": [
    "datadir = '/Users/equon/WFIP2'"
   ]
  },
  {
   "cell_type": "code",
   "execution_count": 8,
   "metadata": {},
   "outputs": [],
   "source": [
    "zhub = 80."
   ]
  },
  {
   "cell_type": "markdown",
   "metadata": {},
   "source": [
    "## read data"
   ]
  },
  {
   "cell_type": "markdown",
   "metadata": {},
   "source": [
    "### - 80-m met mast"
   ]
  },
  {
   "cell_type": "markdown",
   "metadata": {},
   "source": [
    "These files are a bit tricky because we want to parse the date from the filename but take the time info from the file. Resampling is performed by simply taking every 20th row (for data at 20 Hz). This may not be exact because the number of rows (i.e., datapoints) varies for some reason. A slower (but more reliable) alternative is to do `df.reset_index(1).resample('1s').first()` so that the first occurrence of each HH:MM:SS entry is taken.\n",
    "For two days of data, the walltime is...\n",
    "- 4 s per dataset, quick-and-dirty approach \n",
    "- 10 s per dataset, reading 20Hz data and resampling"
   ]
  },
  {
   "cell_type": "code",
   "execution_count": 9,
   "metadata": {
    "scrolled": true
   },
   "outputs": [
    {
     "name": "stdout",
     "output_type": "stream",
     "text": [
      "Processing /Users/equon/WFIP2/PS12/met.z28.b0/20161121\n",
      "  24 dataframes added\n",
      "Processing /Users/equon/WFIP2/PS12/met.z28.b0/20161122\n",
      "  24 dataframes added\n",
      "CPU times: user 18.7 s, sys: 3.11 s, total: 21.8 s\n",
      "Wall time: 10.5 s\n"
     ]
    }
   ],
   "source": [
    "%%time\n",
    "dapname = 'met.z28.b0'\n",
    "dpath = os.path.join(datadir,'PS12',dapname)\n",
    "PS12_sonic80s = read_date_dirs(dpath, ext='.txt', dir_filter='2016112[12]',\n",
    "                               reader=met.read_data, column_spec=met.Metek_USA1,\n",
    "                               height=80,\n",
    "                               datetime_start=lambda fname: fname,\n",
    "                               datetime_start_format=dapname+'.%Y%m%d.%H%M%S.sonic80ms.txt',\n",
    "                               data_freq='50ms', # recorded data at 20Hz\n",
    "                               #max_data_rows=72000, # deal with inconsistent output data length\n",
    "                               #output_freq=20, # read every 20 (quick & dirty resample to 1Hz)\n",
    "                               start=starttime,end=endtime,\n",
    "                               delim_whitespace=True, # kwarg to pd.read_csv()\n",
    "                               )\n",
    "PS12_sonic80s = PS12_sonic80s.reset_index(1).resample('1s').first().set_index('height',append=True)\n",
    "PS12_sonic80s.drop(columns='time',inplace=True)"
   ]
  },
  {
   "cell_type": "code",
   "execution_count": 10,
   "metadata": {
    "scrolled": true
   },
   "outputs": [
    {
     "name": "stdout",
     "output_type": "stream",
     "text": [
      "Processing /Users/equon/WFIP2/PS12/met.z29.b0/20161121\n",
      "  24 dataframes added\n",
      "Processing /Users/equon/WFIP2/PS12/met.z29.b0/20161122\n",
      "  24 dataframes added\n",
      "CPU times: user 18.8 s, sys: 2.85 s, total: 21.7 s\n",
      "Wall time: 11.3 s\n"
     ]
    }
   ],
   "source": [
    "%%time\n",
    "dapname = 'met.z29.b0'\n",
    "dpath = os.path.join(datadir,'PS12',dapname)\n",
    "PS12_sonic80w = read_date_dirs(dpath, ext='.txt', dir_filter='2016112[12]',\n",
    "                               reader=met.read_data, column_spec=met.Metek_USA1,\n",
    "                               height=80,\n",
    "                               datetime_start=lambda fname: fname,\n",
    "                               datetime_start_format=dapname+'.%Y%m%d.%H%M%S.sonic80mw.txt',\n",
    "                               data_freq='50ms', # recorded data at 20Hz\n",
    "                               #max_data_rows=72000, # deal with inconsistent output data length\n",
    "                               #output_freq=20, # read every 20 (quick & dirty resample to 1Hz)\n",
    "                               start=starttime,end=endtime,\n",
    "                               delim_whitespace=True, # kwarg to pd.read_csv()\n",
    "                               )\n",
    "PS12_sonic80w = PS12_sonic80w.reset_index(1).resample('1s').first().set_index('height',append=True)\n",
    "PS12_sonic80w.drop(columns='time',inplace=True)"
   ]
  },
  {
   "cell_type": "code",
   "execution_count": 11,
   "metadata": {
    "scrolled": true
   },
   "outputs": [
    {
     "name": "stdout",
     "output_type": "stream",
     "text": [
      "Processing /Users/equon/WFIP2/PS12/met.z30.b0/20161121\n",
      "  24 dataframes added\n",
      "Processing /Users/equon/WFIP2/PS12/met.z30.b0/20161122\n",
      "  24 dataframes added\n",
      "CPU times: user 18.9 s, sys: 2.89 s, total: 21.8 s\n",
      "Wall time: 11.7 s\n"
     ]
    }
   ],
   "source": [
    "%%time\n",
    "dapname = 'met.z30.b0'\n",
    "dpath = os.path.join(datadir,'PS12',dapname)\n",
    "PS12_sonic50s = read_date_dirs(dpath, ext='.txt', dir_filter='2016112[12]',\n",
    "                               reader=met.read_data, column_spec=met.Metek_USA1,\n",
    "                               height=50,\n",
    "                               datetime_start=lambda fname: fname,\n",
    "                               datetime_start_format=dapname+'.%Y%m%d.%H%M%S.sonic50ms.txt',\n",
    "                               data_freq='50ms', # recorded data at 20Hz\n",
    "                               #max_data_rows=72000, # deal with inconsistent output data length\n",
    "                               #output_freq=20, # read every 20 (quick & dirty resample to 1Hz)\n",
    "                               start=starttime,end=endtime,\n",
    "                               delim_whitespace=True, # kwarg to pd.read_csv()\n",
    "                               )\n",
    "PS12_sonic50s = PS12_sonic50s.reset_index(1).resample('1s').first().set_index('height',append=True)\n",
    "PS12_sonic50s.drop(columns='time',inplace=True)"
   ]
  },
  {
   "cell_type": "code",
   "execution_count": 12,
   "metadata": {
    "scrolled": true
   },
   "outputs": [
    {
     "name": "stdout",
     "output_type": "stream",
     "text": [
      "Processing /Users/equon/WFIP2/PS12/met.z31.b0/20161121\n",
      "  24 dataframes added\n",
      "Processing /Users/equon/WFIP2/PS12/met.z31.b0/20161122\n",
      "  24 dataframes added\n",
      "CPU times: user 18.9 s, sys: 3.03 s, total: 21.9 s\n",
      "Wall time: 11.7 s\n"
     ]
    }
   ],
   "source": [
    "%%time\n",
    "dapname = 'met.z31.b0'\n",
    "dpath = os.path.join(datadir,'PS12',dapname)\n",
    "PS12_sonic50w = read_date_dirs(dpath, ext='.txt', dir_filter='2016112[12]',\n",
    "                               reader=met.read_data, column_spec=met.Metek_USA1,\n",
    "                               height=50,\n",
    "                               datetime_start=lambda fname: fname,\n",
    "                               datetime_start_format=dapname+'.%Y%m%d.%H%M%S.sonic50mw.txt',\n",
    "                               data_freq='50ms', # recorded data at 20Hz\n",
    "                               #max_data_rows=72000, # deal with inconsistent output data length\n",
    "                               #output_freq=20, # read every 20 (quick & dirty resample to 1Hz)\n",
    "                               start=starttime,end=endtime,\n",
    "                               delim_whitespace=True, # kwarg to pd.read_csv()\n",
    "                               )\n",
    "PS12_sonic50w = PS12_sonic50w.reset_index(1).resample('1s').first().set_index('height',append=True)\n",
    "PS12_sonic50w.drop(columns='time',inplace=True)"
   ]
  },
  {
   "cell_type": "code",
   "execution_count": 13,
   "metadata": {},
   "outputs": [],
   "source": [
    "t = PS12_sonic80s.index.levels[0]\n",
    "assert(np.all(t==PS12_sonic80w.index.levels[0]))\n",
    "assert(np.all(t==PS12_sonic50s.index.levels[0]))\n",
    "assert(np.all(t==PS12_sonic50w.index.levels[0]))"
   ]
  },
  {
   "cell_type": "code",
   "execution_count": 14,
   "metadata": {},
   "outputs": [
    {
     "data": {
      "text/plain": [
       "DatetimeIndex(['2016-11-21 17:00:00', '2016-11-21 17:00:01',\n",
       "               '2016-11-21 17:00:02', '2016-11-21 17:00:03',\n",
       "               '2016-11-21 17:00:04', '2016-11-21 17:00:05',\n",
       "               '2016-11-21 17:00:06', '2016-11-21 17:00:07',\n",
       "               '2016-11-21 17:00:08', '2016-11-21 17:00:09',\n",
       "               ...\n",
       "               '2016-11-22 03:59:51', '2016-11-22 03:59:52',\n",
       "               '2016-11-22 03:59:53', '2016-11-22 03:59:54',\n",
       "               '2016-11-22 03:59:55', '2016-11-22 03:59:56',\n",
       "               '2016-11-22 03:59:57', '2016-11-22 03:59:58',\n",
       "               '2016-11-22 03:59:59', '2016-11-22 04:00:00'],\n",
       "              dtype='datetime64[ns]', name='datetime', length=39601, freq='S')"
      ]
     },
     "execution_count": 14,
     "metadata": {},
     "output_type": "execute_result"
    }
   ],
   "source": [
    "t"
   ]
  },
  {
   "cell_type": "code",
   "execution_count": 15,
   "metadata": {},
   "outputs": [
    {
     "data": {
      "text/html": [
       "<div>\n",
       "<style scoped>\n",
       "    .dataframe tbody tr th:only-of-type {\n",
       "        vertical-align: middle;\n",
       "    }\n",
       "\n",
       "    .dataframe tbody tr th {\n",
       "        vertical-align: top;\n",
       "    }\n",
       "\n",
       "    .dataframe thead th {\n",
       "        text-align: right;\n",
       "    }\n",
       "</style>\n",
       "<table border=\"1\" class=\"dataframe\">\n",
       "  <thead>\n",
       "    <tr style=\"text-align: right;\">\n",
       "      <th></th>\n",
       "      <th></th>\n",
       "      <th>w</th>\n",
       "      <th>Ts</th>\n",
       "      <th>wspd</th>\n",
       "      <th>wdir</th>\n",
       "    </tr>\n",
       "    <tr>\n",
       "      <th>datetime</th>\n",
       "      <th>height</th>\n",
       "      <th></th>\n",
       "      <th></th>\n",
       "      <th></th>\n",
       "      <th></th>\n",
       "    </tr>\n",
       "  </thead>\n",
       "  <tbody>\n",
       "    <tr>\n",
       "      <th rowspan=\"2\" valign=\"top\">2016-11-21 17:00:00</th>\n",
       "      <th>50</th>\n",
       "      <td>-0.01</td>\n",
       "      <td>279.36</td>\n",
       "      <td>2.832402</td>\n",
       "      <td>253.804527</td>\n",
       "    </tr>\n",
       "    <tr>\n",
       "      <th>80</th>\n",
       "      <td>0.29</td>\n",
       "      <td>280.45</td>\n",
       "      <td>4.421595</td>\n",
       "      <td>247.669203</td>\n",
       "    </tr>\n",
       "    <tr>\n",
       "      <th rowspan=\"2\" valign=\"top\">2016-11-21 17:00:01</th>\n",
       "      <th>50</th>\n",
       "      <td>0.03</td>\n",
       "      <td>279.32</td>\n",
       "      <td>2.847631</td>\n",
       "      <td>253.474204</td>\n",
       "    </tr>\n",
       "    <tr>\n",
       "      <th>80</th>\n",
       "      <td>0.43</td>\n",
       "      <td>280.41</td>\n",
       "      <td>4.478895</td>\n",
       "      <td>246.583045</td>\n",
       "    </tr>\n",
       "    <tr>\n",
       "      <th>2016-11-21 17:00:02</th>\n",
       "      <th>50</th>\n",
       "      <td>-0.02</td>\n",
       "      <td>279.30</td>\n",
       "      <td>2.748545</td>\n",
       "      <td>250.444333</td>\n",
       "    </tr>\n",
       "  </tbody>\n",
       "</table>\n",
       "</div>"
      ],
      "text/plain": [
       "                               w      Ts      wspd        wdir\n",
       "datetime            height                                    \n",
       "2016-11-21 17:00:00 50     -0.01  279.36  2.832402  253.804527\n",
       "                    80      0.29  280.45  4.421595  247.669203\n",
       "2016-11-21 17:00:01 50      0.03  279.32  2.847631  253.474204\n",
       "                    80      0.43  280.41  4.478895  246.583045\n",
       "2016-11-21 17:00:02 50     -0.02  279.30  2.748545  250.444333"
      ]
     },
     "execution_count": 15,
     "metadata": {},
     "output_type": "execute_result"
    }
   ],
   "source": [
    "ps12_s = pd.concat((PS12_sonic50s,PS12_sonic80s)).sort_index()\n",
    "ps12_s.head()"
   ]
  },
  {
   "cell_type": "code",
   "execution_count": 16,
   "metadata": {},
   "outputs": [
    {
     "data": {
      "text/html": [
       "<div>\n",
       "<style scoped>\n",
       "    .dataframe tbody tr th:only-of-type {\n",
       "        vertical-align: middle;\n",
       "    }\n",
       "\n",
       "    .dataframe tbody tr th {\n",
       "        vertical-align: top;\n",
       "    }\n",
       "\n",
       "    .dataframe thead th {\n",
       "        text-align: right;\n",
       "    }\n",
       "</style>\n",
       "<table border=\"1\" class=\"dataframe\">\n",
       "  <thead>\n",
       "    <tr style=\"text-align: right;\">\n",
       "      <th></th>\n",
       "      <th></th>\n",
       "      <th>w</th>\n",
       "      <th>Ts</th>\n",
       "      <th>wspd</th>\n",
       "      <th>wdir</th>\n",
       "    </tr>\n",
       "    <tr>\n",
       "      <th>datetime</th>\n",
       "      <th>height</th>\n",
       "      <th></th>\n",
       "      <th></th>\n",
       "      <th></th>\n",
       "      <th></th>\n",
       "    </tr>\n",
       "  </thead>\n",
       "  <tbody>\n",
       "    <tr>\n",
       "      <th rowspan=\"2\" valign=\"top\">2016-11-21 17:00:00</th>\n",
       "      <th>50</th>\n",
       "      <td>-0.03</td>\n",
       "      <td>279.47</td>\n",
       "      <td>2.873082</td>\n",
       "      <td>247.272754</td>\n",
       "    </tr>\n",
       "    <tr>\n",
       "      <th>80</th>\n",
       "      <td>-0.17</td>\n",
       "      <td>278.76</td>\n",
       "      <td>4.651075</td>\n",
       "      <td>243.710407</td>\n",
       "    </tr>\n",
       "    <tr>\n",
       "      <th rowspan=\"2\" valign=\"top\">2016-11-21 17:00:01</th>\n",
       "      <th>50</th>\n",
       "      <td>-0.04</td>\n",
       "      <td>279.50</td>\n",
       "      <td>2.790287</td>\n",
       "      <td>246.558746</td>\n",
       "    </tr>\n",
       "    <tr>\n",
       "      <th>80</th>\n",
       "      <td>-0.08</td>\n",
       "      <td>278.77</td>\n",
       "      <td>4.782353</td>\n",
       "      <td>241.934561</td>\n",
       "    </tr>\n",
       "    <tr>\n",
       "      <th>2016-11-21 17:00:02</th>\n",
       "      <th>50</th>\n",
       "      <td>-0.08</td>\n",
       "      <td>279.51</td>\n",
       "      <td>2.755721</td>\n",
       "      <td>248.275808</td>\n",
       "    </tr>\n",
       "  </tbody>\n",
       "</table>\n",
       "</div>"
      ],
      "text/plain": [
       "                               w      Ts      wspd        wdir\n",
       "datetime            height                                    \n",
       "2016-11-21 17:00:00 50     -0.03  279.47  2.873082  247.272754\n",
       "                    80     -0.17  278.76  4.651075  243.710407\n",
       "2016-11-21 17:00:01 50     -0.04  279.50  2.790287  246.558746\n",
       "                    80     -0.08  278.77  4.782353  241.934561\n",
       "2016-11-21 17:00:02 50     -0.08  279.51  2.755721  248.275808"
      ]
     },
     "execution_count": 16,
     "metadata": {},
     "output_type": "execute_result"
    }
   ],
   "source": [
    "ps12_w = pd.concat((PS12_sonic50w,PS12_sonic80w)).sort_index()\n",
    "ps12_w.head()"
   ]
  },
  {
   "cell_type": "markdown",
   "metadata": {},
   "source": [
    "### - UND met towers\n",
    "Notes:\n",
    "- These data are averaged at interval of 15 minutes at the *start* of the bin\n",
    "- \"Run A\": air and sonic temperature are equal\n",
    "- \"Run B\" (\"biomet\" data): accounts for T/RH measurements at the same height to correct fluxes"
   ]
  },
  {
   "cell_type": "code",
   "execution_count": 17,
   "metadata": {},
   "outputs": [],
   "source": [
    "def eddypro_height_wrapper(dpath,prefix,heights):\n",
    "    \"\"\"call reader for EddyPro output: read RM Young sonic data, postprocessed using\n",
    "    EddyPro, for different heights\n",
    "    \"\"\"\n",
    "    dflist = []\n",
    "    for h in heights:\n",
    "        df = read_dir(dpath=dpath, prefix=prefix, ext='.son{:02d}m.biomet.full_output.csv'.format(int(h)),\n",
    "                      reader=met.read_data, column_spec=met.EddyPro_biomet_fulloutput,\n",
    "                      skiprows=3, # throw out header lines\n",
    "                      start=starttime,end=endtime,\n",
    "                      height=h)        \n",
    "        dflist.append(df)\n",
    "    return pd.concat(dflist).sort_index()"
   ]
  },
  {
   "cell_type": "code",
   "execution_count": 267,
   "metadata": {},
   "outputs": [],
   "source": [
    "# ps01 = eddypro_height_wrapper(os.path.join(datadir,'PS01','met.z18.b0'),\n",
    "#                               prefix='met.z18.b0.2016112',\n",
    "#                               heights=[3.0,10.0] # \"Run A\"\n",
    "#                              )\n",
    "ps01 = eddypro_height_wrapper(os.path.join(datadir,'PS01','met.z18.b0'),\n",
    "                              prefix='met.z18.b0.2016112',\n",
    "                              heights=[3.0,10.0] # \"Run B\"\n",
    "                             )"
   ]
  },
  {
   "cell_type": "code",
   "execution_count": 268,
   "metadata": {},
   "outputs": [],
   "source": [
    "# ps02 = eddypro_height_wrapper(os.path.join(datadir,'PS02','met.z19.b0'),\n",
    "#                               prefix='met.z19.b0.2016112',\n",
    "#                               heights=[3.0,10.0,17.0], # \"Run A\" only\n",
    "#                              )\n",
    "ps02 = eddypro_height_wrapper(os.path.join(datadir,'PS02','met.z19.b0'),\n",
    "                              prefix='met.z19.b0.2016112',\n",
    "                              heights=[3.0,17.0], # \"Run B\"\n",
    "                             )"
   ]
  },
  {
   "cell_type": "code",
   "execution_count": 269,
   "metadata": {},
   "outputs": [],
   "source": [
    "# ps06 = eddypro_height_wrapper(os.path.join(datadir,'PS06','met.z21.b0'),\n",
    "#                               prefix='met.z21.b0.2016112',\n",
    "#                               heights=[3.0,10.0,21.0], # \"Run A\" only\n",
    "#                              )\n",
    "ps06 = eddypro_height_wrapper(os.path.join(datadir,'PS06','met.z21.b0'),\n",
    "                              prefix='met.z21.b0.2016112',\n",
    "                              heights=[3.0], #[3.0,21.0], # \"Run B\"\n",
    "                             )"
   ]
  },
  {
   "cell_type": "code",
   "execution_count": 270,
   "metadata": {},
   "outputs": [],
   "source": [
    "# ps11 = eddypro_height_wrapper(os.path.join(datadir,'PS11','met.z23.b0'),\n",
    "#                               prefix='met.z23.b0.2016112',\n",
    "#                               heights=[3.0,10.0], # \"Run A\"\n",
    "#                              )\n",
    "ps11 = eddypro_height_wrapper(os.path.join(datadir,'PS11','met.z23.b0'),\n",
    "                              prefix='met.z23.b0.2016112',\n",
    "                              heights=[3.0,10.0], # \"Run B\"\n",
    "                             )"
   ]
  },
  {
   "cell_type": "code",
   "execution_count": 271,
   "metadata": {},
   "outputs": [
    {
     "data": {
      "text/html": [
       "<div>\n",
       "<style scoped>\n",
       "    .dataframe tbody tr th:only-of-type {\n",
       "        vertical-align: middle;\n",
       "    }\n",
       "\n",
       "    .dataframe tbody tr th {\n",
       "        vertical-align: top;\n",
       "    }\n",
       "\n",
       "    .dataframe thead th {\n",
       "        text-align: right;\n",
       "    }\n",
       "</style>\n",
       "<table border=\"1\" class=\"dataframe\">\n",
       "  <thead>\n",
       "    <tr style=\"text-align: right;\">\n",
       "      <th></th>\n",
       "      <th></th>\n",
       "      <th>wspd</th>\n",
       "      <th>wdir</th>\n",
       "      <th>H</th>\n",
       "      <th>Ts</th>\n",
       "      <th>T</th>\n",
       "      <th>P</th>\n",
       "      <th>e</th>\n",
       "      <th>es</th>\n",
       "      <th>q</th>\n",
       "      <th>RH</th>\n",
       "      <th>Td</th>\n",
       "      <th>ustar</th>\n",
       "      <th>TKE</th>\n",
       "      <th>z_L</th>\n",
       "      <th>Tw_cov</th>\n",
       "    </tr>\n",
       "    <tr>\n",
       "      <th>datetime</th>\n",
       "      <th>height</th>\n",
       "      <th></th>\n",
       "      <th></th>\n",
       "      <th></th>\n",
       "      <th></th>\n",
       "      <th></th>\n",
       "      <th></th>\n",
       "      <th></th>\n",
       "      <th></th>\n",
       "      <th></th>\n",
       "      <th></th>\n",
       "      <th></th>\n",
       "      <th></th>\n",
       "      <th></th>\n",
       "      <th></th>\n",
       "      <th></th>\n",
       "    </tr>\n",
       "  </thead>\n",
       "  <tbody>\n",
       "    <tr>\n",
       "      <th rowspan=\"2\" valign=\"top\">2016-11-21 17:00:00</th>\n",
       "      <th>3.0</th>\n",
       "      <td>1.084219</td>\n",
       "      <td>256.912813</td>\n",
       "      <td>18.174976</td>\n",
       "      <td>279.383216</td>\n",
       "      <td>279.800707</td>\n",
       "      <td>961.482517</td>\n",
       "      <td>8.275326</td>\n",
       "      <td>9.752926</td>\n",
       "      <td>0.005371</td>\n",
       "      <td>84.849673</td>\n",
       "      <td>277.400254</td>\n",
       "      <td>0.103480</td>\n",
       "      <td>0.157229</td>\n",
       "      <td>-0.567431</td>\n",
       "      <td>0.015082</td>\n",
       "    </tr>\n",
       "    <tr>\n",
       "      <th>10.0</th>\n",
       "      <td>1.202281</td>\n",
       "      <td>258.084327</td>\n",
       "      <td>25.247004</td>\n",
       "      <td>279.468315</td>\n",
       "      <td>279.858380</td>\n",
       "      <td>961.482517</td>\n",
       "      <td>8.322235</td>\n",
       "      <td>9.791698</td>\n",
       "      <td>0.005401</td>\n",
       "      <td>84.992773</td>\n",
       "      <td>277.480876</td>\n",
       "      <td>0.157531</td>\n",
       "      <td>0.146604</td>\n",
       "      <td>-0.756628</td>\n",
       "      <td>0.020954</td>\n",
       "    </tr>\n",
       "    <tr>\n",
       "      <th rowspan=\"2\" valign=\"top\">2016-11-21 17:15:00</th>\n",
       "      <th>3.0</th>\n",
       "      <td>1.766393</td>\n",
       "      <td>234.884595</td>\n",
       "      <td>32.891201</td>\n",
       "      <td>279.881558</td>\n",
       "      <td>280.324353</td>\n",
       "      <td>961.482517</td>\n",
       "      <td>8.468184</td>\n",
       "      <td>10.109974</td>\n",
       "      <td>0.005496</td>\n",
       "      <td>83.760687</td>\n",
       "      <td>277.729169</td>\n",
       "      <td>0.144504</td>\n",
       "      <td>0.162088</td>\n",
       "      <td>-0.377078</td>\n",
       "      <td>0.027343</td>\n",
       "    </tr>\n",
       "    <tr>\n",
       "      <th>10.0</th>\n",
       "      <td>1.904892</td>\n",
       "      <td>236.706704</td>\n",
       "      <td>60.996553</td>\n",
       "      <td>279.916663</td>\n",
       "      <td>280.320120</td>\n",
       "      <td>961.482517</td>\n",
       "      <td>8.502706</td>\n",
       "      <td>10.107042</td>\n",
       "      <td>0.005519</td>\n",
       "      <td>84.126553</td>\n",
       "      <td>277.787346</td>\n",
       "      <td>0.188840</td>\n",
       "      <td>0.168109</td>\n",
       "      <td>-1.061156</td>\n",
       "      <td>0.050706</td>\n",
       "    </tr>\n",
       "    <tr>\n",
       "      <th>2016-11-21 17:30:00</th>\n",
       "      <th>3.0</th>\n",
       "      <td>0.924838</td>\n",
       "      <td>234.508938</td>\n",
       "      <td>53.063224</td>\n",
       "      <td>280.119514</td>\n",
       "      <td>280.678427</td>\n",
       "      <td>961.482517</td>\n",
       "      <td>8.386156</td>\n",
       "      <td>10.357887</td>\n",
       "      <td>0.005443</td>\n",
       "      <td>80.963967</td>\n",
       "      <td>277.590090</td>\n",
       "      <td>0.184510</td>\n",
       "      <td>0.193142</td>\n",
       "      <td>-0.292232</td>\n",
       "      <td>0.044168</td>\n",
       "    </tr>\n",
       "  </tbody>\n",
       "</table>\n",
       "</div>"
      ],
      "text/plain": [
       "                                wspd        wdir          H          Ts  \\\n",
       "datetime            height                                                \n",
       "2016-11-21 17:00:00 3.0     1.084219  256.912813  18.174976  279.383216   \n",
       "                    10.0    1.202281  258.084327  25.247004  279.468315   \n",
       "2016-11-21 17:15:00 3.0     1.766393  234.884595  32.891201  279.881558   \n",
       "                    10.0    1.904892  236.706704  60.996553  279.916663   \n",
       "2016-11-21 17:30:00 3.0     0.924838  234.508938  53.063224  280.119514   \n",
       "\n",
       "                                     T           P         e         es  \\\n",
       "datetime            height                                                \n",
       "2016-11-21 17:00:00 3.0     279.800707  961.482517  8.275326   9.752926   \n",
       "                    10.0    279.858380  961.482517  8.322235   9.791698   \n",
       "2016-11-21 17:15:00 3.0     280.324353  961.482517  8.468184  10.109974   \n",
       "                    10.0    280.320120  961.482517  8.502706  10.107042   \n",
       "2016-11-21 17:30:00 3.0     280.678427  961.482517  8.386156  10.357887   \n",
       "\n",
       "                                   q         RH          Td     ustar  \\\n",
       "datetime            height                                              \n",
       "2016-11-21 17:00:00 3.0     0.005371  84.849673  277.400254  0.103480   \n",
       "                    10.0    0.005401  84.992773  277.480876  0.157531   \n",
       "2016-11-21 17:15:00 3.0     0.005496  83.760687  277.729169  0.144504   \n",
       "                    10.0    0.005519  84.126553  277.787346  0.188840   \n",
       "2016-11-21 17:30:00 3.0     0.005443  80.963967  277.590090  0.184510   \n",
       "\n",
       "                                 TKE       z_L    Tw_cov  \n",
       "datetime            height                                \n",
       "2016-11-21 17:00:00 3.0     0.157229 -0.567431  0.015082  \n",
       "                    10.0    0.146604 -0.756628  0.020954  \n",
       "2016-11-21 17:15:00 3.0     0.162088 -0.377078  0.027343  \n",
       "                    10.0    0.168109 -1.061156  0.050706  \n",
       "2016-11-21 17:30:00 3.0     0.193142 -0.292232  0.044168  "
      ]
     },
     "execution_count": 271,
     "metadata": {},
     "output_type": "execute_result"
    }
   ],
   "source": [
    "met.standard_output(ps01).head()"
   ]
  },
  {
   "cell_type": "markdown",
   "metadata": {},
   "source": [
    "sanity checks"
   ]
  },
  {
   "cell_type": "code",
   "execution_count": 274,
   "metadata": {},
   "outputs": [
    {
     "data": {
      "text/plain": [
       "<matplotlib.legend.Legend at 0x1033c24cf8>"
      ]
     },
     "execution_count": 274,
     "metadata": {},
     "output_type": "execute_result"
    },
    {
     "data": {
      "image/png": "[encoded data removed]",
      "text/plain": [
       "<Figure size 432x288 with 1 Axes>"
      ]
     },
     "metadata": {
      "needs_background": "light"
     },
     "output_type": "display_data"
    }
   ],
   "source": [
    "Tv = dict()\n",
    "mm = ps01.copy()\n",
    "Tv['(T,RH,p)'] = T_to_Tv(mm['T'], RH=mm['RH'], p=mm['P'])\n",
    "Tv['(T,e,p)'] = T_to_Tv(mm['T'], e=mm['e'], p=mm['P'])\n",
    "Tv['(T,Td,p)'] = T_to_Tv(mm['T'], Td=mm['Td'], p=mm['P'])\n",
    "for method,temp in Tv.items():\n",
    "    temp.xs(10,level=1).plot(label=method)\n",
    "mm['Ts'].xs(10,level=1).plot(label=r'$T_s$')\n",
    "plt.legend()"
   ]
  },
  {
   "cell_type": "code",
   "execution_count": 256,
   "metadata": {},
   "outputs": [
    {
     "ename": "KeyError",
     "evalue": "'(T,RH,p)'",
     "output_type": "error",
     "traceback": [
      "\u001b[0;31m---------------------------------------------------------------------------\u001b[0m",
      "\u001b[0;31mKeyError\u001b[0m                                  Traceback (most recent call last)",
      "\u001b[0;32m<ipython-input-256-123370f9a205>\u001b[0m in \u001b[0;36m<module>\u001b[0;34m\u001b[0m\n\u001b[0;32m----> 1\u001b[0;31m \u001b[0mnp\u001b[0m\u001b[0;34m.\u001b[0m\u001b[0mmax\u001b[0m\u001b[0;34m(\u001b[0m\u001b[0mnp\u001b[0m\u001b[0;34m.\u001b[0m\u001b[0mabs\u001b[0m\u001b[0;34m(\u001b[0m\u001b[0mTv\u001b[0m\u001b[0;34m[\u001b[0m\u001b[0;34m'(T,RH,p)'\u001b[0m\u001b[0;34m]\u001b[0m \u001b[0;34m-\u001b[0m \u001b[0mTv\u001b[0m\u001b[0;34m[\u001b[0m\u001b[0;34m'(T,e,p)'\u001b[0m\u001b[0;34m]\u001b[0m\u001b[0;34m)\u001b[0m\u001b[0;34m)\u001b[0m\u001b[0;34m\u001b[0m\u001b[0;34m\u001b[0m\u001b[0m\n\u001b[0m",
      "\u001b[0;31mKeyError\u001b[0m: '(T,RH,p)'"
     ]
    }
   ],
   "source": [
    "np.max(np.abs(Tv['(T,RH,p)'] - Tv['(T,e,p)']))"
   ]
  },
  {
   "cell_type": "code",
   "execution_count": 257,
   "metadata": {},
   "outputs": [
    {
     "ename": "KeyError",
     "evalue": "'(T,RH,p)'",
     "output_type": "error",
     "traceback": [
      "\u001b[0;31m---------------------------------------------------------------------------\u001b[0m",
      "\u001b[0;31mKeyError\u001b[0m                                  Traceback (most recent call last)",
      "\u001b[0;32m<ipython-input-257-c4076fabfd5f>\u001b[0m in \u001b[0;36m<module>\u001b[0;34m\u001b[0m\n\u001b[0;32m----> 1\u001b[0;31m \u001b[0mnp\u001b[0m\u001b[0;34m.\u001b[0m\u001b[0mmax\u001b[0m\u001b[0;34m(\u001b[0m\u001b[0mnp\u001b[0m\u001b[0;34m.\u001b[0m\u001b[0mabs\u001b[0m\u001b[0;34m(\u001b[0m\u001b[0mTv\u001b[0m\u001b[0;34m[\u001b[0m\u001b[0;34m'(T,RH,p)'\u001b[0m\u001b[0;34m]\u001b[0m \u001b[0;34m-\u001b[0m \u001b[0mTv\u001b[0m\u001b[0;34m[\u001b[0m\u001b[0;34m'(T,Td,p)'\u001b[0m\u001b[0;34m]\u001b[0m\u001b[0;34m)\u001b[0m\u001b[0;34m)\u001b[0m\u001b[0;34m\u001b[0m\u001b[0;34m\u001b[0m\u001b[0m\n\u001b[0m",
      "\u001b[0;31mKeyError\u001b[0m: '(T,RH,p)'"
     ]
    }
   ],
   "source": [
    "np.max(np.abs(Tv['(T,RH,p)'] - Tv['(T,Td,p)']))"
   ]
  },
  {
   "cell_type": "code",
   "execution_count": 258,
   "metadata": {},
   "outputs": [
    {
     "ename": "KeyError",
     "evalue": "'(T,e,p)'",
     "output_type": "error",
     "traceback": [
      "\u001b[0;31m---------------------------------------------------------------------------\u001b[0m",
      "\u001b[0;31mKeyError\u001b[0m                                  Traceback (most recent call last)",
      "\u001b[0;32m<ipython-input-258-3b8152c7cd04>\u001b[0m in \u001b[0;36m<module>\u001b[0;34m\u001b[0m\n\u001b[0;32m----> 1\u001b[0;31m \u001b[0mnp\u001b[0m\u001b[0;34m.\u001b[0m\u001b[0mmax\u001b[0m\u001b[0;34m(\u001b[0m\u001b[0mnp\u001b[0m\u001b[0;34m.\u001b[0m\u001b[0mabs\u001b[0m\u001b[0;34m(\u001b[0m\u001b[0mTv\u001b[0m\u001b[0;34m[\u001b[0m\u001b[0;34m'(T,e,p)'\u001b[0m\u001b[0;34m]\u001b[0m \u001b[0;34m-\u001b[0m \u001b[0mTv\u001b[0m\u001b[0;34m[\u001b[0m\u001b[0;34m'(T,Td,p)'\u001b[0m\u001b[0;34m]\u001b[0m\u001b[0;34m)\u001b[0m\u001b[0;34m)\u001b[0m\u001b[0;34m\u001b[0m\u001b[0;34m\u001b[0m\u001b[0m\n\u001b[0m",
      "\u001b[0;31mKeyError\u001b[0m: '(T,e,p)'"
     ]
    }
   ],
   "source": [
    "np.max(np.abs(Tv['(T,e,p)'] - Tv['(T,Td,p)']))"
   ]
  },
  {
   "cell_type": "markdown",
   "metadata": {},
   "source": [
    "### - PNNL met stations (PS04,05,10)\n",
    "instantaneous 20Hz data"
   ]
  },
  {
   "cell_type": "code",
   "execution_count": 23,
   "metadata": {},
   "outputs": [
    {
     "name": "stdout",
     "output_type": "stream",
     "text": [
      "Processing /Users/equon/WFIP2/PS04/20161121\n",
      "  288 dataframes added\n",
      "Processing /Users/equon/WFIP2/PS04/20161122\n",
      "  288 dataframes added\n",
      "CPU times: user 8.89 s, sys: 701 ms, total: 9.59 s\n",
      "Wall time: 10 s\n"
     ]
    }
   ],
   "source": [
    "%%time\n",
    "dpath = os.path.join(datadir,'PS04')\n",
    "ps04 = read_date_dirs(dpath,dir_filter='2016112[12]',\n",
    "                  reader=met.read_data, column_spec=met.Gill_R3_50,\n",
    "                  datetime_start=lambda fname: fname.lstrip('met.z09.b0.').rstrip('.csv'),\n",
    "                  datetime_start_format='%Y%m%d.%H%M%S',\n",
    "                  data_freq='50ms', # recorded data at 20Hz\n",
    "                  #max_data_rows=6000, # inconsistent output data length\n",
    "                  #output_freq=20, # read every 20 (quick & dirty resample to 1Hz)\n",
    "                  start=starttime,end=endtime)\n",
    "ps04 = ps04.resample('1s').first()"
   ]
  },
  {
   "cell_type": "code",
   "execution_count": 24,
   "metadata": {},
   "outputs": [
    {
     "name": "stdout",
     "output_type": "stream",
     "text": [
      "Processing /Users/equon/WFIP2/PS05/20161121\n",
      "  119 dataframes added\n",
      "Processing /Users/equon/WFIP2/PS05/20161122\n",
      "  288 dataframes added\n",
      "CPU times: user 6.98 s, sys: 735 ms, total: 7.72 s\n",
      "Wall time: 7.37 s\n"
     ]
    }
   ],
   "source": [
    "%%time\n",
    "dpath = os.path.join(datadir,'PS05')\n",
    "ps05 = read_date_dirs(dpath,dir_filter='2016112[12]',\n",
    "                  reader=met.read_data, column_spec=met.Gill_R3_50,\n",
    "                  datetime_start=lambda fname: fname.lstrip('met.z11.b0.').rstrip('.csv'),\n",
    "                  datetime_start_format='%Y%m%d.%H%M%S',\n",
    "                  data_freq='50ms', # recorded data at 20Hz\n",
    "                  #max_data_rows=6000, # inconsistent output data length\n",
    "                  #output_freq=20, # read every 20 (quick & dirty resample to 1Hz)\n",
    "                  start=starttime,end=endtime)\n",
    "ps05 = ps05.resample('1s').first()"
   ]
  },
  {
   "cell_type": "code",
   "execution_count": 25,
   "metadata": {},
   "outputs": [
    {
     "name": "stdout",
     "output_type": "stream",
     "text": [
      "Processing /Users/equon/WFIP2/PS10/20161121\n",
      "  288 dataframes added\n",
      "Processing /Users/equon/WFIP2/PS10/20161122\n",
      "  288 dataframes added\n",
      "CPU times: user 8.71 s, sys: 760 ms, total: 9.46 s\n",
      "Wall time: 9.78 s\n"
     ]
    }
   ],
   "source": [
    "%%time\n",
    "dpath = os.path.join(datadir,'PS10')\n",
    "ps10 = read_date_dirs(dpath,dir_filter='2016112[12]',\n",
    "                  reader=met.read_data, column_spec=met.Gill_R3_50,\n",
    "                  datetime_start=lambda fname: fname.lstrip('met.z10.b0.').rstrip('.csv'),\n",
    "                  datetime_start_format='%Y%m%d.%H%M%S',\n",
    "                  data_freq='50ms', # recorded data at 20Hz\n",
    "                  #max_data_rows=6000, # inconsistent output data length\n",
    "                  #output_freq=20, # read every 20 (quick & dirty resample to 1Hz)\n",
    "                  start=starttime,end=endtime)\n",
    "ps10 = ps10.resample('1s').first()"
   ]
  },
  {
   "cell_type": "markdown",
   "metadata": {},
   "source": [
    "### - PNNL met stations (PS07,08)\n",
    "Note: These data were averaged at interval of 1 min at the *end* of the bin"
   ]
  },
  {
   "cell_type": "code",
   "execution_count": 26,
   "metadata": {},
   "outputs": [],
   "source": [
    "#ps07 = read_process_trim(os.path.join(datadir,'PS07','201611'),file_filter='*.2016112[12].*')\n",
    "dpath = os.path.join(datadir,'PS07','201611')\n",
    "ps07 = read_dir(dpath,ext='txt',file_filter='*.2016112[12].*',\n",
    "                  reader=met.read_data, column_spec=met.RMYoung_05106,\n",
    "                  height=3.,\n",
    "                  datetime_offset=-60, # shift 60s to line up with begining of interval\n",
    "                  start=starttime,end=endtime)\n",
    "ps07['Tv'] = T_to_Tv(ps07['T'],RH=ps07['RH'],p=ps07['P'])"
   ]
  },
  {
   "cell_type": "code",
   "execution_count": 27,
   "metadata": {},
   "outputs": [],
   "source": [
    "#ps08 = read_process_trim(os.path.join(datadir,'PS08','201611'),file_filter='*.2016112[12].*')\n",
    "dpath = os.path.join(datadir,'PS08','201611')\n",
    "ps08 = read_dir(dpath,ext='txt',file_filter='*.2016112[12].*',\n",
    "                  reader=met.read_data, column_spec=met.RMYoung_05106,\n",
    "                  height=3.,\n",
    "                  datetime_offset=-60, # shift 60s to line up with begining of interval\n",
    "                  start=starttime,end=endtime)\n",
    "ps08['Tv'] = T_to_Tv(ps08['T'],RH=ps08['RH'],p=ps08['P'])"
   ]
  },
  {
   "cell_type": "code",
   "execution_count": 28,
   "metadata": {},
   "outputs": [
    {
     "data": {
      "text/html": [
       "<div>\n",
       "<style scoped>\n",
       "    .dataframe tbody tr th:only-of-type {\n",
       "        vertical-align: middle;\n",
       "    }\n",
       "\n",
       "    .dataframe tbody tr th {\n",
       "        vertical-align: top;\n",
       "    }\n",
       "\n",
       "    .dataframe thead th {\n",
       "        text-align: right;\n",
       "    }\n",
       "</style>\n",
       "<table border=\"1\" class=\"dataframe\">\n",
       "  <thead>\n",
       "    <tr style=\"text-align: right;\">\n",
       "      <th></th>\n",
       "      <th></th>\n",
       "      <th>wspd</th>\n",
       "      <th>wdir</th>\n",
       "      <th>HorizontalWind</th>\n",
       "      <th>wdir_std</th>\n",
       "      <th>T</th>\n",
       "      <th>RH</th>\n",
       "      <th>P</th>\n",
       "      <th>SW_down</th>\n",
       "      <th>T10X</th>\n",
       "      <th>p10X</th>\n",
       "      <th>Tv</th>\n",
       "    </tr>\n",
       "    <tr>\n",
       "      <th>datetime</th>\n",
       "      <th>height</th>\n",
       "      <th></th>\n",
       "      <th></th>\n",
       "      <th></th>\n",
       "      <th></th>\n",
       "      <th></th>\n",
       "      <th></th>\n",
       "      <th></th>\n",
       "      <th></th>\n",
       "      <th></th>\n",
       "      <th></th>\n",
       "      <th></th>\n",
       "    </tr>\n",
       "  </thead>\n",
       "  <tbody>\n",
       "    <tr>\n",
       "      <th>2016-11-21 17:00:00</th>\n",
       "      <th>3.0</th>\n",
       "      <td>0.858</td>\n",
       "      <td>271.5</td>\n",
       "      <td>0.871</td>\n",
       "      <td>9.780</td>\n",
       "      <td>279.481</td>\n",
       "      <td>84.2</td>\n",
       "      <td>959.58</td>\n",
       "      <td>255.8</td>\n",
       "      <td>6.605</td>\n",
       "      <td>14.17</td>\n",
       "      <td>280.372414</td>\n",
       "    </tr>\n",
       "    <tr>\n",
       "      <th>2016-11-21 17:01:00</th>\n",
       "      <th>3.0</th>\n",
       "      <td>1.074</td>\n",
       "      <td>264.6</td>\n",
       "      <td>1.076</td>\n",
       "      <td>3.722</td>\n",
       "      <td>279.509</td>\n",
       "      <td>83.2</td>\n",
       "      <td>959.51</td>\n",
       "      <td>263.0</td>\n",
       "      <td>6.665</td>\n",
       "      <td>13.58</td>\n",
       "      <td>280.391747</td>\n",
       "    </tr>\n",
       "    <tr>\n",
       "      <th>2016-11-21 17:02:00</th>\n",
       "      <th>3.0</th>\n",
       "      <td>1.192</td>\n",
       "      <td>260.4</td>\n",
       "      <td>1.204</td>\n",
       "      <td>7.930</td>\n",
       "      <td>279.552</td>\n",
       "      <td>83.0</td>\n",
       "      <td>959.51</td>\n",
       "      <td>264.6</td>\n",
       "      <td>6.732</td>\n",
       "      <td>13.37</td>\n",
       "      <td>280.435402</td>\n",
       "    </tr>\n",
       "    <tr>\n",
       "      <th>2016-11-21 17:03:00</th>\n",
       "      <th>3.0</th>\n",
       "      <td>1.081</td>\n",
       "      <td>274.8</td>\n",
       "      <td>1.093</td>\n",
       "      <td>8.350</td>\n",
       "      <td>279.622</td>\n",
       "      <td>83.3</td>\n",
       "      <td>959.56</td>\n",
       "      <td>257.6</td>\n",
       "      <td>6.839</td>\n",
       "      <td>13.73</td>\n",
       "      <td>280.513067</td>\n",
       "    </tr>\n",
       "    <tr>\n",
       "      <th>2016-11-21 17:04:00</th>\n",
       "      <th>3.0</th>\n",
       "      <td>1.545</td>\n",
       "      <td>260.3</td>\n",
       "      <td>1.552</td>\n",
       "      <td>5.421</td>\n",
       "      <td>279.703</td>\n",
       "      <td>83.5</td>\n",
       "      <td>959.51</td>\n",
       "      <td>268.8</td>\n",
       "      <td>6.907</td>\n",
       "      <td>13.69</td>\n",
       "      <td>280.601529</td>\n",
       "    </tr>\n",
       "  </tbody>\n",
       "</table>\n",
       "</div>"
      ],
      "text/plain": [
       "                             wspd   wdir  HorizontalWind  wdir_std        T  \\\n",
       "datetime            height                                                    \n",
       "2016-11-21 17:00:00 3.0     0.858  271.5           0.871     9.780  279.481   \n",
       "2016-11-21 17:01:00 3.0     1.074  264.6           1.076     3.722  279.509   \n",
       "2016-11-21 17:02:00 3.0     1.192  260.4           1.204     7.930  279.552   \n",
       "2016-11-21 17:03:00 3.0     1.081  274.8           1.093     8.350  279.622   \n",
       "2016-11-21 17:04:00 3.0     1.545  260.3           1.552     5.421  279.703   \n",
       "\n",
       "                              RH       P  SW_down   T10X   p10X          Tv  \n",
       "datetime            height                                                   \n",
       "2016-11-21 17:00:00 3.0     84.2  959.58    255.8  6.605  14.17  280.372414  \n",
       "2016-11-21 17:01:00 3.0     83.2  959.51    263.0  6.665  13.58  280.391747  \n",
       "2016-11-21 17:02:00 3.0     83.0  959.51    264.6  6.732  13.37  280.435402  \n",
       "2016-11-21 17:03:00 3.0     83.3  959.56    257.6  6.839  13.73  280.513067  \n",
       "2016-11-21 17:04:00 3.0     83.5  959.51    268.8  6.907  13.69  280.601529  "
      ]
     },
     "execution_count": 28,
     "metadata": {},
     "output_type": "execute_result"
    }
   ],
   "source": [
    "met.standard_output(ps07).head()"
   ]
  },
  {
   "cell_type": "code",
   "execution_count": 29,
   "metadata": {
    "scrolled": true
   },
   "outputs": [
    {
     "data": {
      "text/html": [
       "<div>\n",
       "<style scoped>\n",
       "    .dataframe tbody tr th:only-of-type {\n",
       "        vertical-align: middle;\n",
       "    }\n",
       "\n",
       "    .dataframe tbody tr th {\n",
       "        vertical-align: top;\n",
       "    }\n",
       "\n",
       "    .dataframe thead th {\n",
       "        text-align: right;\n",
       "    }\n",
       "</style>\n",
       "<table border=\"1\" class=\"dataframe\">\n",
       "  <thead>\n",
       "    <tr style=\"text-align: right;\">\n",
       "      <th></th>\n",
       "      <th></th>\n",
       "      <th>wspd</th>\n",
       "      <th>wdir</th>\n",
       "      <th>HorizontalWind</th>\n",
       "      <th>wdir_std</th>\n",
       "      <th>T</th>\n",
       "      <th>RH</th>\n",
       "      <th>P</th>\n",
       "      <th>SW_down</th>\n",
       "      <th>T10X</th>\n",
       "      <th>p10X</th>\n",
       "      <th>Tv</th>\n",
       "    </tr>\n",
       "    <tr>\n",
       "      <th>datetime</th>\n",
       "      <th>height</th>\n",
       "      <th></th>\n",
       "      <th></th>\n",
       "      <th></th>\n",
       "      <th></th>\n",
       "      <th></th>\n",
       "      <th></th>\n",
       "      <th></th>\n",
       "      <th></th>\n",
       "      <th></th>\n",
       "      <th></th>\n",
       "      <th></th>\n",
       "    </tr>\n",
       "  </thead>\n",
       "  <tbody>\n",
       "    <tr>\n",
       "      <th>2016-11-21 17:00:00</th>\n",
       "      <th>3.0</th>\n",
       "      <td>1.066</td>\n",
       "      <td>231.2</td>\n",
       "      <td>1.068</td>\n",
       "      <td>3.725</td>\n",
       "      <td>279.830</td>\n",
       "      <td>82.9</td>\n",
       "      <td>961.56</td>\n",
       "      <td>0</td>\n",
       "      <td>6.332</td>\n",
       "      <td>14.33</td>\n",
       "      <td>280.728463</td>\n",
       "    </tr>\n",
       "    <tr>\n",
       "      <th>2016-11-21 17:01:00</th>\n",
       "      <th>3.0</th>\n",
       "      <td>0.898</td>\n",
       "      <td>230.6</td>\n",
       "      <td>0.903</td>\n",
       "      <td>6.016</td>\n",
       "      <td>279.852</td>\n",
       "      <td>83.3</td>\n",
       "      <td>961.55</td>\n",
       "      <td>0</td>\n",
       "      <td>6.391</td>\n",
       "      <td>14.32</td>\n",
       "      <td>280.756231</td>\n",
       "    </tr>\n",
       "    <tr>\n",
       "      <th>2016-11-21 17:02:00</th>\n",
       "      <th>3.0</th>\n",
       "      <td>0.837</td>\n",
       "      <td>239.1</td>\n",
       "      <td>0.840</td>\n",
       "      <td>4.310</td>\n",
       "      <td>279.898</td>\n",
       "      <td>83.4</td>\n",
       "      <td>961.55</td>\n",
       "      <td>0</td>\n",
       "      <td>6.464</td>\n",
       "      <td>14.33</td>\n",
       "      <td>280.806344</td>\n",
       "    </tr>\n",
       "    <tr>\n",
       "      <th>2016-11-21 17:03:00</th>\n",
       "      <th>3.0</th>\n",
       "      <td>0.932</td>\n",
       "      <td>239.6</td>\n",
       "      <td>0.933</td>\n",
       "      <td>2.458</td>\n",
       "      <td>279.916</td>\n",
       "      <td>83.1</td>\n",
       "      <td>961.55</td>\n",
       "      <td>0</td>\n",
       "      <td>6.581</td>\n",
       "      <td>14.33</td>\n",
       "      <td>280.822280</td>\n",
       "    </tr>\n",
       "    <tr>\n",
       "      <th>2016-11-21 17:04:00</th>\n",
       "      <th>3.0</th>\n",
       "      <td>0.808</td>\n",
       "      <td>239.4</td>\n",
       "      <td>0.815</td>\n",
       "      <td>7.490</td>\n",
       "      <td>279.942</td>\n",
       "      <td>82.6</td>\n",
       "      <td>961.54</td>\n",
       "      <td>0</td>\n",
       "      <td>6.646</td>\n",
       "      <td>14.32</td>\n",
       "      <td>280.844570</td>\n",
       "    </tr>\n",
       "  </tbody>\n",
       "</table>\n",
       "</div>"
      ],
      "text/plain": [
       "                             wspd   wdir  HorizontalWind  wdir_std        T  \\\n",
       "datetime            height                                                    \n",
       "2016-11-21 17:00:00 3.0     1.066  231.2           1.068     3.725  279.830   \n",
       "2016-11-21 17:01:00 3.0     0.898  230.6           0.903     6.016  279.852   \n",
       "2016-11-21 17:02:00 3.0     0.837  239.1           0.840     4.310  279.898   \n",
       "2016-11-21 17:03:00 3.0     0.932  239.6           0.933     2.458  279.916   \n",
       "2016-11-21 17:04:00 3.0     0.808  239.4           0.815     7.490  279.942   \n",
       "\n",
       "                              RH       P  SW_down   T10X   p10X          Tv  \n",
       "datetime            height                                                   \n",
       "2016-11-21 17:00:00 3.0     82.9  961.56        0  6.332  14.33  280.728463  \n",
       "2016-11-21 17:01:00 3.0     83.3  961.55        0  6.391  14.32  280.756231  \n",
       "2016-11-21 17:02:00 3.0     83.4  961.55        0  6.464  14.33  280.806344  \n",
       "2016-11-21 17:03:00 3.0     83.1  961.55        0  6.581  14.33  280.822280  \n",
       "2016-11-21 17:04:00 3.0     82.6  961.54        0  6.646  14.32  280.844570  "
      ]
     },
     "execution_count": 29,
     "metadata": {},
     "output_type": "execute_result"
    }
   ],
   "source": [
    "met.standard_output(ps08).head()"
   ]
  },
  {
   "cell_type": "markdown",
   "metadata": {},
   "source": [
    "### - PS12 lidar"
   ]
  },
  {
   "cell_type": "code",
   "execution_count": 30,
   "metadata": {},
   "outputs": [
    {
     "name": "stdout",
     "output_type": "stream",
     "text": [
      "CPU times: user 62.1 ms, sys: 13.8 ms, total: 75.9 ms\n",
      "Wall time: 81.6 ms\n"
     ]
    }
   ],
   "source": [
    "%%time \n",
    "fpath = os.path.join(datadir,'Siemens','Siemens_Nov2016_10min.csv')\n",
    "lidar = pd.read_csv(fpath,parse_dates=['datetime'])\n",
    "inrange = (lidar['datetime'] >= starttime) & (lidar['datetime'] <= endtime)\n",
    "lidar = lidar.loc[inrange].set_index(['datetime','height']).sort_index()"
   ]
  },
  {
   "cell_type": "markdown",
   "metadata": {},
   "source": [
    "make sure we have a DatetimeIndex with regularly spaced intervals"
   ]
  },
  {
   "cell_type": "code",
   "execution_count": 158,
   "metadata": {},
   "outputs": [],
   "source": [
    "dtindex = pd.DatetimeIndex(start=starttime,end=endtime,freq='10min')"
   ]
  },
  {
   "cell_type": "code",
   "execution_count": 159,
   "metadata": {},
   "outputs": [],
   "source": [
    "lidar = lidar.reset_index(1).pivot(columns='height').reindex(index=dtindex,method='nearest').stack()"
   ]
  },
  {
   "cell_type": "markdown",
   "metadata": {},
   "source": [
    "## Quantities of interest\n",
    "<font color='blue'>**TODO**: PLOT THESE VS WRF (Hawbecker ERA-I run) </font>"
   ]
  },
  {
   "cell_type": "code",
   "execution_count": 32,
   "metadata": {},
   "outputs": [],
   "source": [
    "def setup_datetime_axis(axlist):\n",
    "    if not hasattr(axlist,'__iter__'):\n",
    "        axlist = [axlist]\n",
    "    for ax in axlist:\n",
    "        ax.axvspan(simstart,simend,color='0.5',alpha=0.3)\n",
    "        ax.tick_params(axis='both',which='major',labelsize='large')\n",
    "    # just set the last axes, assuming sharex=True\n",
    "    ax.set_xlim((starttime,endtime))\n",
    "    ax.set_xlabel('{:s} to {:s} [UTC]'.format(starttime.strftime('%Y-%m-%d'),endtime.strftime('%Y-%m-%d')),\n",
    "                  fontsize='x-large')\n",
    "    ax.set_xticks(pd.date_range(start=starttime,end=endtime,freq='1h'))\n",
    "    ax.set_xticks([],minor=True)\n",
    "    ax.set_xticklabels(pd.date_range(start=starttime,end=endtime,freq='1h').strftime('%H:%M'))"
   ]
  },
  {
   "cell_type": "markdown",
   "metadata": {},
   "source": [
    "### mean wind (PS12)\n",
    "Note: lidar wind direction estimates are unreliable in terrain"
   ]
  },
  {
   "cell_type": "code",
   "execution_count": 122,
   "metadata": {},
   "outputs": [],
   "source": [
    "mean_s = ps12_s.unstack(level=1).resample('10min').mean().stack()"
   ]
  },
  {
   "cell_type": "code",
   "execution_count": 123,
   "metadata": {},
   "outputs": [],
   "source": [
    "mean_w = ps12_w.unstack(level=1).resample('10min').mean().stack()"
   ]
  },
  {
   "cell_type": "code",
   "execution_count": 177,
   "metadata": {},
   "outputs": [],
   "source": [
    "wspd = (mean_s.xs(80,level=1)['wspd'] + mean_w.xs(80,level=1)['wspd'] + lidar.xs(80,level=1)['wspd']) / 3\n",
    "wspd0 = wspd.loc[simstart]"
   ]
  },
  {
   "cell_type": "code",
   "execution_count": 181,
   "metadata": {},
   "outputs": [],
   "source": [
    "wdir = (mean_s.xs(80,level=1)['wdir'] + mean_w.xs(80,level=1)['wdir']) / 2\n",
    "wdir0 = wdir.loc[simstart]"
   ]
  },
  {
   "cell_type": "code",
   "execution_count": 182,
   "metadata": {},
   "outputs": [
    {
     "name": "stdout",
     "output_type": "stream",
     "text": [
      "8.731678170951668 262.06997959154455\n"
     ]
    }
   ],
   "source": [
    "print(wspd0,wdir0)"
   ]
  },
  {
   "cell_type": "code",
   "execution_count": 186,
   "metadata": {},
   "outputs": [],
   "source": [
    "inrange = (wspd.index >= simstart) & (wspd.index <= simend)\n",
    "wspd_sim = wspd.loc[inrange]\n",
    "wdir_sim = wdir.loc[inrange]"
   ]
  },
  {
   "cell_type": "code",
   "execution_count": 212,
   "metadata": {},
   "outputs": [],
   "source": [
    "wspd_init = pd.Series([wspd0,wspd0],index=[starttime,simstart])\n",
    "wdir_init = pd.Series([wdir0,wdir0],index=[starttime,simstart])"
   ]
  },
  {
   "cell_type": "code",
   "execution_count": 228,
   "metadata": {},
   "outputs": [
    {
     "data": {
      "image/png": "[encoded data removed]",
      "text/plain": [
       "<Figure size 792x576 with 2 Axes>"
      ]
     },
     "metadata": {
      "needs_background": "light"
     },
     "output_type": "display_data"
    }
   ],
   "source": [
    "zplot = zhub\n",
    "fig,ax = plt.subplots(nrows=2,sharex=True,figsize=(11,8))\n",
    "\n",
    "lidarstyle = dict(ls='none',color='k',marker='o',markersize=5)\n",
    "mean_s['wspd'].xs(zplot,level=1).plot(ax=ax[0],label='sonic (south boom)')\n",
    "mean_w['wspd'].xs(zplot,level=1).plot(ax=ax[0],label='sonic (west boom)')\n",
    "lidar['wspd'].xs(zplot,level=1).plot(ax=ax[0],**lidarstyle,label='lidar')\n",
    "wspd_init.plot(ax=ax[0],color='k',ls='--',label='')\n",
    "wspd_sim.plot(ax=ax[0],color='k',label='simulated')\n",
    "ax[0].text(starttime+pd.to_timedelta('10min'),wspd0+0.2,'{:.2f} m/s'.format(wspd0),fontsize='large')\n",
    "\n",
    "mean_s['wdir'].xs(zplot,level=1).plot(ax=ax[1],label='sonic (south boom)')\n",
    "mean_w['wdir'].xs(zplot,level=1).plot(ax=ax[1],label='sonic (west boom)')\n",
    "#lidar['wdir'].xs(zplot,level=1).plot(ax=ax[1],**lidarstyle,label='lidar')\n",
    "wdir_init.plot(ax=ax[1],color='k',ls='--',label='')\n",
    "wdir_sim.plot(ax=ax[1],color='k',label='simulated')\n",
    "ax[1].text(starttime+pd.to_timedelta('10min'),wdir0+1,r'{:.0f}$^\\circ$'.format(wdir0),fontsize='large')\n",
    "\n",
    "ax[0].set_ylabel('wind speed [m/s]',fontsize='x-large')\n",
    "ax[1].set_ylabel(r'wind direction [$^\\circ$]',fontsize='x-large')\n",
    "ax[0].legend()\n",
    "setup_datetime_axis(ax)\n",
    "# ax[0].text(0.01,0.97,'z={:g} m'.format(zplot),\n",
    "#            fontsize='x-large',\n",
    "#            horizontalalignment='left',\n",
    "#            verticalalignment='top',\n",
    "#            transform=ax[0].transAxes)"
   ]
  },
  {
   "cell_type": "raw",
   "metadata": {},
   "source": [
    "zplot = 50\n",
    "fig,ax = plt.subplots(nrows=2,sharex=True,figsize=(11,8))\n",
    "lidarstyle = dict(ls='none',color='k',marker='o',markersize=5)\n",
    "mean_s['wspd'].xs(zplot,level=1).plot(ax=ax[0],label='sonic (south boom)')\n",
    "mean_w['wspd'].xs(zplot,level=1).plot(ax=ax[0],label='sonic (west boom)')\n",
    "lidar['wspd'].xs(zplot,level=1).plot(ax=ax[0],**lidarstyle,label='lidar')\n",
    "mean_s['wdir'].xs(zplot,level=1).plot(ax=ax[1],label='sonic (south boom)')\n",
    "mean_w['wdir'].xs(zplot,level=1).plot(ax=ax[1],label='sonic (west boom)')\n",
    "#lidar['wdir'].xs(zplot,level=1).plot(ax=ax[1],**lidarstyle,label='lidar')\n",
    "ax[0].set_ylabel('wind speed [m/s]',fontsize='x-large')\n",
    "ax[1].set_ylabel(r'wind direction [$^\\circ$]',fontsize='x-large')\n",
    "ax[0].legend()\n",
    "setup_datetime_axis(ax)\n",
    "ax[0].text(0.01,0.97,'z={:g} m'.format(zplot),\n",
    "           fontsize='x-large',\n",
    "           horizontalalignment='left',\n",
    "           verticalalignment='top',\n",
    "           transform=ax[0].transAxes)"
   ]
  },
  {
   "cell_type": "markdown",
   "metadata": {},
   "source": [
    "### Mean wind (other PS)"
   ]
  },
  {
   "cell_type": "code",
   "execution_count": 234,
   "metadata": {},
   "outputs": [],
   "source": [
    "wdir_other = dict()\n",
    "# UND\n",
    "wdir_other[428+3] = ps01['wspd'].xs(3,level=1)\n",
    "wdir_other[428+10] = ps01['wspd'].xs(10,level=1)\n",
    "wdir_other[445+3] = ps02['wspd'].xs(3,level=1)\n",
    "wdir_other[445+17] = ps02['wspd'].xs(17,level=1)\n",
    "wdir_other[484+3] = ps11['wspd'].xs(3,level=1)\n",
    "wdir_other[484+10] = ps11['wspd'].xs(10,level=1)\n",
    "# PNNL (10-m towers)\n",
    "wdir_other[426+10] = ps04['wspd'].resample('15min').mean()\n",
    "wdir_other[449+10] = ps05['wspd'].resample('15min').mean()\n",
    "wdir_other[459+10] = ps10['wspd'].resample('15min').mean()\n",
    "# PNNL (surface met)\n",
    "wdir_other[467+3] = ps07['wspd'].xs(3,level=1).resample('15min').mean()\n",
    "wdir_other[451+3] = ps08['wspd'].xs(3,level=1).resample('15min').mean()"
   ]
  },
  {
   "cell_type": "code",
   "execution_count": 245,
   "metadata": {},
   "outputs": [
    {
     "data": {
      "text/plain": [
       "(431, 494)"
      ]
     },
     "execution_count": 245,
     "metadata": {},
     "output_type": "execute_result"
    }
   ],
   "source": [
    "elev_range = list(wdir_other.keys())\n",
    "np.min(elev_range), np.max(elev_range)"
   ]
  },
  {
   "cell_type": "code",
   "execution_count": null,
   "metadata": {},
   "outputs": [],
   "source": []
  },
  {
   "cell_type": "markdown",
   "metadata": {},
   "source": [
    "### Heat Flux\n",
    "\n",
    "- <font color='red'>Note 1: eddy covariance method not necessarily valid with horizontal heterogeneity</font>\n",
    "- Note 2: PS05 has bad sonic data (occasional spikes)"
   ]
  },
  {
   "cell_type": "code",
   "execution_count": 38,
   "metadata": {},
   "outputs": [],
   "source": [
    "hflux = dict()\n",
    "\n",
    "# eddypro output\n",
    "hflux['PS01'] = ps01.xs(3,level=1)['Tw_cov']\n",
    "hflux['PS02'] = ps02.xs(3,level=1)['Tw_cov']\n",
    "hflux['PS06'] = ps06.xs(3,level=1)['Tw_cov']\n",
    "hflux['PS11'] = ps11.xs(3,level=1)['Tw_cov']\n",
    "\n",
    "# eddy covariance method applied to 1Hz data\n",
    "hflux['PS04 (ECM)'] = covariance(ps04['Ts'],ps04['w'],'15min')\n",
    "#hflux['PS05 (ECM)'] = covariance(ps05['Ts'],ps05['w'],'15min')\n",
    "hflux['PS10 (ECM)'] = covariance(ps10['Ts'],ps10['w'],'15min')"
   ]
  },
  {
   "cell_type": "code",
   "execution_count": 39,
   "metadata": {},
   "outputs": [
    {
     "data": {
      "image/png": "[encoded data removed]",
      "text/plain": [
       "<Figure size 792x288 with 1 Axes>"
      ]
     },
     "metadata": {
      "needs_background": "light"
     },
     "output_type": "display_data"
    }
   ],
   "source": [
    "fig,ax = plt.subplots(figsize=(11,4))\n",
    "for key,qwall in hflux.items():\n",
    "    if key.endswith('(ECM)'):\n",
    "        style = dict(ls='-',alpha=0.8)\n",
    "    else:\n",
    "        style = dict(ls='none',marker='o')\n",
    "    qwall.plot(**style,ax=ax,label=key)\n",
    "ax.axhline(0.04,ls='--',color='k',lw=1)\n",
    "ax.axhline(0,ls='--',color='k',lw=1)\n",
    "ax.legend()\n",
    "ax.set_ylabel(r\"$\\langle T_s' w' \\rangle$ [K-m/s]\",fontsize='x-large')\n",
    "setup_datetime_axis(ax)"
   ]
  },
  {
   "cell_type": "markdown",
   "metadata": {},
   "source": [
    "## stability"
   ]
  },
  {
   "cell_type": "code",
   "execution_count": 40,
   "metadata": {},
   "outputs": [
    {
     "ename": "KeyError",
     "evalue": "'(z-d)/L'",
     "output_type": "error",
     "traceback": [
      "\u001b[0;31m---------------------------------------------------------------------------\u001b[0m",
      "\u001b[0;31mKeyError\u001b[0m                                  Traceback (most recent call last)",
      "\u001b[0;32m~/anaconda3/lib/python3.7/site-packages/pandas/core/indexes/base.py\u001b[0m in \u001b[0;36mget_loc\u001b[0;34m(self, key, method, tolerance)\u001b[0m\n\u001b[1;32m   3077\u001b[0m             \u001b[0;32mtry\u001b[0m\u001b[0;34m:\u001b[0m\u001b[0;34m\u001b[0m\u001b[0;34m\u001b[0m\u001b[0m\n\u001b[0;32m-> 3078\u001b[0;31m                 \u001b[0;32mreturn\u001b[0m \u001b[0mself\u001b[0m\u001b[0;34m.\u001b[0m\u001b[0m_engine\u001b[0m\u001b[0;34m.\u001b[0m\u001b[0mget_loc\u001b[0m\u001b[0;34m(\u001b[0m\u001b[0mkey\u001b[0m\u001b[0;34m)\u001b[0m\u001b[0;34m\u001b[0m\u001b[0;34m\u001b[0m\u001b[0m\n\u001b[0m\u001b[1;32m   3079\u001b[0m             \u001b[0;32mexcept\u001b[0m \u001b[0mKeyError\u001b[0m\u001b[0;34m:\u001b[0m\u001b[0;34m\u001b[0m\u001b[0;34m\u001b[0m\u001b[0m\n",
      "\u001b[0;32mpandas/_libs/index.pyx\u001b[0m in \u001b[0;36mpandas._libs.index.IndexEngine.get_loc\u001b[0;34m()\u001b[0m\n",
      "\u001b[0;32mpandas/_libs/index.pyx\u001b[0m in \u001b[0;36mpandas._libs.index.IndexEngine.get_loc\u001b[0;34m()\u001b[0m\n",
      "\u001b[0;32mpandas/_libs/hashtable_class_helper.pxi\u001b[0m in \u001b[0;36mpandas._libs.hashtable.PyObjectHashTable.get_item\u001b[0;34m()\u001b[0m\n",
      "\u001b[0;32mpandas/_libs/hashtable_class_helper.pxi\u001b[0m in \u001b[0;36mpandas._libs.hashtable.PyObjectHashTable.get_item\u001b[0;34m()\u001b[0m\n",
      "\u001b[0;31mKeyError\u001b[0m: '(z-d)/L'",
      "\nDuring handling of the above exception, another exception occurred:\n",
      "\u001b[0;31mKeyError\u001b[0m                                  Traceback (most recent call last)",
      "\u001b[0;32m<ipython-input-40-489276f65603>\u001b[0m in \u001b[0;36m<module>\u001b[0;34m\u001b[0m\n\u001b[1;32m      8\u001b[0m )\n\u001b[1;32m      9\u001b[0m \u001b[0;34m\u001b[0m\u001b[0m\n\u001b[0;32m---> 10\u001b[0;31m \u001b[0mps01\u001b[0m\u001b[0;34m.\u001b[0m\u001b[0mxs\u001b[0m\u001b[0;34m(\u001b[0m\u001b[0mzref\u001b[0m\u001b[0;34m,\u001b[0m\u001b[0mlevel\u001b[0m\u001b[0;34m=\u001b[0m\u001b[0;36m1\u001b[0m\u001b[0;34m)\u001b[0m\u001b[0;34m[\u001b[0m\u001b[0mplotcol\u001b[0m\u001b[0;34m]\u001b[0m\u001b[0;34m.\u001b[0m\u001b[0mplot\u001b[0m\u001b[0;34m(\u001b[0m\u001b[0max\u001b[0m\u001b[0;34m=\u001b[0m\u001b[0max\u001b[0m\u001b[0;34m,\u001b[0m\u001b[0;34m**\u001b[0m\u001b[0msty\u001b[0m\u001b[0;34m,\u001b[0m\u001b[0mlabel\u001b[0m\u001b[0;34m=\u001b[0m\u001b[0;34m'PS01 ({:.0f} m)'\u001b[0m\u001b[0;34m.\u001b[0m\u001b[0mformat\u001b[0m\u001b[0;34m(\u001b[0m\u001b[0mzref\u001b[0m\u001b[0;34m)\u001b[0m\u001b[0;34m)\u001b[0m\u001b[0;34m\u001b[0m\u001b[0;34m\u001b[0m\u001b[0m\n\u001b[0m\u001b[1;32m     11\u001b[0m \u001b[0mps02\u001b[0m\u001b[0;34m.\u001b[0m\u001b[0mxs\u001b[0m\u001b[0;34m(\u001b[0m\u001b[0mzref\u001b[0m\u001b[0;34m,\u001b[0m\u001b[0mlevel\u001b[0m\u001b[0;34m=\u001b[0m\u001b[0;36m1\u001b[0m\u001b[0;34m)\u001b[0m\u001b[0;34m[\u001b[0m\u001b[0mplotcol\u001b[0m\u001b[0;34m]\u001b[0m\u001b[0;34m.\u001b[0m\u001b[0mplot\u001b[0m\u001b[0;34m(\u001b[0m\u001b[0max\u001b[0m\u001b[0;34m=\u001b[0m\u001b[0max\u001b[0m\u001b[0;34m,\u001b[0m\u001b[0;34m**\u001b[0m\u001b[0msty\u001b[0m\u001b[0;34m,\u001b[0m\u001b[0mlabel\u001b[0m\u001b[0;34m=\u001b[0m\u001b[0;34m'PS02 ({:.0f} m)'\u001b[0m\u001b[0;34m.\u001b[0m\u001b[0mformat\u001b[0m\u001b[0;34m(\u001b[0m\u001b[0mzref\u001b[0m\u001b[0;34m)\u001b[0m\u001b[0;34m)\u001b[0m\u001b[0;34m\u001b[0m\u001b[0;34m\u001b[0m\u001b[0m\n\u001b[1;32m     12\u001b[0m \u001b[0mps06\u001b[0m\u001b[0;34m.\u001b[0m\u001b[0mxs\u001b[0m\u001b[0;34m(\u001b[0m\u001b[0mzref\u001b[0m\u001b[0;34m,\u001b[0m\u001b[0mlevel\u001b[0m\u001b[0;34m=\u001b[0m\u001b[0;36m1\u001b[0m\u001b[0;34m)\u001b[0m\u001b[0;34m[\u001b[0m\u001b[0mplotcol\u001b[0m\u001b[0;34m]\u001b[0m\u001b[0;34m.\u001b[0m\u001b[0mplot\u001b[0m\u001b[0;34m(\u001b[0m\u001b[0max\u001b[0m\u001b[0;34m=\u001b[0m\u001b[0max\u001b[0m\u001b[0;34m,\u001b[0m\u001b[0;34m**\u001b[0m\u001b[0msty\u001b[0m\u001b[0;34m,\u001b[0m\u001b[0mlabel\u001b[0m\u001b[0;34m=\u001b[0m\u001b[0;34m'PS06 ({:.0f} m)'\u001b[0m\u001b[0;34m.\u001b[0m\u001b[0mformat\u001b[0m\u001b[0;34m(\u001b[0m\u001b[0mzref\u001b[0m\u001b[0;34m)\u001b[0m\u001b[0;34m)\u001b[0m\u001b[0;34m\u001b[0m\u001b[0;34m\u001b[0m\u001b[0m\n",
      "\u001b[0;32m~/anaconda3/lib/python3.7/site-packages/pandas/core/frame.py\u001b[0m in \u001b[0;36m__getitem__\u001b[0;34m(self, key)\u001b[0m\n\u001b[1;32m   2686\u001b[0m             \u001b[0;32mreturn\u001b[0m \u001b[0mself\u001b[0m\u001b[0;34m.\u001b[0m\u001b[0m_getitem_multilevel\u001b[0m\u001b[0;34m(\u001b[0m\u001b[0mkey\u001b[0m\u001b[0;34m)\u001b[0m\u001b[0;34m\u001b[0m\u001b[0;34m\u001b[0m\u001b[0m\n\u001b[1;32m   2687\u001b[0m         \u001b[0;32melse\u001b[0m\u001b[0;34m:\u001b[0m\u001b[0;34m\u001b[0m\u001b[0;34m\u001b[0m\u001b[0m\n\u001b[0;32m-> 2688\u001b[0;31m             \u001b[0;32mreturn\u001b[0m \u001b[0mself\u001b[0m\u001b[0;34m.\u001b[0m\u001b[0m_getitem_column\u001b[0m\u001b[0;34m(\u001b[0m\u001b[0mkey\u001b[0m\u001b[0;34m)\u001b[0m\u001b[0;34m\u001b[0m\u001b[0;34m\u001b[0m\u001b[0m\n\u001b[0m\u001b[1;32m   2689\u001b[0m \u001b[0;34m\u001b[0m\u001b[0m\n\u001b[1;32m   2690\u001b[0m     \u001b[0;32mdef\u001b[0m \u001b[0m_getitem_column\u001b[0m\u001b[0;34m(\u001b[0m\u001b[0mself\u001b[0m\u001b[0;34m,\u001b[0m \u001b[0mkey\u001b[0m\u001b[0;34m)\u001b[0m\u001b[0;34m:\u001b[0m\u001b[0;34m\u001b[0m\u001b[0;34m\u001b[0m\u001b[0m\n",
      "\u001b[0;32m~/anaconda3/lib/python3.7/site-packages/pandas/core/frame.py\u001b[0m in \u001b[0;36m_getitem_column\u001b[0;34m(self, key)\u001b[0m\n\u001b[1;32m   2693\u001b[0m         \u001b[0;31m# get column\u001b[0m\u001b[0;34m\u001b[0m\u001b[0;34m\u001b[0m\u001b[0;34m\u001b[0m\u001b[0m\n\u001b[1;32m   2694\u001b[0m         \u001b[0;32mif\u001b[0m \u001b[0mself\u001b[0m\u001b[0;34m.\u001b[0m\u001b[0mcolumns\u001b[0m\u001b[0;34m.\u001b[0m\u001b[0mis_unique\u001b[0m\u001b[0;34m:\u001b[0m\u001b[0;34m\u001b[0m\u001b[0;34m\u001b[0m\u001b[0m\n\u001b[0;32m-> 2695\u001b[0;31m             \u001b[0;32mreturn\u001b[0m \u001b[0mself\u001b[0m\u001b[0;34m.\u001b[0m\u001b[0m_get_item_cache\u001b[0m\u001b[0;34m(\u001b[0m\u001b[0mkey\u001b[0m\u001b[0;34m)\u001b[0m\u001b[0;34m\u001b[0m\u001b[0;34m\u001b[0m\u001b[0m\n\u001b[0m\u001b[1;32m   2696\u001b[0m \u001b[0;34m\u001b[0m\u001b[0m\n\u001b[1;32m   2697\u001b[0m         \u001b[0;31m# duplicate columns & possible reduce dimensionality\u001b[0m\u001b[0;34m\u001b[0m\u001b[0;34m\u001b[0m\u001b[0;34m\u001b[0m\u001b[0m\n",
      "\u001b[0;32m~/anaconda3/lib/python3.7/site-packages/pandas/core/generic.py\u001b[0m in \u001b[0;36m_get_item_cache\u001b[0;34m(self, item)\u001b[0m\n\u001b[1;32m   2487\u001b[0m         \u001b[0mres\u001b[0m \u001b[0;34m=\u001b[0m \u001b[0mcache\u001b[0m\u001b[0;34m.\u001b[0m\u001b[0mget\u001b[0m\u001b[0;34m(\u001b[0m\u001b[0mitem\u001b[0m\u001b[0;34m)\u001b[0m\u001b[0;34m\u001b[0m\u001b[0;34m\u001b[0m\u001b[0m\n\u001b[1;32m   2488\u001b[0m         \u001b[0;32mif\u001b[0m \u001b[0mres\u001b[0m \u001b[0;32mis\u001b[0m \u001b[0;32mNone\u001b[0m\u001b[0;34m:\u001b[0m\u001b[0;34m\u001b[0m\u001b[0;34m\u001b[0m\u001b[0m\n\u001b[0;32m-> 2489\u001b[0;31m             \u001b[0mvalues\u001b[0m \u001b[0;34m=\u001b[0m \u001b[0mself\u001b[0m\u001b[0;34m.\u001b[0m\u001b[0m_data\u001b[0m\u001b[0;34m.\u001b[0m\u001b[0mget\u001b[0m\u001b[0;34m(\u001b[0m\u001b[0mitem\u001b[0m\u001b[0;34m)\u001b[0m\u001b[0;34m\u001b[0m\u001b[0;34m\u001b[0m\u001b[0m\n\u001b[0m\u001b[1;32m   2490\u001b[0m             \u001b[0mres\u001b[0m \u001b[0;34m=\u001b[0m \u001b[0mself\u001b[0m\u001b[0;34m.\u001b[0m\u001b[0m_box_item_values\u001b[0m\u001b[0;34m(\u001b[0m\u001b[0mitem\u001b[0m\u001b[0;34m,\u001b[0m \u001b[0mvalues\u001b[0m\u001b[0;34m)\u001b[0m\u001b[0;34m\u001b[0m\u001b[0;34m\u001b[0m\u001b[0m\n\u001b[1;32m   2491\u001b[0m             \u001b[0mcache\u001b[0m\u001b[0;34m[\u001b[0m\u001b[0mitem\u001b[0m\u001b[0;34m]\u001b[0m \u001b[0;34m=\u001b[0m \u001b[0mres\u001b[0m\u001b[0;34m\u001b[0m\u001b[0;34m\u001b[0m\u001b[0m\n",
      "\u001b[0;32m~/anaconda3/lib/python3.7/site-packages/pandas/core/internals.py\u001b[0m in \u001b[0;36mget\u001b[0;34m(self, item, fastpath)\u001b[0m\n\u001b[1;32m   4113\u001b[0m \u001b[0;34m\u001b[0m\u001b[0m\n\u001b[1;32m   4114\u001b[0m             \u001b[0;32mif\u001b[0m \u001b[0;32mnot\u001b[0m \u001b[0misna\u001b[0m\u001b[0;34m(\u001b[0m\u001b[0mitem\u001b[0m\u001b[0;34m)\u001b[0m\u001b[0;34m:\u001b[0m\u001b[0;34m\u001b[0m\u001b[0;34m\u001b[0m\u001b[0m\n\u001b[0;32m-> 4115\u001b[0;31m                 \u001b[0mloc\u001b[0m \u001b[0;34m=\u001b[0m \u001b[0mself\u001b[0m\u001b[0;34m.\u001b[0m\u001b[0mitems\u001b[0m\u001b[0;34m.\u001b[0m\u001b[0mget_loc\u001b[0m\u001b[0;34m(\u001b[0m\u001b[0mitem\u001b[0m\u001b[0;34m)\u001b[0m\u001b[0;34m\u001b[0m\u001b[0;34m\u001b[0m\u001b[0m\n\u001b[0m\u001b[1;32m   4116\u001b[0m             \u001b[0;32melse\u001b[0m\u001b[0;34m:\u001b[0m\u001b[0;34m\u001b[0m\u001b[0;34m\u001b[0m\u001b[0m\n\u001b[1;32m   4117\u001b[0m                 \u001b[0mindexer\u001b[0m \u001b[0;34m=\u001b[0m \u001b[0mnp\u001b[0m\u001b[0;34m.\u001b[0m\u001b[0marange\u001b[0m\u001b[0;34m(\u001b[0m\u001b[0mlen\u001b[0m\u001b[0;34m(\u001b[0m\u001b[0mself\u001b[0m\u001b[0;34m.\u001b[0m\u001b[0mitems\u001b[0m\u001b[0;34m)\u001b[0m\u001b[0;34m)\u001b[0m\u001b[0;34m[\u001b[0m\u001b[0misna\u001b[0m\u001b[0;34m(\u001b[0m\u001b[0mself\u001b[0m\u001b[0;34m.\u001b[0m\u001b[0mitems\u001b[0m\u001b[0;34m)\u001b[0m\u001b[0;34m]\u001b[0m\u001b[0;34m\u001b[0m\u001b[0;34m\u001b[0m\u001b[0m\n",
      "\u001b[0;32m~/anaconda3/lib/python3.7/site-packages/pandas/core/indexes/base.py\u001b[0m in \u001b[0;36mget_loc\u001b[0;34m(self, key, method, tolerance)\u001b[0m\n\u001b[1;32m   3078\u001b[0m                 \u001b[0;32mreturn\u001b[0m \u001b[0mself\u001b[0m\u001b[0;34m.\u001b[0m\u001b[0m_engine\u001b[0m\u001b[0;34m.\u001b[0m\u001b[0mget_loc\u001b[0m\u001b[0;34m(\u001b[0m\u001b[0mkey\u001b[0m\u001b[0;34m)\u001b[0m\u001b[0;34m\u001b[0m\u001b[0;34m\u001b[0m\u001b[0m\n\u001b[1;32m   3079\u001b[0m             \u001b[0;32mexcept\u001b[0m \u001b[0mKeyError\u001b[0m\u001b[0;34m:\u001b[0m\u001b[0;34m\u001b[0m\u001b[0;34m\u001b[0m\u001b[0m\n\u001b[0;32m-> 3080\u001b[0;31m                 \u001b[0;32mreturn\u001b[0m \u001b[0mself\u001b[0m\u001b[0;34m.\u001b[0m\u001b[0m_engine\u001b[0m\u001b[0;34m.\u001b[0m\u001b[0mget_loc\u001b[0m\u001b[0;34m(\u001b[0m\u001b[0mself\u001b[0m\u001b[0;34m.\u001b[0m\u001b[0m_maybe_cast_indexer\u001b[0m\u001b[0;34m(\u001b[0m\u001b[0mkey\u001b[0m\u001b[0;34m)\u001b[0m\u001b[0;34m)\u001b[0m\u001b[0;34m\u001b[0m\u001b[0;34m\u001b[0m\u001b[0m\n\u001b[0m\u001b[1;32m   3081\u001b[0m \u001b[0;34m\u001b[0m\u001b[0m\n\u001b[1;32m   3082\u001b[0m         \u001b[0mindexer\u001b[0m \u001b[0;34m=\u001b[0m \u001b[0mself\u001b[0m\u001b[0;34m.\u001b[0m\u001b[0mget_indexer\u001b[0m\u001b[0;34m(\u001b[0m\u001b[0;34m[\u001b[0m\u001b[0mkey\u001b[0m\u001b[0;34m]\u001b[0m\u001b[0;34m,\u001b[0m \u001b[0mmethod\u001b[0m\u001b[0;34m=\u001b[0m\u001b[0mmethod\u001b[0m\u001b[0;34m,\u001b[0m \u001b[0mtolerance\u001b[0m\u001b[0;34m=\u001b[0m\u001b[0mtolerance\u001b[0m\u001b[0;34m)\u001b[0m\u001b[0;34m\u001b[0m\u001b[0;34m\u001b[0m\u001b[0m\n",
      "\u001b[0;32mpandas/_libs/index.pyx\u001b[0m in \u001b[0;36mpandas._libs.index.IndexEngine.get_loc\u001b[0;34m()\u001b[0m\n",
      "\u001b[0;32mpandas/_libs/index.pyx\u001b[0m in \u001b[0;36mpandas._libs.index.IndexEngine.get_loc\u001b[0;34m()\u001b[0m\n",
      "\u001b[0;32mpandas/_libs/hashtable_class_helper.pxi\u001b[0m in \u001b[0;36mpandas._libs.hashtable.PyObjectHashTable.get_item\u001b[0;34m()\u001b[0m\n",
      "\u001b[0;32mpandas/_libs/hashtable_class_helper.pxi\u001b[0m in \u001b[0;36mpandas._libs.hashtable.PyObjectHashTable.get_item\u001b[0;34m()\u001b[0m\n",
      "\u001b[0;31mKeyError\u001b[0m: '(z-d)/L'"
     ]
    },
    {
     "data": {
      "image/png": "[encoded data removed]",
      "text/plain": [
       "<Figure size 792x288 with 1 Axes>"
      ]
     },
     "metadata": {
      "needs_background": "light"
     },
     "output_type": "display_data"
    }
   ],
   "source": [
    "fig,ax = plt.subplots(figsize=(11,4))\n",
    "zref = 10.\n",
    "plotcol = '(z-d)/L'\n",
    "sty = dict(\n",
    "    ls='none',\n",
    "    marker='o',\n",
    "    markersize=5,\n",
    ")\n",
    "\n",
    "ps01.xs(zref,level=1)[plotcol].plot(ax=ax,**sty,label='PS01 ({:.0f} m)'.format(zref))\n",
    "ps02.xs(zref,level=1)[plotcol].plot(ax=ax,**sty,label='PS02 ({:.0f} m)'.format(zref))\n",
    "ps06.xs(zref,level=1)[plotcol].plot(ax=ax,**sty,label='PS06 ({:.0f} m)'.format(zref))\n",
    "ps11.xs(zref,level=1)[plotcol].plot(ax=ax,**sty,label='PS11 ({:.0f} m)'.format(zref))\n",
    "ax.set_ylim((-2,2))\n",
    "\n",
    "setup_datetime_axis(ax)\n",
    "ax.tick_params(labelsize='x-large')\n",
    "ax.set_ylabel('z/L at {:.0f}m [-]'.format(zref),fontsize='x-large')\n",
    "ax.set_title('Atmospheric Stability')\n",
    "ax.axhline(0,color='k',lw=1)\n",
    "# ax.axhline(-0.02,color='k',ls='--')\n",
    "# ax.axhline(0.02,color='k',ls='--')\n",
    "ax.axvspan(simstart,simend,color='0.9')\n",
    "ax.legend()"
   ]
  },
  {
   "cell_type": "code",
   "execution_count": null,
   "metadata": {},
   "outputs": [],
   "source": [
    "fig,ax = plt.subplots(figsize=(11,4))\n",
    "sty = dict(\n",
    "    #lw = 3,\n",
    "    ls='none',\n",
    "    marker='o',\n",
    "    markersize=5,\n",
    ")\n",
    "\n",
    "zref = 3.\n",
    "plotcol = 'w/ts_cov'\n",
    "ps01.xs(zref,level=1)[plotcol].plot(ax=ax,**sty,label='PS01 ({:.0f} m)'.format(zref))\n",
    "ps02.xs(zref,level=1)[plotcol].plot(ax=ax,**sty,label='PS02 ({:.0f} m)'.format(zref))\n",
    "ps06.xs(zref,level=1)[plotcol].plot(ax=ax,**sty,label='PS06 ({:.0f} m)'.format(zref))\n",
    "ps11.xs(zref,level=1)[plotcol].plot(ax=ax,**sty,label='PS11 ({:.0f} m)'.format(zref))\n",
    "ax.set_ylim((-0.05,0.125))\n",
    "\n",
    "# zref = 10.\n",
    "# plotcol = 'hflux'\n",
    "# ps04[plotcol].plot(ax=ax,**sty,label='PS04 ({:.0f} m)'.format(zref))\n",
    "# ps05[plotcol].plot(ax=ax,**sty,label='PS05 ({:.0f} m)'.format(zref))\n",
    "# ps10[plotcol].plot(ax=ax,**sty,label='PS10 ({:.0f} m)'.format(zref))\n",
    "\n",
    "ax2 = ax.twinx()\n",
    "ps07['SW_down'].plot(ax=ax2,color='0.5',alpha=0.5)\n",
    "ps07['SW_down'].resample('15min',label='left').median().plot(ax=ax2,color='k')\n",
    "ax2.set_ylim((-260,650))\n",
    "ax2.set_ylabel(r'downwelling SW solar radiation [W/m$^2$]')\n",
    "\n",
    "setup_datetime_axis(ax)\n",
    "ax.tick_params(labelsize='x-large')\n",
    "ax.set_ylabel(r\"$\\overline{T_s'w'}$ [K-m/s]\",fontsize='x-large')\n",
    "ax.set_title('Heat Flux')\n",
    "ax.axhline(0,color='k',ls='--')\n",
    "ax.axvspan(simstart,simend,color='0.9')\n",
    "ax.legend(title=r\"$\\overline{T_s'w'}$\")"
   ]
  },
  {
   "cell_type": "code",
   "execution_count": null,
   "metadata": {},
   "outputs": [],
   "source": [
    "fig,ax = plt.subplots(figsize=(11,4))\n",
    "sty = dict(\n",
    "    #lw = 3,\n",
    "    ls='none',\n",
    "    marker='o',\n",
    "    markersize=5,\n",
    ")\n",
    "\n",
    "# zref = 3.\n",
    "# plotcol = 'w/ts_cov'\n",
    "# ps01.xs(zref,level=1)[plotcol].plot(ax=ax,**sty,label='PS01 ({:.0f} m)'.format(zref))\n",
    "# ps02.xs(zref,level=1)[plotcol].plot(ax=ax,**sty,label='PS02 ({:.0f} m)'.format(zref))\n",
    "# ps06.xs(zref,level=1)[plotcol].plot(ax=ax,**sty,label='PS06 ({:.0f} m)'.format(zref))\n",
    "# ps11.xs(zref,level=1)[plotcol].plot(ax=ax,**sty,label='PS11 ({:.0f} m)'.format(zref))\n",
    "# ax.set_ylim((-0.05,0.125))\n",
    "\n",
    "zref = 10.\n",
    "plotcol = 'hflux'\n",
    "ps04[plotcol].plot(ax=ax,**sty,label='PS04 ({:.0f} m)'.format(zref))\n",
    "ps05[plotcol].plot(ax=ax,**sty,label='PS05 ({:.0f} m)'.format(zref))\n",
    "ps10[plotcol].plot(ax=ax,**sty,label='PS10 ({:.0f} m)'.format(zref))\n",
    "\n",
    "ax2 = ax.twinx()\n",
    "ps07['SW_down'].plot(ax=ax2,color='0.5',alpha=0.5)\n",
    "ps07['SW_down'].resample('15min',label='left').median().plot(ax=ax2,color='k')\n",
    "ax2.set_ylim((-260,650))\n",
    "ax2.set_ylabel(r'downwelling SW solar radiation [W/m$^2$]')\n",
    "\n",
    "setup_datetime_axis(ax)\n",
    "ax.tick_params(labelsize='x-large')\n",
    "ax.set_ylabel(r\"$\\overline{T_s'w'}$ [K-m/s]\",fontsize='x-large')\n",
    "ax.set_title('Heat Flux')\n",
    "ax.axhline(0,color='k',ls='--')\n",
    "ax.axvspan(simstart,simend,color='0.9')\n",
    "ax.legend(title=r\"$\\overline{T_s'w'}$\")"
   ]
  },
  {
   "cell_type": "code",
   "execution_count": null,
   "metadata": {},
   "outputs": [],
   "source": [
    "fig,ax = plt.subplots(figsize=(11,4))\n",
    "\n",
    "zref = 3.\n",
    "plotcol='Tv'\n",
    "Tv_mean = (ps01_biomet.xs(zref,level=1)[plotcol] \n",
    "           + ps02_biomet.xs(zref,level=1)[plotcol] \n",
    "           + ps06_biomet.xs(zref,level=1)[plotcol]) / 3 - 273.15\n",
    "(ps01_biomet.xs(zref,level=1)[plotcol]-273.15).plot(ax=ax,color=colors[0],label='PS01 ({:.0f} m)'.format(zref))\n",
    "(ps02_biomet.xs(zref,level=1)[plotcol]-273.15).plot(ax=ax,color=colors[1],label='PS02 ({:.0f} m)'.format(zref))\n",
    "(ps06_biomet.xs(zref,level=1)[plotcol]-273.15).plot(ax=ax,color=colors[2],label='PS06 ({:.0f} m)'.format(zref))\n",
    "#(ps11_biomet.xs(zref,level=1)[plotcol]-273.15).plot(ax=ax,color=colors[3],label='PS11 ({:.0f} m)'.format(zref))\n",
    "Tv_mean.plot(ax=ax,color='k',label='mean of PS01/2/6 ({:.0f} m)'.format(zref))\n",
    "\n",
    "plotcol='T'\n",
    "(ps01_biomet.xs(zref,level=1)[plotcol]-273.15).plot(ax=ax,ls=':',color=colors[0],label='')\n",
    "(ps02_biomet.xs(zref,level=1)[plotcol]-273.15).plot(ax=ax,ls=':',color=colors[1],label='')\n",
    "(ps06_biomet.xs(zref,level=1)[plotcol]-273.15).plot(ax=ax,ls=':',color=colors[2],label='')\n",
    "#(ps11_biomet.xs(zref,level=1)[plotcol]-273.15).plot(ax=ax,ls=':',color=colors[3],label='')\n",
    "ax.set_ylim((3,12))\n",
    "ax.set_yticks(range(3,13))\n",
    "\n",
    "zref = 2.\n",
    "(ps07['Tv']-273.15).plot(ax=ax,color=colors[4],label='PS07 ({:.0f} m)'.format(zref))\n",
    "(ps07['T']-273.15).plot(ax=ax,ls=':',color=colors[4],label='')\n",
    "(ps08['Tv']-273.15).plot(ax=ax,color=colors[5],label='PS08 ({:.0f} m)'.format(zref))\n",
    "(ps08['T']-273.15).plot(ax=ax,ls=':',color=colors[5],label='')\n",
    "\n",
    "sim_mean_range = (Tv_mean.index >= '2016-11-21 21:00') & (Tv_mean.index <= '2016-11-21 23:00')\n",
    "Tv_sim = Tv_mean.loc[sim_mean_range].mean()\n",
    "print(Tv_sim,Tv_sim+273.15)\n",
    "ax.axhline(Tv_sim,color='k',ls='--')\n",
    "\n",
    "setup_datetime_axis(ax)\n",
    "ax.tick_params(labelsize='x-large')\n",
    "ax.set_ylabel(r\"$T$ (dotted), $T_v$ (solid) [$^\\circ$C]\",fontsize='x-large')\n",
    "ax.axvspan(simstart,simend,color='0.9')\n",
    "ax.legend(ncol=2)\n",
    "ax.set_title('Surface Air Temperature')"
   ]
  },
  {
   "cell_type": "code",
   "execution_count": null,
   "metadata": {},
   "outputs": [],
   "source": []
  }
 ],
 "metadata": {
  "kernelspec": {
   "display_name": "Python 3",
   "language": "python",
   "name": "python3"
  },
  "language_info": {
   "codemirror_mode": {
    "name": "ipython",
    "version": 3
   },
   "file_extension": ".py",
   "mimetype": "text/x-python",
   "name": "python",
   "nbconvert_exporter": "python",
   "pygments_lexer": "ipython3",
   "version": "3.7.1"
  }
 },
 "nbformat": 4,
 "nbformat_minor": 2
}
