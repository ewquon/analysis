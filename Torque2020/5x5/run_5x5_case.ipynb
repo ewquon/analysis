{
 "cells": [
  {
   "cell_type": "code",
   "execution_count": 2,
   "metadata": {},
   "outputs": [],
   "source": [
    "%matplotlib inline\n",
    "import numpy as np\n",
    "import matplotlib.pyplot as plt\n",
    "import sys\n",
    "\n",
    "import floris.tools as wfct\n",
    "from floris.utilities import Vec3  # to specify grid resolution\n",
    "\n",
    "import pyamg"
   ]
  },
  {
   "cell_type": "code",
   "execution_count": 3,
   "metadata": {},
   "outputs": [],
   "source": [
    "import os\n",
    "if not os.path.isdir('figures'):\n",
    "    os.makedirs('figures')"
   ]
  },
  {
   "cell_type": "code",
   "execution_count": 16,
   "metadata": {},
   "outputs": [],
   "source": [
    "case = 'Layout_5x5_rev1.json'\n",
    "R = 63.0\n",
    "zhub = 125.99\n",
    "\n",
    "xmax = 2520/R\n",
    "ymin,ymax = -1260/R, 1260/R\n",
    "\n",
    "# HARD-CODED PARAMS\n",
    "debug = False\n",
    "tol = 1e-6\n",
    "savefloris = True\n",
    "\n",
    "# u contour levels to plot\n",
    "#ulevels = [0.7, 0.8, 0.9, 0.95, 0.98, 0.99]"
   ]
  },
  {
   "cell_type": "markdown",
   "metadata": {},
   "source": [
    "## setup domain"
   ]
  },
  {
   "cell_type": "code",
   "execution_count": 12,
   "metadata": {},
   "outputs": [],
   "source": [
    "xrange = (-10, xmax+10) # rotor radii\n",
    "yrange = (ymin-1-buf, ymax+1+buf)\n",
    "buf = 10  # lateral/vertical extent, in rotor radii\n",
    "#spacing = 0.4 # grid spacing, in rotor radii\n",
    "#spacing = 0.2 # grid spacing, in rotor radii\n",
    "spacing = 0.1 # grid spacing, in rotor radii\n",
    "\n",
    "groundeffect = True"
   ]
  },
  {
   "cell_type": "code",
   "execution_count": 13,
   "metadata": {},
   "outputs": [
    {
     "name": "stdout",
     "output_type": "stream",
     "text": [
      "Nx,Ny,Nz = 601 621 1369\n"
     ]
    }
   ],
   "source": [
    "if groundeffect:\n",
    "    #zrange = (0, zhub+1+buf)\n",
    "    zrange = (spacing, zhub+1+buf) # our domain does _not_ include boundary points\n",
    "else:\n",
    "    zrange = (zhub-1-buf, zhub+1+buf)\n",
    "Nx = int((xrange[1]-xrange[0]) / spacing) + 1\n",
    "Ny = int((yrange[1]-yrange[0]) / spacing) + 1\n",
    "Nz = int((zrange[1]-zrange[0]) / spacing) + 1\n",
    "N = Nx*Ny*Nz\n",
    "print('Nx,Ny,Nz =',Nx,Ny,Nz)\n",
    "x1 = (np.arange(Nx)*spacing + xrange[0]) * R\n",
    "y1 = (np.arange(Ny)*spacing + yrange[0]) * R\n",
    "z1 = (np.arange(Nz)*spacing + zrange[0]) * R"
   ]
  },
  {
   "cell_type": "markdown",
   "metadata": {},
   "source": [
    "## calculate floris wake"
   ]
  },
  {
   "cell_type": "code",
   "execution_count": 21,
   "metadata": {},
   "outputs": [],
   "source": [
    "fi = wfct.floris_interface.FlorisInterface(case)"
   ]
  },
  {
   "cell_type": "code",
   "execution_count": null,
   "metadata": {},
   "outputs": [
    {
     "name": "stdout",
     "output_type": "stream",
     "text": [
      "Calculating floris wake\n"
     ]
    }
   ],
   "source": [
    "%%time\n",
    "print('Calculating floris wake')\n",
    "\n",
    "fi.floris.farm.flow_field.reinitialize_flow_field(\n",
    "    with_resolution=Vec3(Nx,Ny,Nz),\n",
    "    bounds_to_set=list(xrange)+list(yrange)+list(zrange),\n",
    ")\n",
    "fi.calculate_wake()"
   ]
  },
  {
   "cell_type": "code",
   "execution_count": null,
   "metadata": {},
   "outputs": [],
   "source": [
    "hor_plane = fi.get_hor_plane()\n",
    "hor_plane.df[['u','v','w']] /= wspd\n",
    "\n",
    "fig, ax = plt.subplots()\n",
    "cm = wfct.visualization.visualize_cut_plane(hor_plane, ax=ax, cmap='Blues', minSpeed=vmin)\n",
    "cb = fig.colorbar(cm)"
   ]
  }
 ],
 "metadata": {
  "kernelspec": {
   "display_name": "Python 3",
   "language": "python",
   "name": "python3"
  },
  "language_info": {
   "codemirror_mode": {
    "name": "ipython",
    "version": 3
   },
   "file_extension": ".py",
   "mimetype": "text/x-python",
   "name": "python",
   "nbconvert_exporter": "python",
   "pygments_lexer": "ipython3",
   "version": "3.7.6"
  }
 },
 "nbformat": 4,
 "nbformat_minor": 4
}
