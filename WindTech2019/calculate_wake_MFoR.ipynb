{
 "cells": [
  {
   "cell_type": "code",
   "execution_count": 1,
   "metadata": {},
   "outputs": [],
   "source": [
    "%load_ext autoreload\n",
    "%autoreload 2"
   ]
  },
  {
   "cell_type": "code",
   "execution_count": 2,
   "metadata": {},
   "outputs": [],
   "source": [
    "%matplotlib inline\n",
    "import os\n",
    "import numpy as np\n",
    "import xarray as xr\n",
    "import matplotlib.pyplot as plt"
   ]
  },
  {
   "cell_type": "code",
   "execution_count": 3,
   "metadata": {},
   "outputs": [],
   "source": [
    "# parallel processing\n",
    "from multiprocessing import Pool"
   ]
  },
  {
   "cell_type": "code",
   "execution_count": 4,
   "metadata": {},
   "outputs": [],
   "source": [
    "# samwich routines\n",
    "from samwich.dataloaders import XarrayData\n",
    "from samwich.waketrackers import track"
   ]
  },
  {
   "cell_type": "code",
   "execution_count": 5,
   "metadata": {},
   "outputs": [],
   "source": [
    "# case definition\n",
    "from study import V27, neutral\n",
    "from trajectory import Trajectory"
   ]
  },
  {
   "cell_type": "markdown",
   "metadata": {},
   "source": [
    "# Meandering-Frame-of-Reference Analysis"
   ]
  },
  {
   "cell_type": "code",
   "execution_count": 6,
   "metadata": {},
   "outputs": [],
   "source": [
    "case = neutral(casedir='WAKEBENCH-NREL_DEBNATH_LES/neutral',\n",
    "               prefix='NREL_DEBNATH_LES_20190325',\n",
    "               turbine=V27)"
   ]
  },
  {
   "cell_type": "code",
   "execution_count": 78,
   "metadata": {},
   "outputs": [],
   "source": [
    "trackers = {\n",
    "    '2D Gaussian': 'Gaussian2D',\n",
    "    '1D Gaussian (Bastankhah)': 'Gaussian',\n",
    "    'Const area': 'ConstantArea',\n",
    "    'Const momentum deficit': 'ConstantFlux',\n",
    "}\n",
    "wakedata = {\n",
    "    '2D Gaussian': '2D_Gaussian',\n",
    "    '1D Gaussian (Bastankhah)': '1D_Gaussian_Bastankhah',\n",
    "    'Const area': 'Constant-Area_Contours',\n",
    "    'Const momentum deficit': 'Constant-Xmom_Contours',\n",
    "}\n",
    "suffix = '--filtered'"
   ]
  },
  {
   "cell_type": "code",
   "execution_count": 8,
   "metadata": {},
   "outputs": [],
   "source": [
    "sample_times = np.arange(16150,17812+1) # from Mithu's original data"
   ]
  },
  {
   "cell_type": "code",
   "execution_count": 9,
   "metadata": {},
   "outputs": [],
   "source": [
    "ds = 0.25\n",
    "D = case.turbine.D\n",
    "ymin,ymax = -1.5*D, 1.5*D\n",
    "zmin,zmax = -1.5*D, 1.5*D # relative to hub height"
   ]
  },
  {
   "cell_type": "markdown",
   "metadata": {},
   "source": [
    "## set up MFoR grid"
   ]
  },
  {
   "cell_type": "code",
   "execution_count": 10,
   "metadata": {},
   "outputs": [],
   "source": [
    "# points for pcolormesh\n",
    "y0 = np.arange(ymin,ymax+ds,ds)\n",
    "z0 = np.arange(zmin,zmax+ds,ds)\n",
    "yy,zz = np.meshgrid(y0,z0,indexing='ij')"
   ]
  },
  {
   "cell_type": "code",
   "execution_count": 11,
   "metadata": {},
   "outputs": [],
   "source": [
    "# points to pass to `wake.to_MFoR()`\n",
    "y1 = (y0[1:] + y0[:-1]) / 2\n",
    "z1 = (z0[1:] + z0[:-1]) / 2"
   ]
  },
  {
   "cell_type": "markdown",
   "metadata": {},
   "source": [
    "## read all planes"
   ]
  },
  {
   "cell_type": "code",
   "execution_count": 12,
   "metadata": {},
   "outputs": [
    {
     "name": "stdout",
     "output_type": "stream",
     "text": [
      "Selected datafile: WAKEBENCH-NREL_DEBNATH_LES/neutral/NREL_DEBNATH_LES_20190325_uvw_2D.nc\n",
      "Calculated offset: 13\n",
      "Selected datafile: WAKEBENCH-NREL_DEBNATH_LES/neutral/NREL_DEBNATH_LES_20190325_uvw_3D.nc\n",
      "Calculated offset: 17\n",
      "Selected datafile: WAKEBENCH-NREL_DEBNATH_LES/neutral/NREL_DEBNATH_LES_20190325_uvw_4D.nc\n",
      "Calculated offset: 20\n",
      "Selected datafile: WAKEBENCH-NREL_DEBNATH_LES/neutral/NREL_DEBNATH_LES_20190325_uvw_5D.nc\n",
      "Calculated offset: 23\n",
      "Selected datafile: WAKEBENCH-NREL_DEBNATH_LES/neutral/NREL_DEBNATH_LES_20190325_uvw_6D.nc\n",
      "Calculated offset: 26\n",
      "Selected datafile: WAKEBENCH-NREL_DEBNATH_LES/neutral/NREL_DEBNATH_LES_20190325_uvw_7D.nc\n",
      "Calculated offset: 29\n",
      "Selected datafile: WAKEBENCH-NREL_DEBNATH_LES/neutral/NREL_DEBNATH_LES_20190325_uvw_8D.nc\n",
      "Calculated offset: 32\n",
      "CPU times: user 10 s, sys: 10.4 s, total: 20.4 s\n",
      "Wall time: 20.9 s\n"
     ]
    }
   ],
   "source": [
    "%%time\n",
    "dataplanes = {\n",
    "    downD: XarrayData(case.get_wake_datafile(downD),\n",
    "                      uvar='U',vvar='V',wvar='W',\n",
    "                      trim_time=case.trim_time(downD))\n",
    "    for downD in case.downstreamD\n",
    "}"
   ]
  },
  {
   "cell_type": "code",
   "execution_count": 13,
   "metadata": {},
   "outputs": [
    {
     "data": {
      "text/plain": [
       "1572"
      ]
     },
     "execution_count": 13,
     "metadata": {},
     "output_type": "execute_result"
    }
   ],
   "source": [
    "maxlen = len(case.get_inflow(case.downstreamD[-1]))\n",
    "maxlen"
   ]
  },
  {
   "cell_type": "code",
   "execution_count": 14,
   "metadata": {},
   "outputs": [],
   "source": [
    "times = sample_times[-maxlen:]"
   ]
  },
  {
   "cell_type": "markdown",
   "metadata": {},
   "source": [
    "## load trackers \n",
    "for MFoR transformation"
   ]
  },
  {
   "cell_type": "code",
   "execution_count": 15,
   "metadata": {},
   "outputs": [],
   "source": [
    "def get_plane_mfor(name,downD):\n",
    "    data = dataplanes[downD]\n",
    "    wo = track(data.sliceI(), method=trackers[name])\n",
    "    wo.remove_shear(wind_profile=case.get_inflow(downD))\n",
    "    outfiles = case.get_outputs(wakedata[name],downD,suffix=suffix)\n",
    "    wo._read_trajectory(outfiles['trajectory_file'])\n",
    "    #wo._read_outlines(outfiles['outlines_file'])\n",
    "    wo.to_MFoR(y1,z1)\n",
    "    return wo.u_mfor[-maxlen:,:,:]"
   ]
  },
  {
   "cell_type": "markdown",
   "metadata": {},
   "source": [
    "### mean wake"
   ]
  },
  {
   "cell_type": "code",
   "execution_count": 76,
   "metadata": {},
   "outputs": [],
   "source": [
    "def get_mean_wake_mfor(name,output=None):\n",
    "    planes = []\n",
    "    for downD in case.downstreamD:\n",
    "        planes.append(get_plane_mfor(name,downD).mean(axis=0))\n",
    "    fullwake = np.stack(planes,axis=0) # dims==(x,y,z)\n",
    "        \n",
    "    wake_mfor = xr.Dataset(\n",
    "        data_vars={\n",
    "            'u': (('x_D','y_D','z_D'), fullwake),\n",
    "        },\n",
    "        coords={\n",
    "            'x_D': case.downstreamD,\n",
    "            'y_D': y1/D,\n",
    "            'z_D': z1/D\n",
    "        }\n",
    "    )\n",
    "    \n",
    "    if output is not None:\n",
    "        outfile = os.path.join(case.casedir, wakedata[name]+suffix, output)\n",
    "        print('Writing',outfile)\n",
    "        wake_mfor.to_netcdf(outfile)\n",
    "    \n",
    "    return wake_mfor"
   ]
  },
  {
   "cell_type": "code",
   "execution_count": 41,
   "metadata": {},
   "outputs": [
    {
     "name": "stdout",
     "output_type": "stream",
     "text": [
      "Slicing data at i=0 x=54.0\n",
      "Selected Tracker: Gaussian2D\n",
      "\n",
      "Sampling plane normal vector: [1. 0. 0.]\n",
      "  identified plane center at: 54.0 0.0 40.5010165\n",
      "  rotated to rotor-aligned axes (about z): 0.0 deg\n",
      "  rotation error: 0.0\n",
      "  horizontal search range: -40.0 40.0\n",
      "  vertical search range: 0.497933 80.5041\n",
      "Number of time frames to process: 1591\n",
      "\n",
      "...finished initializing WakeTracker\n",
      "\n",
      "...finished initializing Gaussian2D \n",
      "\n",
      "  subtracting out time-varying profile\n",
      "Trajectory loaded from ./WAKEBENCH-NREL_DEBNATH_LES/neutral/2D_Gaussian--filtered/trajectory_2D.csv\n",
      "Interpolating with RectBivariateSpline\n"
     ]
    },
    {
     "name": "stderr",
     "output_type": "stream",
     "text": [
      "Transform: frame 1590\n"
     ]
    },
    {
     "name": "stdout",
     "output_type": "stream",
     "text": [
      "Slicing data at i=0 x=81.0\n",
      "Selected Tracker: Gaussian2D\n",
      "\n",
      "Sampling plane normal vector: [1. 0. 0.]\n",
      "  identified plane center at: 81.0 0.0 40.5010165\n",
      "  rotated to rotor-aligned axes (about z): 0.0 deg\n",
      "  rotation error: 0.0\n",
      "  horizontal search range: -40.0 40.0\n",
      "  vertical search range: 0.497933 80.5041\n",
      "Number of time frames to process: 1587\n",
      "\n",
      "...finished initializing WakeTracker\n",
      "\n",
      "...finished initializing Gaussian2D \n",
      "\n",
      "  subtracting out time-varying profile\n",
      "Trajectory loaded from ./WAKEBENCH-NREL_DEBNATH_LES/neutral/2D_Gaussian--filtered/trajectory_3D.csv\n",
      "Interpolating with RectBivariateSpline\n"
     ]
    },
    {
     "name": "stderr",
     "output_type": "stream",
     "text": [
      "Transform: frame 1586\n"
     ]
    },
    {
     "name": "stdout",
     "output_type": "stream",
     "text": [
      "Slicing data at i=0 x=108.0\n",
      "Selected Tracker: Gaussian2D\n",
      "\n",
      "Sampling plane normal vector: [1. 0. 0.]\n",
      "  identified plane center at: 108.0 0.0 40.5010165\n",
      "  rotated to rotor-aligned axes (about z): 0.0 deg\n",
      "  rotation error: 0.0\n",
      "  horizontal search range: -40.0 40.0\n",
      "  vertical search range: 0.497933 80.5041\n",
      "Number of time frames to process: 1584\n",
      "\n",
      "...finished initializing WakeTracker\n",
      "\n",
      "...finished initializing Gaussian2D \n",
      "\n",
      "  subtracting out time-varying profile\n",
      "Trajectory loaded from ./WAKEBENCH-NREL_DEBNATH_LES/neutral/2D_Gaussian--filtered/trajectory_4D.csv\n",
      "Interpolating with RectBivariateSpline\n"
     ]
    },
    {
     "name": "stderr",
     "output_type": "stream",
     "text": [
      "Transform: frame 1583\n"
     ]
    },
    {
     "name": "stdout",
     "output_type": "stream",
     "text": [
      "Slicing data at i=0 x=135.0\n",
      "Selected Tracker: Gaussian2D\n",
      "\n",
      "Sampling plane normal vector: [1. 0. 0.]\n",
      "  identified plane center at: 135.0 0.0 40.5010165\n",
      "  rotated to rotor-aligned axes (about z): 0.0 deg\n",
      "  rotation error: 0.0\n",
      "  horizontal search range: -40.0 40.0\n",
      "  vertical search range: 0.497933 80.5041\n",
      "Number of time frames to process: 1581\n",
      "\n",
      "...finished initializing WakeTracker\n",
      "\n",
      "...finished initializing Gaussian2D \n",
      "\n",
      "  subtracting out time-varying profile\n",
      "Trajectory loaded from ./WAKEBENCH-NREL_DEBNATH_LES/neutral/2D_Gaussian--filtered/trajectory_5D.csv\n",
      "Interpolating with RectBivariateSpline\n"
     ]
    },
    {
     "name": "stderr",
     "output_type": "stream",
     "text": [
      "Transform: frame 1580\n"
     ]
    },
    {
     "name": "stdout",
     "output_type": "stream",
     "text": [
      "Slicing data at i=0 x=162.0\n",
      "Selected Tracker: Gaussian2D\n",
      "\n",
      "Sampling plane normal vector: [1. 0. 0.]\n",
      "  identified plane center at: 162.0 0.0 40.5010165\n",
      "  rotated to rotor-aligned axes (about z): 0.0 deg\n",
      "  rotation error: 0.0\n",
      "  horizontal search range: -40.0 40.0\n",
      "  vertical search range: 0.497933 80.5041\n",
      "Number of time frames to process: 1578\n",
      "\n",
      "...finished initializing WakeTracker\n",
      "\n",
      "...finished initializing Gaussian2D \n",
      "\n",
      "  subtracting out time-varying profile\n",
      "Trajectory loaded from ./WAKEBENCH-NREL_DEBNATH_LES/neutral/2D_Gaussian--filtered/trajectory_6D.csv\n",
      "Interpolating with RectBivariateSpline\n"
     ]
    },
    {
     "name": "stderr",
     "output_type": "stream",
     "text": [
      "Transform: frame 1577\n"
     ]
    },
    {
     "name": "stdout",
     "output_type": "stream",
     "text": [
      "Slicing data at i=0 x=189.0\n",
      "Selected Tracker: Gaussian2D\n",
      "\n",
      "Sampling plane normal vector: [1. 0. 0.]\n",
      "  identified plane center at: 189.0 0.0 40.5010165\n",
      "  rotated to rotor-aligned axes (about z): 0.0 deg\n",
      "  rotation error: 0.0\n",
      "  horizontal search range: -40.0 40.0\n",
      "  vertical search range: 0.497933 80.5041\n",
      "Number of time frames to process: 1575\n",
      "\n",
      "...finished initializing WakeTracker\n",
      "\n",
      "...finished initializing Gaussian2D \n",
      "\n",
      "  subtracting out time-varying profile\n",
      "Trajectory loaded from ./WAKEBENCH-NREL_DEBNATH_LES/neutral/2D_Gaussian--filtered/trajectory_7D.csv\n",
      "Interpolating with RectBivariateSpline\n"
     ]
    },
    {
     "name": "stderr",
     "output_type": "stream",
     "text": [
      "Transform: frame 1574\n"
     ]
    },
    {
     "name": "stdout",
     "output_type": "stream",
     "text": [
      "Slicing data at i=0 x=216.0\n",
      "Selected Tracker: Gaussian2D\n",
      "\n",
      "Sampling plane normal vector: [1. 0. 0.]\n",
      "  identified plane center at: 216.0 0.0 40.5010165\n",
      "  rotated to rotor-aligned axes (about z): 0.0 deg\n",
      "  rotation error: 0.0\n",
      "  horizontal search range: -40.0 40.0\n",
      "  vertical search range: 0.497933 80.5041\n",
      "Number of time frames to process: 1572\n",
      "\n",
      "...finished initializing WakeTracker\n",
      "\n",
      "...finished initializing Gaussian2D \n",
      "\n",
      "  subtracting out time-varying profile\n",
      "Trajectory loaded from ./WAKEBENCH-NREL_DEBNATH_LES/neutral/2D_Gaussian--filtered/trajectory_8D.csv\n",
      "Interpolating with RectBivariateSpline\n"
     ]
    },
    {
     "name": "stderr",
     "output_type": "stream",
     "text": [
      "Transform: frame 1571\n"
     ]
    },
    {
     "name": "stdout",
     "output_type": "stream",
     "text": [
      "Writing WAKEBENCH-NREL_DEBNATH_LES/neutral/2D_Gaussian--filtered/mean_wake_mfor.nc\n",
      "Slicing data at i=0 x=54.0\n",
      "Selected Tracker: Gaussian\n",
      "\n",
      "Sampling plane normal vector: [1. 0. 0.]\n",
      "  identified plane center at: 54.0 0.0 40.5010165\n",
      "  rotated to rotor-aligned axes (about z): 0.0 deg\n",
      "  rotation error: 0.0\n",
      "  horizontal search range: -40.0 40.0\n",
      "  vertical search range: 0.497933 80.5041\n",
      "Number of time frames to process: 1591\n",
      "\n",
      "...finished initializing WakeTracker\n",
      "\n",
      "...finished initializing Gaussian \n",
      "\n",
      "  subtracting out time-varying profile\n",
      "Trajectory loaded from ./WAKEBENCH-NREL_DEBNATH_LES/neutral/1D_Gaussian_Bastankhah--filtered/trajectory_2D.csv\n",
      "Interpolating with RectBivariateSpline\n"
     ]
    },
    {
     "name": "stderr",
     "output_type": "stream",
     "text": [
      "Transform: frame 1590\n"
     ]
    },
    {
     "name": "stdout",
     "output_type": "stream",
     "text": [
      "Slicing data at i=0 x=81.0\n",
      "Selected Tracker: Gaussian\n",
      "\n",
      "Sampling plane normal vector: [1. 0. 0.]\n",
      "  identified plane center at: 81.0 0.0 40.5010165\n",
      "  rotated to rotor-aligned axes (about z): 0.0 deg\n",
      "  rotation error: 0.0\n",
      "  horizontal search range: -40.0 40.0\n",
      "  vertical search range: 0.497933 80.5041\n",
      "Number of time frames to process: 1587\n",
      "\n",
      "...finished initializing WakeTracker\n",
      "\n",
      "...finished initializing Gaussian \n",
      "\n",
      "  subtracting out time-varying profile\n",
      "Trajectory loaded from ./WAKEBENCH-NREL_DEBNATH_LES/neutral/1D_Gaussian_Bastankhah--filtered/trajectory_3D.csv\n",
      "Interpolating with RectBivariateSpline\n"
     ]
    },
    {
     "name": "stderr",
     "output_type": "stream",
     "text": [
      "Transform: frame 1586\n"
     ]
    },
    {
     "name": "stdout",
     "output_type": "stream",
     "text": [
      "Slicing data at i=0 x=108.0\n",
      "Selected Tracker: Gaussian\n",
      "\n",
      "Sampling plane normal vector: [1. 0. 0.]\n",
      "  identified plane center at: 108.0 0.0 40.5010165\n",
      "  rotated to rotor-aligned axes (about z): 0.0 deg\n",
      "  rotation error: 0.0\n",
      "  horizontal search range: -40.0 40.0\n",
      "  vertical search range: 0.497933 80.5041\n",
      "Number of time frames to process: 1584\n",
      "\n",
      "...finished initializing WakeTracker\n",
      "\n",
      "...finished initializing Gaussian \n",
      "\n",
      "  subtracting out time-varying profile\n",
      "Trajectory loaded from ./WAKEBENCH-NREL_DEBNATH_LES/neutral/1D_Gaussian_Bastankhah--filtered/trajectory_4D.csv\n",
      "Interpolating with RectBivariateSpline\n"
     ]
    },
    {
     "name": "stderr",
     "output_type": "stream",
     "text": [
      "Transform: frame 1583\n"
     ]
    },
    {
     "name": "stdout",
     "output_type": "stream",
     "text": [
      "Slicing data at i=0 x=135.0\n",
      "Selected Tracker: Gaussian\n",
      "\n",
      "Sampling plane normal vector: [1. 0. 0.]\n",
      "  identified plane center at: 135.0 0.0 40.5010165\n",
      "  rotated to rotor-aligned axes (about z): 0.0 deg\n",
      "  rotation error: 0.0\n",
      "  horizontal search range: -40.0 40.0\n",
      "  vertical search range: 0.497933 80.5041\n",
      "Number of time frames to process: 1581\n",
      "\n",
      "...finished initializing WakeTracker\n",
      "\n",
      "...finished initializing Gaussian \n",
      "\n",
      "  subtracting out time-varying profile\n",
      "Trajectory loaded from ./WAKEBENCH-NREL_DEBNATH_LES/neutral/1D_Gaussian_Bastankhah--filtered/trajectory_5D.csv\n",
      "Interpolating with RectBivariateSpline\n"
     ]
    },
    {
     "name": "stderr",
     "output_type": "stream",
     "text": [
      "Transform: frame 1580\n"
     ]
    },
    {
     "name": "stdout",
     "output_type": "stream",
     "text": [
      "Slicing data at i=0 x=162.0\n",
      "Selected Tracker: Gaussian\n",
      "\n",
      "Sampling plane normal vector: [1. 0. 0.]\n",
      "  identified plane center at: 162.0 0.0 40.5010165\n",
      "  rotated to rotor-aligned axes (about z): 0.0 deg\n",
      "  rotation error: 0.0\n",
      "  horizontal search range: -40.0 40.0\n",
      "  vertical search range: 0.497933 80.5041\n",
      "Number of time frames to process: 1578\n",
      "\n",
      "...finished initializing WakeTracker\n",
      "\n",
      "...finished initializing Gaussian \n",
      "\n",
      "  subtracting out time-varying profile\n",
      "Trajectory loaded from ./WAKEBENCH-NREL_DEBNATH_LES/neutral/1D_Gaussian_Bastankhah--filtered/trajectory_6D.csv\n",
      "Interpolating with RectBivariateSpline\n"
     ]
    },
    {
     "name": "stderr",
     "output_type": "stream",
     "text": [
      "Transform: frame 1577\n"
     ]
    },
    {
     "name": "stdout",
     "output_type": "stream",
     "text": [
      "Slicing data at i=0 x=189.0\n",
      "Selected Tracker: Gaussian\n",
      "\n",
      "Sampling plane normal vector: [1. 0. 0.]\n",
      "  identified plane center at: 189.0 0.0 40.5010165\n",
      "  rotated to rotor-aligned axes (about z): 0.0 deg\n",
      "  rotation error: 0.0\n",
      "  horizontal search range: -40.0 40.0\n",
      "  vertical search range: 0.497933 80.5041\n",
      "Number of time frames to process: 1575\n",
      "\n",
      "...finished initializing WakeTracker\n",
      "\n",
      "...finished initializing Gaussian \n",
      "\n",
      "  subtracting out time-varying profile\n",
      "Trajectory loaded from ./WAKEBENCH-NREL_DEBNATH_LES/neutral/1D_Gaussian_Bastankhah--filtered/trajectory_7D.csv\n",
      "Interpolating with RectBivariateSpline\n"
     ]
    },
    {
     "name": "stderr",
     "output_type": "stream",
     "text": [
      "Transform: frame 1574\n"
     ]
    },
    {
     "name": "stdout",
     "output_type": "stream",
     "text": [
      "Slicing data at i=0 x=216.0\n",
      "Selected Tracker: Gaussian\n",
      "\n",
      "Sampling plane normal vector: [1. 0. 0.]\n",
      "  identified plane center at: 216.0 0.0 40.5010165\n",
      "  rotated to rotor-aligned axes (about z): 0.0 deg\n",
      "  rotation error: 0.0\n",
      "  horizontal search range: -40.0 40.0\n",
      "  vertical search range: 0.497933 80.5041\n",
      "Number of time frames to process: 1572\n",
      "\n",
      "...finished initializing WakeTracker\n",
      "\n",
      "...finished initializing Gaussian \n",
      "\n",
      "  subtracting out time-varying profile\n",
      "Trajectory loaded from ./WAKEBENCH-NREL_DEBNATH_LES/neutral/1D_Gaussian_Bastankhah--filtered/trajectory_8D.csv\n",
      "Interpolating with RectBivariateSpline\n"
     ]
    },
    {
     "name": "stderr",
     "output_type": "stream",
     "text": [
      "Transform: frame 1571\n"
     ]
    },
    {
     "name": "stdout",
     "output_type": "stream",
     "text": [
      "Writing WAKEBENCH-NREL_DEBNATH_LES/neutral/1D_Gaussian_Bastankhah--filtered/mean_wake_mfor.nc\n",
      "Slicing data at i=0 x=54.0\n",
      "Selected Tracker: ConstantArea\n",
      "\n",
      "Sampling plane normal vector: [1. 0. 0.]\n",
      "  identified plane center at: 54.0 0.0 40.5010165\n",
      "  rotated to rotor-aligned axes (about z): 0.0 deg\n",
      "  rotation error: 0.0\n",
      "  horizontal search range: -40.0 40.0\n",
      "  vertical search range: 0.497933 80.5041\n",
      "Number of time frames to process: 1591\n",
      "\n",
      "...finished initializing WakeTracker\n",
      "\n",
      "...finished initializing ContourWakeTracker\n",
      "\n",
      "...finished initializing ConstantArea \n",
      "\n",
      "  subtracting out time-varying profile\n",
      "Trajectory loaded from ./WAKEBENCH-NREL_DEBNATH_LES/neutral/Constant-Area_Contours--filtered/trajectory_2D.csv\n",
      "Interpolating with RectBivariateSpline\n"
     ]
    },
    {
     "name": "stderr",
     "output_type": "stream",
     "text": [
      "Transform: frame 1590\n"
     ]
    },
    {
     "name": "stdout",
     "output_type": "stream",
     "text": [
      "Slicing data at i=0 x=81.0\n",
      "Selected Tracker: ConstantArea\n",
      "\n",
      "Sampling plane normal vector: [1. 0. 0.]\n",
      "  identified plane center at: 81.0 0.0 40.5010165\n",
      "  rotated to rotor-aligned axes (about z): 0.0 deg\n",
      "  rotation error: 0.0\n",
      "  horizontal search range: -40.0 40.0\n",
      "  vertical search range: 0.497933 80.5041\n",
      "Number of time frames to process: 1587\n",
      "\n",
      "...finished initializing WakeTracker\n",
      "\n",
      "...finished initializing ContourWakeTracker\n",
      "\n",
      "...finished initializing ConstantArea \n",
      "\n",
      "  subtracting out time-varying profile\n",
      "Trajectory loaded from ./WAKEBENCH-NREL_DEBNATH_LES/neutral/Constant-Area_Contours--filtered/trajectory_3D.csv\n",
      "Interpolating with RectBivariateSpline\n"
     ]
    },
    {
     "name": "stderr",
     "output_type": "stream",
     "text": [
      "Transform: frame 1586\n"
     ]
    },
    {
     "name": "stdout",
     "output_type": "stream",
     "text": [
      "Slicing data at i=0 x=108.0\n",
      "Selected Tracker: ConstantArea\n",
      "\n",
      "Sampling plane normal vector: [1. 0. 0.]\n",
      "  identified plane center at: 108.0 0.0 40.5010165\n",
      "  rotated to rotor-aligned axes (about z): 0.0 deg\n",
      "  rotation error: 0.0\n",
      "  horizontal search range: -40.0 40.0\n",
      "  vertical search range: 0.497933 80.5041\n",
      "Number of time frames to process: 1584\n",
      "\n",
      "...finished initializing WakeTracker\n",
      "\n",
      "...finished initializing ContourWakeTracker\n",
      "\n",
      "...finished initializing ConstantArea \n",
      "\n",
      "  subtracting out time-varying profile\n",
      "Trajectory loaded from ./WAKEBENCH-NREL_DEBNATH_LES/neutral/Constant-Area_Contours--filtered/trajectory_4D.csv\n",
      "Interpolating with RectBivariateSpline\n"
     ]
    },
    {
     "name": "stderr",
     "output_type": "stream",
     "text": [
      "Transform: frame 1583\n"
     ]
    },
    {
     "name": "stdout",
     "output_type": "stream",
     "text": [
      "Slicing data at i=0 x=135.0\n",
      "Selected Tracker: ConstantArea\n",
      "\n",
      "Sampling plane normal vector: [1. 0. 0.]\n",
      "  identified plane center at: 135.0 0.0 40.5010165\n",
      "  rotated to rotor-aligned axes (about z): 0.0 deg\n",
      "  rotation error: 0.0\n",
      "  horizontal search range: -40.0 40.0\n",
      "  vertical search range: 0.497933 80.5041\n",
      "Number of time frames to process: 1581\n",
      "\n",
      "...finished initializing WakeTracker\n",
      "\n",
      "...finished initializing ContourWakeTracker\n",
      "\n",
      "...finished initializing ConstantArea \n",
      "\n",
      "  subtracting out time-varying profile\n",
      "Trajectory loaded from ./WAKEBENCH-NREL_DEBNATH_LES/neutral/Constant-Area_Contours--filtered/trajectory_5D.csv\n",
      "Interpolating with RectBivariateSpline\n"
     ]
    },
    {
     "name": "stderr",
     "output_type": "stream",
     "text": [
      "Transform: frame 1580\n"
     ]
    },
    {
     "name": "stdout",
     "output_type": "stream",
     "text": [
      "Slicing data at i=0 x=162.0\n",
      "Selected Tracker: ConstantArea\n",
      "\n",
      "Sampling plane normal vector: [1. 0. 0.]\n",
      "  identified plane center at: 162.0 0.0 40.5010165\n",
      "  rotated to rotor-aligned axes (about z): 0.0 deg\n",
      "  rotation error: 0.0\n",
      "  horizontal search range: -40.0 40.0\n",
      "  vertical search range: 0.497933 80.5041\n",
      "Number of time frames to process: 1578\n",
      "\n",
      "...finished initializing WakeTracker\n",
      "\n",
      "...finished initializing ContourWakeTracker\n",
      "\n",
      "...finished initializing ConstantArea \n",
      "\n",
      "  subtracting out time-varying profile\n",
      "Trajectory loaded from ./WAKEBENCH-NREL_DEBNATH_LES/neutral/Constant-Area_Contours--filtered/trajectory_6D.csv\n",
      "Interpolating with RectBivariateSpline\n"
     ]
    },
    {
     "name": "stderr",
     "output_type": "stream",
     "text": [
      "Transform: frame 1577\n"
     ]
    },
    {
     "name": "stdout",
     "output_type": "stream",
     "text": [
      "Slicing data at i=0 x=189.0\n",
      "Selected Tracker: ConstantArea\n",
      "\n",
      "Sampling plane normal vector: [1. 0. 0.]\n",
      "  identified plane center at: 189.0 0.0 40.5010165\n",
      "  rotated to rotor-aligned axes (about z): 0.0 deg\n",
      "  rotation error: 0.0\n",
      "  horizontal search range: -40.0 40.0\n",
      "  vertical search range: 0.497933 80.5041\n",
      "Number of time frames to process: 1575\n",
      "\n",
      "...finished initializing WakeTracker\n",
      "\n",
      "...finished initializing ContourWakeTracker\n",
      "\n",
      "...finished initializing ConstantArea \n",
      "\n",
      "  subtracting out time-varying profile\n",
      "Trajectory loaded from ./WAKEBENCH-NREL_DEBNATH_LES/neutral/Constant-Area_Contours--filtered/trajectory_7D.csv\n",
      "Interpolating with RectBivariateSpline\n"
     ]
    },
    {
     "name": "stderr",
     "output_type": "stream",
     "text": [
      "Transform: frame 1574\n"
     ]
    },
    {
     "name": "stdout",
     "output_type": "stream",
     "text": [
      "Slicing data at i=0 x=216.0\n",
      "Selected Tracker: ConstantArea\n",
      "\n",
      "Sampling plane normal vector: [1. 0. 0.]\n",
      "  identified plane center at: 216.0 0.0 40.5010165\n",
      "  rotated to rotor-aligned axes (about z): 0.0 deg\n",
      "  rotation error: 0.0\n",
      "  horizontal search range: -40.0 40.0\n",
      "  vertical search range: 0.497933 80.5041\n",
      "Number of time frames to process: 1572\n",
      "\n",
      "...finished initializing WakeTracker\n",
      "\n",
      "...finished initializing ContourWakeTracker\n",
      "\n",
      "...finished initializing ConstantArea \n",
      "\n",
      "  subtracting out time-varying profile\n",
      "Trajectory loaded from ./WAKEBENCH-NREL_DEBNATH_LES/neutral/Constant-Area_Contours--filtered/trajectory_8D.csv\n",
      "Interpolating with RectBivariateSpline\n"
     ]
    },
    {
     "name": "stderr",
     "output_type": "stream",
     "text": [
      "Transform: frame 1571\n"
     ]
    },
    {
     "name": "stdout",
     "output_type": "stream",
     "text": [
      "Writing WAKEBENCH-NREL_DEBNATH_LES/neutral/Constant-Area_Contours--filtered/mean_wake_mfor.nc\n",
      "CPU times: user 1min 55s, sys: 21.9 s, total: 2min 17s\n",
      "Wall time: 2min 23s\n"
     ]
    }
   ],
   "source": [
    "%%time\n",
    "for name in wakedata.keys():\n",
    "    get_mean_wake_mfor(name, output='mean_wake_mfor.nc')\n",
    "# 3 datasets:\n",
    "# CPU times: user 1min 55s, sys: 21.9 s, total: 2min 17s\n",
    "# Wall time: 2min 23s"
   ]
  },
  {
   "cell_type": "markdown",
   "metadata": {},
   "source": [
    "## variance in wake edge"
   ]
  },
  {
   "cell_type": "code",
   "execution_count": 66,
   "metadata": {},
   "outputs": [],
   "source": [
    "da = xr.DataArray(u_mfor,dims=['simtime','y_D','z_D'])"
   ]
  },
  {
   "cell_type": "code",
   "execution_count": 70,
   "metadata": {},
   "outputs": [
    {
     "name": "stdout",
     "output_type": "stream",
     "text": [
      "CPU times: user 4.27 s, sys: 543 ms, total: 4.81 s\n",
      "Wall time: 4.83 s\n"
     ]
    },
    {
     "data": {
      "text/plain": [
       "<xarray.DataArray (simtime: 1572, y_D: 324, z_D: 324)>\n",
       "array([[[     nan,      nan, ...,      nan,      nan],\n",
       "        [     nan,      nan, ...,      nan,      nan],\n",
       "        ...,\n",
       "        [     nan,      nan, ...,      nan,      nan],\n",
       "        [     nan,      nan, ...,      nan,      nan]],\n",
       "\n",
       "       [[     nan,      nan, ...,      nan,      nan],\n",
       "        [     nan,      nan, ...,      nan,      nan],\n",
       "        ...,\n",
       "        [     nan,      nan, ...,      nan,      nan],\n",
       "        [     nan,      nan, ...,      nan,      nan]],\n",
       "\n",
       "       ...,\n",
       "\n",
       "       [[0.699818, 0.699999, ..., 0.711029, 0.710913],\n",
       "        [0.698261, 0.698365, ..., 0.70955 , 0.709526],\n",
       "        ...,\n",
       "        [0.685164, 0.68494 , ..., 0.572053, 0.570652],\n",
       "        [0.681642, 0.681428, ..., 0.572061, 0.57058 ]],\n",
       "\n",
       "       [[0.699274, 0.699456, ..., 0.710138, 0.70999 ],\n",
       "        [0.697566, 0.69767 , ..., 0.70868 , 0.70862 ],\n",
       "        ...,\n",
       "        [0.685445, 0.68522 , ..., 0.570298, 0.56889 ],\n",
       "        [0.681959, 0.681744, ..., 0.570303, 0.568815]]])\n",
       "Dimensions without coordinates: simtime, y_D, z_D"
      ]
     },
     "execution_count": 70,
     "metadata": {},
     "output_type": "execute_result"
    }
   ],
   "source": [
    "%time da.rolling(dim={'simtime':600}).std()"
   ]
  },
  {
   "cell_type": "code",
   "execution_count": 81,
   "metadata": {},
   "outputs": [],
   "source": [
    "def get_wake_stdev_mfor(name,output=None):\n",
    "    planes = []\n",
    "    for downD in case.downstreamD:\n",
    "        da = xr.DataArray(get_plane_mfor(name,downD),\n",
    "                          dims=['simtime','y_D','z_D'])\n",
    "        da_stdev = da.rolling(dim={'simtime':600}).std()\n",
    "        planes.append(da_stdev.mean(dim='simtime'))\n",
    "    fullwake = xr.concat(planes,dim='x_D') # dims==(x,y,z)\n",
    "        \n",
    "    wake_mfor = xr.Dataset(\n",
    "        data_vars={\n",
    "            'stdev_u': fullwake,\n",
    "        },\n",
    "        coords={\n",
    "            'x_D': case.downstreamD,\n",
    "            'y_D': y1/D,\n",
    "            'z_D': z1/D\n",
    "        }\n",
    "    )\n",
    "    \n",
    "    if output is not None:\n",
    "        outfile = os.path.join(case.casedir, wakedata[name]+suffix, output)\n",
    "        print('Writing',outfile)\n",
    "        wake_mfor.to_netcdf(outfile)\n",
    "    \n",
    "    return wake_mfor"
   ]
  },
  {
   "cell_type": "code",
   "execution_count": 73,
   "metadata": {},
   "outputs": [
    {
     "name": "stdout",
     "output_type": "stream",
     "text": [
      "Slicing data at i=0 x=54.0\n",
      "Selected Tracker: Gaussian2D\n",
      "\n",
      "Sampling plane normal vector: [1. 0. 0.]\n",
      "  identified plane center at: 54.0 0.0 40.5010165\n",
      "  rotated to rotor-aligned axes (about z): 0.0 deg\n",
      "  rotation error: 0.0\n",
      "  horizontal search range: -40.0 40.0\n",
      "  vertical search range: 0.497933 80.5041\n",
      "Number of time frames to process: 1591\n",
      "\n",
      "...finished initializing WakeTracker\n",
      "\n",
      "...finished initializing Gaussian2D \n",
      "\n",
      "  subtracting out time-varying profile\n",
      "Trajectory loaded from ./WAKEBENCH-NREL_DEBNATH_LES/neutral/2D_Gaussian--filtered/trajectory_2D.csv\n",
      "Interpolating with RectBivariateSpline\n"
     ]
    },
    {
     "name": "stderr",
     "output_type": "stream",
     "text": [
      "Transform: frame 1590\n"
     ]
    },
    {
     "name": "stdout",
     "output_type": "stream",
     "text": [
      "Slicing data at i=0 x=81.0\n",
      "Selected Tracker: Gaussian2D\n",
      "\n",
      "Sampling plane normal vector: [1. 0. 0.]\n",
      "  identified plane center at: 81.0 0.0 40.5010165\n",
      "  rotated to rotor-aligned axes (about z): 0.0 deg\n",
      "  rotation error: 0.0\n",
      "  horizontal search range: -40.0 40.0\n",
      "  vertical search range: 0.497933 80.5041\n",
      "Number of time frames to process: 1587\n",
      "\n",
      "...finished initializing WakeTracker\n",
      "\n",
      "...finished initializing Gaussian2D \n",
      "\n",
      "  subtracting out time-varying profile\n",
      "Trajectory loaded from ./WAKEBENCH-NREL_DEBNATH_LES/neutral/2D_Gaussian--filtered/trajectory_3D.csv\n",
      "Interpolating with RectBivariateSpline\n"
     ]
    },
    {
     "name": "stderr",
     "output_type": "stream",
     "text": [
      "Transform: frame 1586\n"
     ]
    },
    {
     "name": "stdout",
     "output_type": "stream",
     "text": [
      "Slicing data at i=0 x=108.0\n",
      "Selected Tracker: Gaussian2D\n",
      "\n",
      "Sampling plane normal vector: [1. 0. 0.]\n",
      "  identified plane center at: 108.0 0.0 40.5010165\n",
      "  rotated to rotor-aligned axes (about z): 0.0 deg\n",
      "  rotation error: 0.0\n",
      "  horizontal search range: -40.0 40.0\n",
      "  vertical search range: 0.497933 80.5041\n",
      "Number of time frames to process: 1584\n",
      "\n",
      "...finished initializing WakeTracker\n",
      "\n",
      "...finished initializing Gaussian2D \n",
      "\n",
      "  subtracting out time-varying profile\n",
      "Trajectory loaded from ./WAKEBENCH-NREL_DEBNATH_LES/neutral/2D_Gaussian--filtered/trajectory_4D.csv\n",
      "Interpolating with RectBivariateSpline\n"
     ]
    },
    {
     "name": "stderr",
     "output_type": "stream",
     "text": [
      "Transform: frame 1583\n"
     ]
    },
    {
     "name": "stdout",
     "output_type": "stream",
     "text": [
      "Slicing data at i=0 x=135.0\n",
      "Selected Tracker: Gaussian2D\n",
      "\n",
      "Sampling plane normal vector: [1. 0. 0.]\n",
      "  identified plane center at: 135.0 0.0 40.5010165\n",
      "  rotated to rotor-aligned axes (about z): 0.0 deg\n",
      "  rotation error: 0.0\n",
      "  horizontal search range: -40.0 40.0\n",
      "  vertical search range: 0.497933 80.5041\n",
      "Number of time frames to process: 1581\n",
      "\n",
      "...finished initializing WakeTracker\n",
      "\n",
      "...finished initializing Gaussian2D \n",
      "\n",
      "  subtracting out time-varying profile\n",
      "Trajectory loaded from ./WAKEBENCH-NREL_DEBNATH_LES/neutral/2D_Gaussian--filtered/trajectory_5D.csv\n",
      "Interpolating with RectBivariateSpline\n"
     ]
    },
    {
     "name": "stderr",
     "output_type": "stream",
     "text": [
      "Transform: frame 1580\n"
     ]
    },
    {
     "name": "stdout",
     "output_type": "stream",
     "text": [
      "Slicing data at i=0 x=162.0\n",
      "Selected Tracker: Gaussian2D\n",
      "\n",
      "Sampling plane normal vector: [1. 0. 0.]\n",
      "  identified plane center at: 162.0 0.0 40.5010165\n",
      "  rotated to rotor-aligned axes (about z): 0.0 deg\n",
      "  rotation error: 0.0\n",
      "  horizontal search range: -40.0 40.0\n",
      "  vertical search range: 0.497933 80.5041\n",
      "Number of time frames to process: 1578\n",
      "\n",
      "...finished initializing WakeTracker\n",
      "\n",
      "...finished initializing Gaussian2D \n",
      "\n",
      "  subtracting out time-varying profile\n",
      "Trajectory loaded from ./WAKEBENCH-NREL_DEBNATH_LES/neutral/2D_Gaussian--filtered/trajectory_6D.csv\n",
      "Interpolating with RectBivariateSpline\n"
     ]
    },
    {
     "name": "stderr",
     "output_type": "stream",
     "text": [
      "Transform: frame 1577\n"
     ]
    },
    {
     "name": "stdout",
     "output_type": "stream",
     "text": [
      "Slicing data at i=0 x=189.0\n",
      "Selected Tracker: Gaussian2D\n",
      "\n",
      "Sampling plane normal vector: [1. 0. 0.]\n",
      "  identified plane center at: 189.0 0.0 40.5010165\n",
      "  rotated to rotor-aligned axes (about z): 0.0 deg\n",
      "  rotation error: 0.0\n",
      "  horizontal search range: -40.0 40.0\n",
      "  vertical search range: 0.497933 80.5041\n",
      "Number of time frames to process: 1575\n",
      "\n",
      "...finished initializing WakeTracker\n",
      "\n",
      "...finished initializing Gaussian2D \n",
      "\n",
      "  subtracting out time-varying profile\n",
      "Trajectory loaded from ./WAKEBENCH-NREL_DEBNATH_LES/neutral/2D_Gaussian--filtered/trajectory_7D.csv\n",
      "Interpolating with RectBivariateSpline\n"
     ]
    },
    {
     "name": "stderr",
     "output_type": "stream",
     "text": [
      "Transform: frame 1574\n"
     ]
    },
    {
     "name": "stdout",
     "output_type": "stream",
     "text": [
      "Slicing data at i=0 x=216.0\n",
      "Selected Tracker: Gaussian2D\n",
      "\n",
      "Sampling plane normal vector: [1. 0. 0.]\n",
      "  identified plane center at: 216.0 0.0 40.5010165\n",
      "  rotated to rotor-aligned axes (about z): 0.0 deg\n",
      "  rotation error: 0.0\n",
      "  horizontal search range: -40.0 40.0\n",
      "  vertical search range: 0.497933 80.5041\n",
      "Number of time frames to process: 1572\n",
      "\n",
      "...finished initializing WakeTracker\n",
      "\n",
      "...finished initializing Gaussian2D \n",
      "\n",
      "  subtracting out time-varying profile\n",
      "Trajectory loaded from ./WAKEBENCH-NREL_DEBNATH_LES/neutral/2D_Gaussian--filtered/trajectory_8D.csv\n",
      "Interpolating with RectBivariateSpline\n"
     ]
    },
    {
     "name": "stderr",
     "output_type": "stream",
     "text": [
      "Transform: frame 1571\n"
     ]
    },
    {
     "name": "stdout",
     "output_type": "stream",
     "text": [
      "Writing WAKEBENCH-NREL_DEBNATH_LES/neutral/2D_Gaussian--filtered/wake_stdev_mfor.nc\n",
      "Slicing data at i=0 x=54.0\n",
      "Selected Tracker: Gaussian\n",
      "\n",
      "Sampling plane normal vector: [1. 0. 0.]\n",
      "  identified plane center at: 54.0 0.0 40.5010165\n",
      "  rotated to rotor-aligned axes (about z): 0.0 deg\n",
      "  rotation error: 0.0\n",
      "  horizontal search range: -40.0 40.0\n",
      "  vertical search range: 0.497933 80.5041\n",
      "Number of time frames to process: 1591\n",
      "\n",
      "...finished initializing WakeTracker\n",
      "\n",
      "...finished initializing Gaussian \n",
      "\n",
      "  subtracting out time-varying profile\n",
      "Trajectory loaded from ./WAKEBENCH-NREL_DEBNATH_LES/neutral/1D_Gaussian_Bastankhah--filtered/trajectory_2D.csv\n",
      "Interpolating with RectBivariateSpline\n"
     ]
    },
    {
     "name": "stderr",
     "output_type": "stream",
     "text": [
      "Transform: frame 1590\n"
     ]
    },
    {
     "name": "stdout",
     "output_type": "stream",
     "text": [
      "Slicing data at i=0 x=81.0\n",
      "Selected Tracker: Gaussian\n",
      "\n",
      "Sampling plane normal vector: [1. 0. 0.]\n",
      "  identified plane center at: 81.0 0.0 40.5010165\n",
      "  rotated to rotor-aligned axes (about z): 0.0 deg\n",
      "  rotation error: 0.0\n",
      "  horizontal search range: -40.0 40.0\n",
      "  vertical search range: 0.497933 80.5041\n",
      "Number of time frames to process: 1587\n",
      "\n",
      "...finished initializing WakeTracker\n",
      "\n",
      "...finished initializing Gaussian \n",
      "\n",
      "  subtracting out time-varying profile\n",
      "Trajectory loaded from ./WAKEBENCH-NREL_DEBNATH_LES/neutral/1D_Gaussian_Bastankhah--filtered/trajectory_3D.csv\n",
      "Interpolating with RectBivariateSpline\n"
     ]
    },
    {
     "name": "stderr",
     "output_type": "stream",
     "text": [
      "Transform: frame 1586\n"
     ]
    },
    {
     "name": "stdout",
     "output_type": "stream",
     "text": [
      "Slicing data at i=0 x=108.0\n",
      "Selected Tracker: Gaussian\n",
      "\n",
      "Sampling plane normal vector: [1. 0. 0.]\n",
      "  identified plane center at: 108.0 0.0 40.5010165\n",
      "  rotated to rotor-aligned axes (about z): 0.0 deg\n",
      "  rotation error: 0.0\n",
      "  horizontal search range: -40.0 40.0\n",
      "  vertical search range: 0.497933 80.5041\n",
      "Number of time frames to process: 1584\n",
      "\n",
      "...finished initializing WakeTracker\n",
      "\n",
      "...finished initializing Gaussian \n",
      "\n",
      "  subtracting out time-varying profile\n",
      "Trajectory loaded from ./WAKEBENCH-NREL_DEBNATH_LES/neutral/1D_Gaussian_Bastankhah--filtered/trajectory_4D.csv\n",
      "Interpolating with RectBivariateSpline\n"
     ]
    },
    {
     "name": "stderr",
     "output_type": "stream",
     "text": [
      "Transform: frame 1583\n"
     ]
    },
    {
     "name": "stdout",
     "output_type": "stream",
     "text": [
      "Slicing data at i=0 x=135.0\n",
      "Selected Tracker: Gaussian\n",
      "\n",
      "Sampling plane normal vector: [1. 0. 0.]\n",
      "  identified plane center at: 135.0 0.0 40.5010165\n",
      "  rotated to rotor-aligned axes (about z): 0.0 deg\n",
      "  rotation error: 0.0\n",
      "  horizontal search range: -40.0 40.0\n",
      "  vertical search range: 0.497933 80.5041\n",
      "Number of time frames to process: 1581\n",
      "\n",
      "...finished initializing WakeTracker\n",
      "\n",
      "...finished initializing Gaussian \n",
      "\n",
      "  subtracting out time-varying profile\n",
      "Trajectory loaded from ./WAKEBENCH-NREL_DEBNATH_LES/neutral/1D_Gaussian_Bastankhah--filtered/trajectory_5D.csv\n",
      "Interpolating with RectBivariateSpline\n"
     ]
    },
    {
     "name": "stderr",
     "output_type": "stream",
     "text": [
      "Transform: frame 1580\n"
     ]
    },
    {
     "name": "stdout",
     "output_type": "stream",
     "text": [
      "Slicing data at i=0 x=162.0\n",
      "Selected Tracker: Gaussian\n",
      "\n",
      "Sampling plane normal vector: [1. 0. 0.]\n",
      "  identified plane center at: 162.0 0.0 40.5010165\n",
      "  rotated to rotor-aligned axes (about z): 0.0 deg\n",
      "  rotation error: 0.0\n",
      "  horizontal search range: -40.0 40.0\n",
      "  vertical search range: 0.497933 80.5041\n",
      "Number of time frames to process: 1578\n",
      "\n",
      "...finished initializing WakeTracker\n",
      "\n",
      "...finished initializing Gaussian \n",
      "\n",
      "  subtracting out time-varying profile\n",
      "Trajectory loaded from ./WAKEBENCH-NREL_DEBNATH_LES/neutral/1D_Gaussian_Bastankhah--filtered/trajectory_6D.csv\n",
      "Interpolating with RectBivariateSpline\n"
     ]
    },
    {
     "name": "stderr",
     "output_type": "stream",
     "text": [
      "Transform: frame 1577\n"
     ]
    },
    {
     "name": "stdout",
     "output_type": "stream",
     "text": [
      "Slicing data at i=0 x=189.0\n",
      "Selected Tracker: Gaussian\n",
      "\n",
      "Sampling plane normal vector: [1. 0. 0.]\n",
      "  identified plane center at: 189.0 0.0 40.5010165\n",
      "  rotated to rotor-aligned axes (about z): 0.0 deg\n",
      "  rotation error: 0.0\n",
      "  horizontal search range: -40.0 40.0\n",
      "  vertical search range: 0.497933 80.5041\n",
      "Number of time frames to process: 1575\n",
      "\n",
      "...finished initializing WakeTracker\n",
      "\n",
      "...finished initializing Gaussian \n",
      "\n",
      "  subtracting out time-varying profile\n",
      "Trajectory loaded from ./WAKEBENCH-NREL_DEBNATH_LES/neutral/1D_Gaussian_Bastankhah--filtered/trajectory_7D.csv\n",
      "Interpolating with RectBivariateSpline\n"
     ]
    },
    {
     "name": "stderr",
     "output_type": "stream",
     "text": [
      "Transform: frame 1574\n"
     ]
    },
    {
     "name": "stdout",
     "output_type": "stream",
     "text": [
      "Slicing data at i=0 x=216.0\n",
      "Selected Tracker: Gaussian\n",
      "\n",
      "Sampling plane normal vector: [1. 0. 0.]\n",
      "  identified plane center at: 216.0 0.0 40.5010165\n",
      "  rotated to rotor-aligned axes (about z): 0.0 deg\n",
      "  rotation error: 0.0\n",
      "  horizontal search range: -40.0 40.0\n",
      "  vertical search range: 0.497933 80.5041\n",
      "Number of time frames to process: 1572\n",
      "\n",
      "...finished initializing WakeTracker\n",
      "\n",
      "...finished initializing Gaussian \n",
      "\n",
      "  subtracting out time-varying profile\n",
      "Trajectory loaded from ./WAKEBENCH-NREL_DEBNATH_LES/neutral/1D_Gaussian_Bastankhah--filtered/trajectory_8D.csv\n",
      "Interpolating with RectBivariateSpline\n"
     ]
    },
    {
     "name": "stderr",
     "output_type": "stream",
     "text": [
      "Transform: frame 1571\n"
     ]
    },
    {
     "name": "stdout",
     "output_type": "stream",
     "text": [
      "Writing WAKEBENCH-NREL_DEBNATH_LES/neutral/1D_Gaussian_Bastankhah--filtered/wake_stdev_mfor.nc\n",
      "Slicing data at i=0 x=54.0\n",
      "Selected Tracker: ConstantArea\n",
      "\n",
      "Sampling plane normal vector: [1. 0. 0.]\n",
      "  identified plane center at: 54.0 0.0 40.5010165\n",
      "  rotated to rotor-aligned axes (about z): 0.0 deg\n",
      "  rotation error: 0.0\n",
      "  horizontal search range: -40.0 40.0\n",
      "  vertical search range: 0.497933 80.5041\n",
      "Number of time frames to process: 1591\n",
      "\n",
      "...finished initializing WakeTracker\n",
      "\n",
      "...finished initializing ContourWakeTracker\n",
      "\n",
      "...finished initializing ConstantArea \n",
      "\n",
      "  subtracting out time-varying profile\n",
      "Trajectory loaded from ./WAKEBENCH-NREL_DEBNATH_LES/neutral/Constant-Area_Contours--filtered/trajectory_2D.csv\n",
      "Interpolating with RectBivariateSpline\n"
     ]
    },
    {
     "name": "stderr",
     "output_type": "stream",
     "text": [
      "Transform: frame 1590\n"
     ]
    },
    {
     "name": "stdout",
     "output_type": "stream",
     "text": [
      "Slicing data at i=0 x=81.0\n",
      "Selected Tracker: ConstantArea\n",
      "\n",
      "Sampling plane normal vector: [1. 0. 0.]\n",
      "  identified plane center at: 81.0 0.0 40.5010165\n",
      "  rotated to rotor-aligned axes (about z): 0.0 deg\n",
      "  rotation error: 0.0\n",
      "  horizontal search range: -40.0 40.0\n",
      "  vertical search range: 0.497933 80.5041\n",
      "Number of time frames to process: 1587\n",
      "\n",
      "...finished initializing WakeTracker\n",
      "\n",
      "...finished initializing ContourWakeTracker\n",
      "\n",
      "...finished initializing ConstantArea \n",
      "\n",
      "  subtracting out time-varying profile\n",
      "Trajectory loaded from ./WAKEBENCH-NREL_DEBNATH_LES/neutral/Constant-Area_Contours--filtered/trajectory_3D.csv\n",
      "Interpolating with RectBivariateSpline\n"
     ]
    },
    {
     "name": "stderr",
     "output_type": "stream",
     "text": [
      "Transform: frame 1586\n"
     ]
    },
    {
     "name": "stdout",
     "output_type": "stream",
     "text": [
      "Slicing data at i=0 x=108.0\n",
      "Selected Tracker: ConstantArea\n",
      "\n",
      "Sampling plane normal vector: [1. 0. 0.]\n",
      "  identified plane center at: 108.0 0.0 40.5010165\n",
      "  rotated to rotor-aligned axes (about z): 0.0 deg\n",
      "  rotation error: 0.0\n",
      "  horizontal search range: -40.0 40.0\n",
      "  vertical search range: 0.497933 80.5041\n",
      "Number of time frames to process: 1584\n",
      "\n",
      "...finished initializing WakeTracker\n",
      "\n",
      "...finished initializing ContourWakeTracker\n",
      "\n",
      "...finished initializing ConstantArea \n",
      "\n",
      "  subtracting out time-varying profile\n",
      "Trajectory loaded from ./WAKEBENCH-NREL_DEBNATH_LES/neutral/Constant-Area_Contours--filtered/trajectory_4D.csv\n",
      "Interpolating with RectBivariateSpline\n"
     ]
    },
    {
     "name": "stderr",
     "output_type": "stream",
     "text": [
      "Transform: frame 1583\n"
     ]
    },
    {
     "name": "stdout",
     "output_type": "stream",
     "text": [
      "Slicing data at i=0 x=135.0\n",
      "Selected Tracker: ConstantArea\n",
      "\n",
      "Sampling plane normal vector: [1. 0. 0.]\n",
      "  identified plane center at: 135.0 0.0 40.5010165\n",
      "  rotated to rotor-aligned axes (about z): 0.0 deg\n",
      "  rotation error: 0.0\n",
      "  horizontal search range: -40.0 40.0\n",
      "  vertical search range: 0.497933 80.5041\n",
      "Number of time frames to process: 1581\n",
      "\n",
      "...finished initializing WakeTracker\n",
      "\n",
      "...finished initializing ContourWakeTracker\n",
      "\n",
      "...finished initializing ConstantArea \n",
      "\n",
      "  subtracting out time-varying profile\n",
      "Trajectory loaded from ./WAKEBENCH-NREL_DEBNATH_LES/neutral/Constant-Area_Contours--filtered/trajectory_5D.csv\n",
      "Interpolating with RectBivariateSpline\n"
     ]
    },
    {
     "name": "stderr",
     "output_type": "stream",
     "text": [
      "Transform: frame 1580\n"
     ]
    },
    {
     "name": "stdout",
     "output_type": "stream",
     "text": [
      "Slicing data at i=0 x=162.0\n",
      "Selected Tracker: ConstantArea\n",
      "\n",
      "Sampling plane normal vector: [1. 0. 0.]\n",
      "  identified plane center at: 162.0 0.0 40.5010165\n",
      "  rotated to rotor-aligned axes (about z): 0.0 deg\n",
      "  rotation error: 0.0\n",
      "  horizontal search range: -40.0 40.0\n",
      "  vertical search range: 0.497933 80.5041\n",
      "Number of time frames to process: 1578\n",
      "\n",
      "...finished initializing WakeTracker\n",
      "\n",
      "...finished initializing ContourWakeTracker\n",
      "\n",
      "...finished initializing ConstantArea \n",
      "\n",
      "  subtracting out time-varying profile\n",
      "Trajectory loaded from ./WAKEBENCH-NREL_DEBNATH_LES/neutral/Constant-Area_Contours--filtered/trajectory_6D.csv\n",
      "Interpolating with RectBivariateSpline\n"
     ]
    },
    {
     "name": "stderr",
     "output_type": "stream",
     "text": [
      "Transform: frame 1577\n"
     ]
    },
    {
     "name": "stdout",
     "output_type": "stream",
     "text": [
      "Slicing data at i=0 x=189.0\n",
      "Selected Tracker: ConstantArea\n",
      "\n",
      "Sampling plane normal vector: [1. 0. 0.]\n",
      "  identified plane center at: 189.0 0.0 40.5010165\n",
      "  rotated to rotor-aligned axes (about z): 0.0 deg\n",
      "  rotation error: 0.0\n",
      "  horizontal search range: -40.0 40.0\n",
      "  vertical search range: 0.497933 80.5041\n",
      "Number of time frames to process: 1575\n",
      "\n",
      "...finished initializing WakeTracker\n",
      "\n",
      "...finished initializing ContourWakeTracker\n",
      "\n",
      "...finished initializing ConstantArea \n",
      "\n",
      "  subtracting out time-varying profile\n",
      "Trajectory loaded from ./WAKEBENCH-NREL_DEBNATH_LES/neutral/Constant-Area_Contours--filtered/trajectory_7D.csv\n",
      "Interpolating with RectBivariateSpline\n"
     ]
    },
    {
     "name": "stderr",
     "output_type": "stream",
     "text": [
      "Transform: frame 1574\n"
     ]
    },
    {
     "name": "stdout",
     "output_type": "stream",
     "text": [
      "Slicing data at i=0 x=216.0\n",
      "Selected Tracker: ConstantArea\n",
      "\n",
      "Sampling plane normal vector: [1. 0. 0.]\n",
      "  identified plane center at: 216.0 0.0 40.5010165\n",
      "  rotated to rotor-aligned axes (about z): 0.0 deg\n",
      "  rotation error: 0.0\n",
      "  horizontal search range: -40.0 40.0\n",
      "  vertical search range: 0.497933 80.5041\n",
      "Number of time frames to process: 1572\n",
      "\n",
      "...finished initializing WakeTracker\n",
      "\n",
      "...finished initializing ContourWakeTracker\n",
      "\n",
      "...finished initializing ConstantArea \n",
      "\n",
      "  subtracting out time-varying profile\n",
      "Trajectory loaded from ./WAKEBENCH-NREL_DEBNATH_LES/neutral/Constant-Area_Contours--filtered/trajectory_8D.csv\n",
      "Interpolating with RectBivariateSpline\n"
     ]
    },
    {
     "name": "stderr",
     "output_type": "stream",
     "text": [
      "Transform: frame 1571\n"
     ]
    },
    {
     "name": "stdout",
     "output_type": "stream",
     "text": [
      "Writing WAKEBENCH-NREL_DEBNATH_LES/neutral/Constant-Area_Contours--filtered/wake_stdev_mfor.nc\n",
      "CPU times: user 3min 41s, sys: 53 s, total: 4min 34s\n",
      "Wall time: 4min 47s\n"
     ]
    }
   ],
   "source": [
    "%%time\n",
    "for name in wakedata.keys():\n",
    "    get_wake_stdev_mfor(name, output='wake_stdev_mfor.nc')\n",
    "# 3 datasets:\n",
    "# CPU times: user 3min 41s, sys: 53 s, total: 4min 34s\n",
    "# Wall time: 4min 47s"
   ]
  },
  {
   "cell_type": "code",
   "execution_count": null,
   "metadata": {},
   "outputs": [],
   "source": []
  },
  {
   "cell_type": "code",
   "execution_count": 59,
   "metadata": {},
   "outputs": [
    {
     "name": "stdout",
     "output_type": "stream",
     "text": [
      "CPU times: user 38.7 s, sys: 20.4 s, total: 59.1 s\n",
      "Wall time: 1min 22s\n"
     ]
    }
   ],
   "source": [
    "%time wakevar = wake_mfor.rolling(dim={'simtime':600}).var()"
   ]
  },
  {
   "cell_type": "code",
   "execution_count": 50,
   "metadata": {},
   "outputs": [
    {
     "name": "stdout",
     "output_type": "stream",
     "text": [
      "CPU times: user 13 s, sys: 30.5 s, total: 43.5 s\n",
      "Wall time: 59.8 s\n"
     ]
    }
   ],
   "source": [
    "%time uvar_mean = wakevar['u'].mean(dim='simtime',skipna=True)"
   ]
  },
  {
   "cell_type": "code",
   "execution_count": 57,
   "metadata": {},
   "outputs": [
    {
     "data": {
      "text/plain": [
       "<matplotlib.collections.QuadMesh at 0xd2c23e550>"
      ]
     },
     "execution_count": 57,
     "metadata": {},
     "output_type": "execute_result"
    },
    {
     "data": {
      "image/png": "[encoded data removed]",
      "text/plain": [
       "<Figure size 432x288 with 1 Axes>"
      ]
     },
     "metadata": {
      "needs_background": "light"
     },
     "output_type": "display_data"
    }
   ],
   "source": [
    "plt.pcolormesh(yy,zz,np.sqrt(uvar_mean[0,:,:]))"
   ]
  },
  {
   "cell_type": "code",
   "execution_count": null,
   "metadata": {},
   "outputs": [],
   "source": []
  }
 ],
 "metadata": {
  "kernelspec": {
   "display_name": "Python 3",
   "language": "python",
   "name": "python3"
  },
  "language_info": {
   "codemirror_mode": {
    "name": "ipython",
    "version": 3
   },
   "file_extension": ".py",
   "mimetype": "text/x-python",
   "name": "python",
   "nbconvert_exporter": "python",
   "pygments_lexer": "ipython3",
   "version": "3.7.1"
  }
 },
 "nbformat": 4,
 "nbformat_minor": 2
}
