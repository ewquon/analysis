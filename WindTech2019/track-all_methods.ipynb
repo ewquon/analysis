{
 "cells": [
  {
   "cell_type": "code",
   "execution_count": 1,
   "metadata": {},
   "outputs": [],
   "source": [
    "%load_ext autoreload\n",
    "%autoreload 2"
   ]
  },
  {
   "cell_type": "code",
   "execution_count": 2,
   "metadata": {},
   "outputs": [],
   "source": [
    "%matplotlib inline\n",
    "import sys, os\n",
    "import numpy as np\n",
    "import matplotlib.pyplot as plt"
   ]
  },
  {
   "cell_type": "code",
   "execution_count": 3,
   "metadata": {},
   "outputs": [],
   "source": [
    "# parallel processing\n",
    "from multiprocessing import Pool\n",
    "from functools import partial\n",
    "Nprocs = 4"
   ]
  },
  {
   "cell_type": "code",
   "execution_count": 4,
   "metadata": {},
   "outputs": [],
   "source": [
    "# samwich routines\n",
    "samwich_path = os.path.join(os.environ['HOME'],'waketracking')\n",
    "if not samwich_path in sys.path:\n",
    "    sys.path.append(samwich_path)\n",
    "from samwich.dataloaders import XarrayData\n",
    "from samwich.waketrackers import track"
   ]
  },
  {
   "cell_type": "code",
   "execution_count": 5,
   "metadata": {},
   "outputs": [],
   "source": [
    "# case definition\n",
    "from study import V27, neutral"
   ]
  },
  {
   "cell_type": "markdown",
   "metadata": {},
   "source": [
    "# Wake tracking with all methods"
   ]
  },
  {
   "cell_type": "markdown",
   "metadata": {},
   "source": [
    "## set up tracking parameters"
   ]
  },
  {
   "cell_type": "code",
   "execution_count": 6,
   "metadata": {},
   "outputs": [],
   "source": [
    "case = neutral(casedir='WAKEBENCH-NREL_DEBNATH_LES/neutral',\n",
    "               prefix='NREL_DEBNATH_LES_20190325',\n",
    "               turbine=V27)"
   ]
  },
  {
   "cell_type": "code",
   "execution_count": 7,
   "metadata": {},
   "outputs": [],
   "source": [
    "Aref = case.turbine.rotor_area"
   ]
  },
  {
   "cell_type": "code",
   "execution_count": 8,
   "metadata": {},
   "outputs": [
    {
     "name": "stdout",
     "output_type": "stream",
     "text": [
      "Calculated k* : 0.0447339\n"
     ]
    }
   ],
   "source": [
    "from samwich.gaussian_functions import Bastankhah\n",
    "gauss = Bastankhah(CT=case.turbine.CTref, d0=case.turbine.D, TI=case.TI/100)"
   ]
  },
  {
   "cell_type": "code",
   "execution_count": 9,
   "metadata": {},
   "outputs": [
    {
     "data": {
      "text/plain": [
       "13434.379391317067"
      ]
     },
     "execution_count": 9,
     "metadata": {},
     "output_type": "execute_result"
    }
   ],
   "source": [
    "Tref = case.turbine.thrust(case.Uref)\n",
    "Tref"
   ]
  },
  {
   "cell_type": "markdown",
   "metadata": {},
   "source": [
    "## read all planes"
   ]
  },
  {
   "cell_type": "code",
   "execution_count": 10,
   "metadata": {},
   "outputs": [
    {
     "name": "stdout",
     "output_type": "stream",
     "text": [
      "Selected datafile: WAKEBENCH-NREL_DEBNATH_LES/neutral/NREL_DEBNATH_LES_20190325_uvw_2D.nc\n",
      "Calculated offset: 13\n",
      "Selected datafile: WAKEBENCH-NREL_DEBNATH_LES/neutral/NREL_DEBNATH_LES_20190325_uvw_3D.nc\n",
      "Calculated offset: 17\n",
      "Selected datafile: WAKEBENCH-NREL_DEBNATH_LES/neutral/NREL_DEBNATH_LES_20190325_uvw_4D.nc\n",
      "Calculated offset: 20\n",
      "Selected datafile: WAKEBENCH-NREL_DEBNATH_LES/neutral/NREL_DEBNATH_LES_20190325_uvw_5D.nc\n",
      "Calculated offset: 23\n",
      "Selected datafile: WAKEBENCH-NREL_DEBNATH_LES/neutral/NREL_DEBNATH_LES_20190325_uvw_6D.nc\n",
      "Calculated offset: 26\n",
      "Selected datafile: WAKEBENCH-NREL_DEBNATH_LES/neutral/NREL_DEBNATH_LES_20190325_uvw_7D.nc\n",
      "Calculated offset: 29\n",
      "Selected datafile: WAKEBENCH-NREL_DEBNATH_LES/neutral/NREL_DEBNATH_LES_20190325_uvw_8D.nc\n",
      "Calculated offset: 32\n",
      "CPU times: user 7.3 s, sys: 6.83 s, total: 14.1 s\n",
      "Wall time: 14.2 s\n"
     ]
    }
   ],
   "source": [
    "%%time\n",
    "dataplanes = {\n",
    "    downD: XarrayData(case.get_wake_datafile(downD),\n",
    "                      uvar='U',vvar='V',wvar='W',\n",
    "                      trim_time=case.trim_time(downD))\n",
    "    for downD in case.downstreamD\n",
    "}"
   ]
  },
  {
   "cell_type": "markdown",
   "metadata": {},
   "source": [
    "## run trackers"
   ]
  },
  {
   "cell_type": "code",
   "execution_count": 11,
   "metadata": {},
   "outputs": [],
   "source": [
    "def track_downstream_plane(downD,**tracking_params):\n",
    "    name = tracking_params.pop('name')\n",
    "    method = tracking_params.pop('method')\n",
    "    data = dataplanes[downD]\n",
    "    # evaluate parameters that are a function of downstream distance\n",
    "    for key,val in tracking_params.items():\n",
    "        if isinstance(val, dict):\n",
    "            tracking_params[key] = val[downD]\n",
    "    print('x/D:',downD,':',tracking_params)\n",
    "    # perform the wake tracking\n",
    "    wo = track(data.sliceI(), method=method)\n",
    "    wo.remove_shear(wind_profile=case.get_inflow(downD))\n",
    "    yc,zc = wo.find_centers(**tracking_params, **case.get_outputs(name,downD))"
   ]
  },
  {
   "cell_type": "markdown",
   "metadata": {},
   "source": [
    "### Gaussian 2D"
   ]
  },
  {
   "cell_type": "code",
   "execution_count": 12,
   "metadata": {},
   "outputs": [],
   "source": [
    "Gaussian2D_params = {\n",
    "    'name': '2D Gaussian',\n",
    "    'method': 'Gaussian2D',\n",
    "    'umin': None, # use VD minima in each snapshot\n",
    "    'A_ref': Aref,\n",
    "    'A_min': Aref/5,\n",
    "    'A_max': 2*Aref,\n",
    "    'AR_max': 10.0,\n",
    "}"
   ]
  },
  {
   "cell_type": "code",
   "execution_count": 13,
   "metadata": {},
   "outputs": [
    {
     "name": "stdout",
     "output_type": "stream",
     "text": [
      "x/D: 2 : {'umin': None, 'A_ref': 572.5552611167398, 'A_min': 114.51105222334795, 'A_max': 1145.1105222334795, 'AR_max': 10.0}\n",
      "x/D: 3 : {'umin': None, 'A_ref': 572.5552611167398, 'A_min': 114.51105222334795, 'A_max': 1145.1105222334795, 'AR_max': 10.0}\n",
      "x/D: 5 : {'umin': None, 'A_ref': 572.5552611167398, 'A_min': 114.51105222334795, 'A_max': 1145.1105222334795, 'AR_max': 10.0}\n",
      "x/D: 4 : {'umin': None, 'A_ref': 572.5552611167398, 'A_min': 114.51105222334795, 'A_max': 1145.1105222334795, 'AR_max': 10.0}\n",
      "Slicing data at i=0 x=54.0\n",
      "Slicing data at i=0 x=81.0\n",
      "Slicing data at i=0 x=108.0\n",
      "Slicing data at i=0 x=135.0\n",
      "Selected Tracker: Gaussian2D\n",
      "Selected Tracker: Gaussian2D\n",
      "Selected Tracker: Gaussian2D\n",
      "\n",
      "\n",
      "\n",
      "Sampling plane normal vector: [1. 0. 0.]\n",
      "Sampling plane normal vector: [1. 0. 0.]\n",
      "Sampling plane normal vector: [1. 0. 0.]\n",
      "  identified plane center at: 135.0 0.0 40.5010165\n",
      "  identified plane center at: 108.0 0.0 40.5010165\n",
      "  identified plane center at: 81.0 0.0 40.5010165\n",
      "Selected Tracker: Gaussian2D\n",
      "\n",
      "  rotated to rotor-aligned axes (about z): 0.0 deg\n",
      "  rotated to rotor-aligned axes (about z): 0.0 deg\n",
      "  rotated to rotor-aligned axes (about z): 0.0 deg\n",
      "  rotation error: 0.0\n",
      "  rotation error: 0.0\n",
      "  rotation error: 0.0\n",
      "Sampling plane normal vector: [1. 0. 0.]\n",
      "  horizontal search range: -40.0 40.0\n",
      "  horizontal search range: -40.0 40.0\n",
      "  horizontal search range: -40.0 40.0\n",
      "  identified plane center at: 54.0 0.0 40.5010165\n",
      "  vertical search range: 0.497933 80.5041\n",
      "  vertical search range: 0.497933 80.5041\n",
      "  vertical search range: 0.497933 80.5041\n",
      "  rotated to rotor-aligned axes (about z): 0.0 deg\n",
      "  rotation error: 0.0\n",
      "  horizontal search range: -40.0 40.0\n",
      "  vertical search range: 0.497933 80.5041\n",
      "Number of time frames to process: 1584\n",
      "Number of time frames to process: 1581\n",
      "\n",
      "...finished initializing WakeTracker\n",
      "...finished initializing WakeTracker\n",
      "\n",
      "\n",
      "...finished initializing\n",
      "...finished initializing Gaussian2D \n",
      " Gaussian2D \n",
      "Number of time frames to process: 1587\n",
      "\n",
      "\n",
      "\n",
      "...finished initializing WakeTracker\n",
      "\n",
      "...finished initializing Gaussian2D \n",
      "\n",
      "  subtracting out time-varying profile\n",
      "  subtracting out time-varying profile\n",
      "  subtracting out time-varying profile\n",
      "Number of time frames to process: 1591\n",
      "\n",
      "...finished initializing WakeTracker\n",
      "\n",
      "...finished initializing Gaussian2D \n",
      "\n",
      "  subtracting out time-varying profile\n",
      "Trajectory loaded from ./WAKEBENCH-NREL_DEBNATH_LES/neutral/2D_Gaussian/trajectory_4D.csv\n",
      "Read pickled outlines from ./WAKEBENCH-NREL_DEBNATH_LES/neutral/2D_Gaussian/outlines_4D.pkl\n",
      "Note: wake tracking has already been performed\n",
      "x/D: 6 : {'umin': None, 'A_ref': 572.5552611167398, 'A_min': 114.51105222334795, 'A_max': 1145.1105222334795, 'AR_max': 10.0}\n",
      "Slicing data at i=0 x=162.0\n",
      "Selected Tracker: Gaussian2D\n",
      "\n",
      "Sampling plane normal vector: [1. 0. 0.]\n",
      "  identified plane center at: 162.0 0.0 40.5010165\n",
      "  rotated to rotor-aligned axes (about z): 0.0 deg\n",
      "  rotation error: 0.0\n",
      "  horizontal search range: -40.0 40.0\n",
      "  vertical search range: 0.497933 80.5041\n",
      "Trajectory loaded from ./WAKEBENCH-NREL_DEBNATH_LES/neutral/2D_Gaussian/trajectory_3D.csv\n",
      "Trajectory loaded from ./WAKEBENCH-NREL_DEBNATH_LES/neutral/2D_Gaussian/trajectory_5D.csv\n",
      "Read pickled outlines from ./WAKEBENCH-NREL_DEBNATH_LES/neutral/2D_Gaussian/outlines_3D.pkl\n",
      "Note: wake tracking has already been performed\n",
      "Read pickled outlines from ./WAKEBENCH-NREL_DEBNATH_LES/neutral/2D_Gaussian/outlines_5D.pkl\n",
      "Note: wake tracking has already been performed\n",
      "x/D: 7 : {'umin': None, 'A_ref': 572.5552611167398, 'A_min': 114.51105222334795, 'A_max': 1145.1105222334795, 'AR_max': 10.0}\n",
      "Slicing data at i=0 x=189.0\n",
      "Number of time frames to process: 1578\n",
      "\n",
      "...finished initializing WakeTrackerSelected Tracker: Gaussian2D\n",
      "\n",
      "\n",
      "\n",
      "...finished initializingSampling plane normal vector: [1. 0. 0.]\n",
      "  identified plane center at: 189.0 0.0 40.5010165\n",
      " Gaussian2D \n",
      "  rotated to rotor-aligned axes (about z): 0.0 deg\n",
      "\n",
      "  rotation error: 0.0\n",
      "  horizontal search range: -40.0 40.0\n",
      "  vertical search range: 0.497933 80.5041\n",
      "x/D: 8 : {'umin': None, 'A_ref': 572.5552611167398, 'A_min': 114.51105222334795, 'A_max': 1145.1105222334795, 'AR_max': 10.0}\n",
      "Slicing data at i=0 x=216.0\n",
      "  subtracting out time-varying profile\n",
      "Selected Tracker: Gaussian2D\n",
      "\n",
      "Sampling plane normal vector: [1. 0. 0.]\n",
      "  identified plane center at: 216.0 0.0 40.5010165\n",
      "  rotated to rotor-aligned axes (about z): 0.0 deg\n",
      "  rotation error: 0.0\n",
      "Trajectory loaded from ./WAKEBENCH-NREL_DEBNATH_LES/neutral/2D_Gaussian/trajectory_2D.csv\n",
      "  horizontal search range: -40.0 40.0\n",
      "  vertical search range: 0.497933 80.5041\n",
      "Read pickled outlines from ./WAKEBENCH-NREL_DEBNATH_LES/neutral/2D_Gaussian/outlines_2D.pkl\n",
      "Note: wake tracking has already been performed\n",
      "Number of time frames to process: 1575\n",
      "\n",
      "...finished initializing WakeTracker\n",
      "\n",
      "...finished initializing Gaussian2D \n",
      "\n",
      "  subtracting out time-varying profile\n",
      "Number of time frames to process: 1572\n",
      "\n",
      "...finished initializing WakeTracker\n",
      "\n",
      "...finished initializing Gaussian2D \n",
      "\n",
      "  subtracting out time-varying profile\n",
      "Trajectory loaded from ./WAKEBENCH-NREL_DEBNATH_LES/neutral/2D_Gaussian/trajectory_6D.csv\n",
      "Read pickled outlines from ./WAKEBENCH-NREL_DEBNATH_LES/neutral/2D_Gaussian/outlines_6D.pkl\n",
      "Note: wake tracking has already been performed\n",
      "Trajectory loaded from ./WAKEBENCH-NREL_DEBNATH_LES/neutral/2D_Gaussian/trajectory_7D.csv\n",
      "Read pickled outlines from ./WAKEBENCH-NREL_DEBNATH_LES/neutral/2D_Gaussian/outlines_7D.pkl\n",
      "Note: wake tracking has already been performed\n",
      "Trajectory loaded from ./WAKEBENCH-NREL_DEBNATH_LES/neutral/2D_Gaussian/trajectory_8D.csv\n",
      "Read pickled outlines from ./WAKEBENCH-NREL_DEBNATH_LES/neutral/2D_Gaussian/outlines_8D.pkl\n",
      "Note: wake tracking has already been performed\n",
      "CPU times: user 27.4 ms, sys: 18.5 ms, total: 46 ms\n",
      "Wall time: 3.6 s\n"
     ]
    },
    {
     "data": {
      "text/plain": [
       "[None, None, None, None, None, None, None]"
      ]
     },
     "execution_count": 13,
     "metadata": {},
     "output_type": "execute_result"
    }
   ],
   "source": [
    "p = Pool(Nprocs)\n",
    "%time p.map(partial(track_downstream_plane, **Gaussian2D_params), case.downstreamD)\n",
    "# Nprocs=4\n",
    "# CPU times: user 490 ms, sys: 203 ms, total: 693 ms\n",
    "# Wall time: 45min 36s"
   ]
  },
  {
   "cell_type": "markdown",
   "metadata": {},
   "source": [
    "### Gaussian 1D"
   ]
  },
  {
   "cell_type": "code",
   "execution_count": 14,
   "metadata": {
    "scrolled": true
   },
   "outputs": [
    {
     "name": "stdout",
     "output_type": "stream",
     "text": [
      "Calculated Gaussian width : 8.598824208554174 m\n",
      "Calculated Gaussian amplitude : -4.474464240770766 m/s\n",
      "Calculated Gaussian width : 9.806639508554174 m\n",
      "Calculated Gaussian amplitude : -3.112149184268989 m/s\n",
      "Calculated Gaussian width : 11.014454808554174 m\n",
      "Calculated Gaussian amplitude : -2.340643747870897 m/s\n",
      "Calculated Gaussian width : 12.222270108554174 m\n",
      "Calculated Gaussian amplitude : -1.8396952310704735 m/s\n",
      "Calculated Gaussian width : 13.430085408554174 m\n",
      "Calculated Gaussian amplitude : -1.4902034362444538 m/s\n",
      "Calculated Gaussian width : 14.637900708554174 m\n",
      "Calculated Gaussian amplitude : -1.2345920413753313 m/s\n",
      "Calculated Gaussian width : 15.845716008554174 m\n",
      "Calculated Gaussian amplitude : -1.0410934863247117 m/s\n",
      "Calculated Gaussian width : 8.598824208554174 m\n",
      "Calculated Gaussian width : 9.806639508554174 m\n",
      "Calculated Gaussian width : 11.014454808554174 m\n",
      "Calculated Gaussian width : 12.222270108554174 m\n",
      "Calculated Gaussian width : 13.430085408554174 m\n",
      "Calculated Gaussian width : 14.637900708554174 m\n",
      "Calculated Gaussian width : 15.845716008554174 m\n"
     ]
    }
   ],
   "source": [
    "Bastankhah_params = {\n",
    "    'name': '1D Gaussian (Bastankhah)',\n",
    "    'method': 'Gaussian',\n",
    "    'umin': { x_D: gauss.amplitude(x_D*case.turbine.D,-case.Uref) for x_D in case.downstreamD },\n",
    "    'sigma': { x_D: gauss.sigma(x_D*case.turbine.D) for x_D in case.downstreamD },\n",
    "}"
   ]
  },
  {
   "cell_type": "code",
   "execution_count": 15,
   "metadata": {},
   "outputs": [
    {
     "name": "stdout",
     "output_type": "stream",
     "text": [
      "x/D: 3 : {'umin': -3.112149184268989, 'sigma': 9.806639508554174}\n",
      "x/D: 2 : {'umin': -4.474464240770766, 'sigma': 8.598824208554174}\n",
      "x/D: 4 : {'umin': -2.340643747870897, 'sigma': 11.014454808554174}\n",
      "x/D: 5 : {'umin': -1.8396952310704735, 'sigma': 12.222270108554174}\n",
      "Slicing data at i=0 x=108.0\n",
      "Slicing data at i=0 x=135.0\n",
      "Slicing data at i=0 x=81.0\n",
      "Slicing data at i=0 x=54.0\n",
      "Selected Tracker: Gaussian\n",
      "Selected Tracker: Gaussian\n",
      "Selected Tracker: Gaussian\n",
      "\n",
      "\n",
      "\n",
      "Sampling plane normal vector: [1. 0. 0.]\n",
      "Sampling plane normal vector: [1. 0. 0.]\n",
      "Sampling plane normal vector: [1. 0. 0.]\n",
      "  identified plane center at: 108.0 0.0 40.5010165\n",
      "  identified plane center at: 81.0 0.0 40.5010165\n",
      "  identified plane center at: 135.0 0.0 40.5010165\n",
      "  rotated to rotor-aligned axes (about z): 0.0 deg\n",
      "  rotated to rotor-aligned axes (about z): 0.0 deg\n",
      "  rotated to rotor-aligned axes (about z): 0.0 deg\n",
      "  rotation error: 0.0\n",
      "  rotation error: 0.0\n",
      "  rotation error: 0.0\n",
      "  horizontal search range: -40.0 40.0\n",
      "  horizontal search range: -40.0 40.0\n",
      "  horizontal search range: -40.0 40.0\n",
      "  vertical search range: 0.497933 80.5041\n",
      "  vertical search range: 0.497933 80.5041\n",
      "  vertical search range: 0.497933 80.5041\n",
      "Selected Tracker: Gaussian\n",
      "\n",
      "Sampling plane normal vector: [1. 0. 0.]\n",
      "  identified plane center at: 54.0 0.0 40.5010165\n",
      "  rotated to rotor-aligned axes (about z): 0.0 deg\n",
      "  rotation error: 0.0\n",
      "  horizontal search range: -40.0 40.0\n",
      "  vertical search range: 0.497933 80.5041\n",
      "Number of time frames to process: 1587\n",
      "Number of time frames to process: 1581\n",
      "\n",
      "...finished initializing WakeTracker\n",
      "...finished initializing WakeTrackerNumber of time frames to process: 1584\n",
      "\n",
      "\n",
      "\n",
      "...finished initializing WakeTracker\n",
      "...finished initializing\n",
      "...finished initializing\n",
      " Gaussian \n",
      " Gaussian \n",
      "\n",
      "...finished initializing\n",
      "\n",
      " Gaussian \n",
      "\n",
      "  subtracting out time-varying profile\n",
      "  subtracting out time-varying profile\n",
      "  subtracting out time-varying profile\n",
      "Number of time frames to process: 1591\n",
      "\n",
      "...finished initializing WakeTracker\n",
      "\n",
      "...finished initializing Gaussian \n",
      "\n",
      "  subtracting out time-varying profile\n",
      "Trajectory loaded from ./WAKEBENCH-NREL_DEBNATH_LES/neutral/1D_Gaussian_Bastankhah/trajectory_5D.csv\n",
      "Read pickled outlines from ./WAKEBENCH-NREL_DEBNATH_LES/neutral/1D_Gaussian_Bastankhah/outlines_5D.pkl\n",
      "Note: wake tracking has already been performed\n",
      "Trajectory loaded from ./WAKEBENCH-NREL_DEBNATH_LES/neutral/1D_Gaussian_Bastankhah/trajectory_4D.csv\n",
      "Read pickled outlines from ./WAKEBENCH-NREL_DEBNATH_LES/neutral/1D_Gaussian_Bastankhah/outlines_4D.pkl\n",
      "Note: wake tracking has already been performed\n",
      "x/D: 6 : {'umin': -1.4902034362444538, 'sigma': 13.430085408554174}\n",
      "Slicing data at i=0 x=162.0\n",
      "Selected Tracker: Gaussian\n",
      "\n",
      "Sampling plane normal vector: [1. 0. 0.]\n",
      "Trajectory loaded from ./WAKEBENCH-NREL_DEBNATH_LES/neutral/1D_Gaussian_Bastankhah/trajectory_3D.csv\n",
      "  identified plane center at: 162.0 0.0 40.5010165\n",
      "  rotated to rotor-aligned axes (about z): 0.0 deg\n",
      "  rotation error: 0.0\n",
      "  horizontal search range: -40.0 40.0\n",
      "  vertical search range: 0.497933 80.5041\n",
      "Read pickled outlines from ./WAKEBENCH-NREL_DEBNATH_LES/neutral/1D_Gaussian_Bastankhah/outlines_3D.pkl\n",
      "Note: wake tracking has already been performed\n",
      "x/D: 7 : {'umin': -1.2345920413753313, 'sigma': 14.637900708554174}\n",
      "Slicing data at i=0 x=189.0\n",
      "Selected Tracker: Gaussian\n",
      "\n",
      "Sampling plane normal vector: [1. 0. 0.]\n",
      "  identified plane center at: 189.0 0.0 40.5010165\n",
      "  rotated to rotor-aligned axes (about z): 0.0 deg\n",
      "  rotation error: 0.0\n",
      "  horizontal search range: -40.0 40.0\n",
      "  vertical search range: 0.497933 80.5041\n",
      "x/D: 8 : {'umin': -1.0410934863247117, 'sigma': 15.845716008554174}\n",
      "Slicing data at i=0 x=216.0\n",
      "Selected Tracker: Gaussian\n",
      "\n",
      "Sampling plane normal vector: [1. 0. 0.]\n",
      "  identified plane center at: 216.0 0.0 40.5010165\n",
      "  rotated to rotor-aligned axes (about z): 0.0 deg\n",
      "  rotation error: 0.0\n",
      "  horizontal search range: -40.0 40.0\n",
      "  vertical search range: 0.497933 80.5041\n",
      "Number of time frames to process: 1578\n",
      "\n",
      "...finished initializing WakeTracker\n",
      "\n",
      "...finished initializing Gaussian \n",
      "\n",
      "Trajectory loaded from ./WAKEBENCH-NREL_DEBNATH_LES/neutral/1D_Gaussian_Bastankhah/trajectory_2D.csv\n",
      "  subtracting out time-varying profile\n",
      "Read pickled outlines from ./WAKEBENCH-NREL_DEBNATH_LES/neutral/1D_Gaussian_Bastankhah/outlines_2D.pkl\n",
      "Note: wake tracking has already been performed\n",
      "Number of time frames to process: 1575\n",
      "\n",
      "...finished initializing WakeTracker\n",
      "\n",
      "...finished initializing Gaussian \n",
      "\n",
      "Number of time frames to process: 1572\n",
      "\n",
      "...finished initializing WakeTracker\n",
      "\n",
      "...finished initializing Gaussian \n",
      "  subtracting out time-varying profile\n",
      "\n",
      "  subtracting out time-varying profile\n",
      "Trajectory loaded from ./WAKEBENCH-NREL_DEBNATH_LES/neutral/1D_Gaussian_Bastankhah/trajectory_6D.csv\n",
      "Read pickled outlines from ./WAKEBENCH-NREL_DEBNATH_LES/neutral/1D_Gaussian_Bastankhah/outlines_6D.pkl\n",
      "Note: wake tracking has already been performed\n",
      "Trajectory loaded from ./WAKEBENCH-NREL_DEBNATH_LES/neutral/1D_Gaussian_Bastankhah/trajectory_7D.csv\n",
      "Read pickled outlines from ./WAKEBENCH-NREL_DEBNATH_LES/neutral/1D_Gaussian_Bastankhah/outlines_7D.pkl\n",
      "Note: wake tracking has already been performed\n",
      "Trajectory loaded from ./WAKEBENCH-NREL_DEBNATH_LES/neutral/1D_Gaussian_Bastankhah/trajectory_8D.csv\n",
      "Read pickled outlines from ./WAKEBENCH-NREL_DEBNATH_LES/neutral/1D_Gaussian_Bastankhah/outlines_8D.pkl\n",
      "Note: wake tracking has already been performed\n",
      "CPU times: user 33.7 ms, sys: 15.4 ms, total: 49.1 ms\n",
      "Wall time: 3.46 s\n"
     ]
    },
    {
     "data": {
      "text/plain": [
       "[None, None, None, None, None, None, None]"
      ]
     },
     "execution_count": 15,
     "metadata": {},
     "output_type": "execute_result"
    }
   ],
   "source": [
    "p = Pool(Nprocs)\n",
    "%time p.map(partial(track_downstream_plane, **Bastankhah_params), case.downstreamD)\n",
    "# Nprocs=4\n",
    "# CPU times: user 150 ms, sys: 79.8 ms, total: 230 ms\n",
    "# Wall time: 7min 36s"
   ]
  },
  {
   "cell_type": "markdown",
   "metadata": {},
   "source": [
    "### Constant area"
   ]
  },
  {
   "cell_type": "code",
   "execution_count": 16,
   "metadata": {},
   "outputs": [],
   "source": [
    "const_area_params = {\n",
    "    'name': 'Constant-Area Contours',\n",
    "    'method': 'ConstantArea',\n",
    "    'ref_area': Aref,\n",
    "}"
   ]
  },
  {
   "cell_type": "code",
   "execution_count": 17,
   "metadata": {},
   "outputs": [
    {
     "name": "stdout",
     "output_type": "stream",
     "text": [
      "x/D: 2 : {'ref_area': 572.5552611167398}\n",
      "x/D: 3 : {'ref_area': 572.5552611167398}\n",
      "x/D: 4 : {'ref_area': 572.5552611167398}\n",
      "x/D: 5 : {'ref_area': 572.5552611167398}\n",
      "Slicing data at i=0 x=54.0\n",
      "Slicing data at i=0 x=81.0\n",
      "Slicing data at i=0 x=108.0\n",
      "Slicing data at i=0 x=135.0\n",
      "Selected Tracker: ConstantArea\n",
      "Selected Tracker: ConstantArea\n",
      "Selected Tracker: ConstantArea\n",
      "Selected Tracker: ConstantArea\n",
      "\n",
      "\n",
      "\n",
      "\n",
      "Sampling plane normal vector: [1. 0. 0.]\n",
      "Sampling plane normal vector: [1. 0. 0.]\n",
      "Sampling plane normal vector: [1. 0. 0.]\n",
      "  identified plane center at: 81.0 0.0 40.5010165\n",
      "  identified plane center at: 54.0 0.0 40.5010165\n",
      "  identified plane center at: 135.0 0.0 40.5010165\n",
      "Sampling plane normal vector: [1. 0. 0.]\n",
      "  rotated to rotor-aligned axes (about z): 0.0 deg\n",
      "  rotated to rotor-aligned axes (about z): 0.0 deg\n",
      "  rotated to rotor-aligned axes (about z): 0.0 deg\n",
      "  identified plane center at: 108.0 0.0 40.5010165\n",
      "  rotation error: 0.0\n",
      "  rotation error: 0.0\n",
      "  rotation error: 0.0\n",
      "  horizontal search range: -40.0 40.0\n",
      "  horizontal search range: -40.0 40.0\n",
      "  horizontal search range: -40.0 40.0\n",
      "  rotated to rotor-aligned axes (about z): 0.0 deg\n",
      "  vertical search range: 0.497933 80.5041\n",
      "  vertical search range: 0.497933 80.5041\n",
      "  vertical search range: 0.497933 80.5041\n",
      "  rotation error: 0.0\n",
      "  horizontal search range: -40.0 40.0\n",
      "  vertical search range: 0.497933 80.5041\n",
      "Number of time frames to process: 1591\n",
      "\n",
      "...finished initializing WakeTracker\n",
      "\n",
      "...finished initializing ContourWakeTracker\n",
      "\n",
      "...finished initializing ConstantArea \n",
      "\n",
      "Number of time frames to process: 1587\n",
      "\n",
      "...finished initializing WakeTracker\n",
      "\n",
      "...finished initializing ContourWakeTracker\n",
      "\n",
      "...finished initializing ConstantArea \n",
      "\n",
      "Number of time frames to process: 1584\n",
      "Number of time frames to process: 1581\n",
      "\n",
      "...finished initializing WakeTracker\n",
      "...finished initializing WakeTracker\n",
      "\n",
      "\n",
      "...finished initializing ContourWakeTracker\n",
      "...finished initializing ContourWakeTracker\n",
      "\n",
      "\n",
      "...finished initializing\n",
      "...finished initializing ConstantArea \n",
      " ConstantArea \n",
      "\n",
      "\n",
      "  subtracting out time-varying profile\n",
      "  subtracting out time-varying profile\n",
      "  subtracting out time-varying profile\n",
      "  subtracting out time-varying profile\n",
      "Trajectory loaded from ./WAKEBENCH-NREL_DEBNATH_LES/neutral/Constant-Area_Contours/trajectory_5D.csv\n",
      "Trajectory loaded from ./WAKEBENCH-NREL_DEBNATH_LES/neutral/Constant-Area_Contours/trajectory_4D.csv\n",
      "Trajectory loaded from ./WAKEBENCH-NREL_DEBNATH_LES/neutral/Constant-Area_Contours/trajectory_3D.csv\n",
      "Read pickled outlines from ./WAKEBENCH-NREL_DEBNATH_LES/neutral/Constant-Area_Contours/outlines_5D.pkl\n",
      "Note: wake tracking has already been performed\n",
      "Read pickled outlines from ./WAKEBENCH-NREL_DEBNATH_LES/neutral/Constant-Area_Contours/outlines_4D.pkl\n",
      "Note: wake tracking has already been performed\n",
      "Read pickled outlines from ./WAKEBENCH-NREL_DEBNATH_LES/neutral/Constant-Area_Contours/outlines_3D.pkl\n",
      "Note: wake tracking has already been performed\n",
      "x/D: 6 : {'ref_area': 572.5552611167398}\n",
      "Slicing data at i=0 x=162.0\n",
      "x/D: 7 : {'ref_area': 572.5552611167398}\n",
      "Slicing data at i=0 x=189.0\n",
      "Selected Tracker: ConstantArea\n",
      "\n",
      "Sampling plane normal vector: [1. 0. 0.]\n",
      "Selected Tracker: ConstantArea\n",
      "  identified plane center at: 162.0 0.0 40.5010165\n",
      "\n",
      "  rotated to rotor-aligned axes (about z): 0.0 deg\n",
      "Sampling plane normal vector: [1. 0. 0.]\n",
      "  rotation error: 0.0\n",
      "  horizontal search range: -40.0 40.0\n",
      "  identified plane center at: 189.0 0.0 40.5010165\n",
      "  vertical search range: 0.497933 80.5041\n",
      "  rotated to rotor-aligned axes (about z): 0.0 deg\n",
      "  rotation error: 0.0\n",
      "  horizontal search range: -40.0 40.0\n",
      "  vertical search range: 0.497933 80.5041\n",
      "x/D: 8 : {'ref_area': 572.5552611167398}\n",
      "Slicing data at i=0 x=216.0\n",
      "Trajectory loaded from ./WAKEBENCH-NREL_DEBNATH_LES/neutral/Constant-Area_Contours/trajectory_2D.csv\n",
      "Selected Tracker: ConstantArea\n",
      "\n",
      "Sampling plane normal vector: [1. 0. 0.]\n",
      "  identified plane center at: 216.0 0.0 40.5010165\n",
      "  rotated to rotor-aligned axes (about z): 0.0 deg\n",
      "  rotation error: 0.0\n",
      "  horizontal search range: -40.0 40.0\n",
      "  vertical search range: 0.497933 80.5041\n",
      "Read pickled outlines from ./WAKEBENCH-NREL_DEBNATH_LES/neutral/Constant-Area_Contours/outlines_2D.pkl\n",
      "Note: wake tracking has already been performed\n",
      "Number of time frames to process: 1578\n",
      "\n",
      "...finished initializing WakeTracker\n",
      "\n",
      "...finished initializing ContourWakeTracker\n",
      "\n",
      "...finished initializing ConstantArea \n",
      "\n",
      "  subtracting out time-varying profile\n",
      "Number of time frames to process: 1575\n",
      "\n",
      "...finished initializing WakeTrackerNumber of time frames to process: 1572\n",
      "\n",
      "...finished initializing WakeTracker\n",
      "\n",
      "...finished initializing ContourWakeTracker\n",
      "\n",
      "...finished initializing ConstantArea \n",
      "\n",
      "\n",
      "\n",
      "...finished initializing ContourWakeTracker\n",
      "\n",
      "...finished initializing ConstantArea \n",
      "\n",
      "  subtracting out time-varying profile\n",
      "  subtracting out time-varying profile\n",
      "Trajectory loaded from ./WAKEBENCH-NREL_DEBNATH_LES/neutral/Constant-Area_Contours/trajectory_6D.csv\n",
      "Read pickled outlines from ./WAKEBENCH-NREL_DEBNATH_LES/neutral/Constant-Area_Contours/outlines_6D.pkl\n",
      "Note: wake tracking has already been performed\n",
      "Trajectory loaded from ./WAKEBENCH-NREL_DEBNATH_LES/neutral/Constant-Area_Contours/trajectory_7D.csv\n",
      "Trajectory loaded from ./WAKEBENCH-NREL_DEBNATH_LES/neutral/Constant-Area_Contours/trajectory_8D.csv\n",
      "Read pickled outlines from ./WAKEBENCH-NREL_DEBNATH_LES/neutral/Constant-Area_Contours/outlines_7D.pkl\n",
      "Note: wake tracking has already been performed\n",
      "Read pickled outlines from ./WAKEBENCH-NREL_DEBNATH_LES/neutral/Constant-Area_Contours/outlines_8D.pkl\n",
      "Note: wake tracking has already been performed\n",
      "CPU times: user 31.7 ms, sys: 24.9 ms, total: 56.6 ms\n",
      "Wall time: 3.49 s\n"
     ]
    },
    {
     "data": {
      "text/plain": [
       "[None, None, None, None, None, None, None]"
      ]
     },
     "execution_count": 17,
     "metadata": {},
     "output_type": "execute_result"
    }
   ],
   "source": [
    "p = Pool(Nprocs)\n",
    "%time p.map(partial(track_downstream_plane, **const_area_params), case.downstreamD)\n",
    "# Nprocs=4\n",
    "# CPU times: user 136 ms, sys: 32.7 ms, total: 169 ms\n",
    "# Wall time: 4min 1s"
   ]
  },
  {
   "cell_type": "markdown",
   "metadata": {},
   "source": [
    "### Constant flux"
   ]
  },
  {
   "cell_type": "code",
   "execution_count": null,
   "metadata": {},
   "outputs": [],
   "source": []
  }
 ],
 "metadata": {
  "kernelspec": {
   "display_name": "Python 3",
   "language": "python",
   "name": "python3"
  },
  "language_info": {
   "codemirror_mode": {
    "name": "ipython",
    "version": 3
   },
   "file_extension": ".py",
   "mimetype": "text/x-python",
   "name": "python",
   "nbconvert_exporter": "python",
   "pygments_lexer": "ipython3",
   "version": "3.7.3"
  }
 },
 "nbformat": 4,
 "nbformat_minor": 2
}
