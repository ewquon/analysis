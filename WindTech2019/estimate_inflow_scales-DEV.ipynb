{
 "cells": [
  {
   "cell_type": "code",
   "execution_count": 1,
   "metadata": {},
   "outputs": [],
   "source": [
    "%load_ext autoreload\n",
    "%autoreload 2"
   ]
  },
  {
   "cell_type": "code",
   "execution_count": 2,
   "metadata": {},
   "outputs": [],
   "source": [
    "%matplotlib inline\n",
    "import os\n",
    "import numpy as np\n",
    "import matplotlib.pyplot as plt\n",
    "import pandas as pd\n",
    "import xarray"
   ]
  },
  {
   "cell_type": "code",
   "execution_count": 3,
   "metadata": {},
   "outputs": [],
   "source": [
    "from study import V27, neutral"
   ]
  },
  {
   "cell_type": "markdown",
   "metadata": {},
   "source": [
    "# Estimate inflow from upstream plane\n",
    "- velocity profile $= \\bar{U}(t,z)$\n",
    "- $\\bar{U}$ is a 1-min rolling mean\n",
    "- need offset in time from the x=-2.5D plane to the downstream wake planes"
   ]
  },
  {
   "cell_type": "code",
   "execution_count": 4,
   "metadata": {},
   "outputs": [],
   "source": [
    "casedir = 'WAKEBENCH-NREL_DEBNATH_LES/neutral'\n",
    "prefix = 'NREL_DEBNATH_LES_20190325'"
   ]
  },
  {
   "cell_type": "code",
   "execution_count": 5,
   "metadata": {},
   "outputs": [],
   "source": [
    "case = neutral(casedir,prefix,turbine=V27)"
   ]
  },
  {
   "cell_type": "markdown",
   "metadata": {},
   "source": [
    "## Load data into wake object"
   ]
  },
  {
   "cell_type": "code",
   "execution_count": 7,
   "metadata": {},
   "outputs": [
    {
     "name": "stdout",
     "output_type": "stream",
     "text": [
      "Selected datafile: WAKEBENCH-NREL_DEBNATH_LES/neutral/NREL_DEBNATH_LES_20190325_uvw_-2.5D.nc\n"
     ]
    },
    {
     "data": {
      "text/plain": [
       "<xarray.Dataset>\n",
       "Dimensions:  (t: 1663, x: 1, y: 162, z: 162)\n",
       "Coordinates:\n",
       "  * t        (t) uint16 16150 16151 16152 16153 ... 17809 17810 17811 17812\n",
       "  * x        (x) float64 -67.5\n",
       "  * y        (y) float64 -40.0 -39.51 -39.01 -38.51 ... 38.51 39.01 39.51 40.0\n",
       "  * z        (z) float64 0.4979 0.9949 1.492 1.989 ... 79.01 79.51 80.01 80.5\n",
       "Data variables:\n",
       "    U        (t, x, y, z) float64 ...\n",
       "    V        (t, x, y, z) float64 ...\n",
       "    W        (t, x, y, z) float64 ..."
      ]
     },
     "execution_count": 7,
     "metadata": {},
     "output_type": "execute_result"
    }
   ],
   "source": [
    "xa = xarray.open_dataset(case.get_wake_datafile(case.upstreamD))\n",
    "xa"
   ]
  },
  {
   "cell_type": "code",
   "execution_count": 8,
   "metadata": {},
   "outputs": [],
   "source": [
    "Ntimes = xa.dims['t']"
   ]
  },
  {
   "cell_type": "code",
   "execution_count": 9,
   "metadata": {},
   "outputs": [],
   "source": [
    "t = xa.t.values\n",
    "z = xa.z.values"
   ]
  },
  {
   "cell_type": "code",
   "execution_count": 10,
   "metadata": {},
   "outputs": [
    {
     "data": {
      "text/plain": [
       "<xarray.DataArray 'U' (t: 1663, x: 1, y: 162, z: 162)>\n",
       "[43643772 values with dtype=float64]\n",
       "Coordinates:\n",
       "  * t        (t) uint16 16150 16151 16152 16153 ... 17809 17810 17811 17812\n",
       "  * x        (x) float64 -67.5\n",
       "  * y        (y) float64 -40.0 -39.51 -39.01 -38.51 ... 38.51 39.01 39.51 40.0\n",
       "  * z        (z) float64 0.4979 0.9949 1.492 1.989 ... 79.01 79.51 80.01 80.5\n",
       "Attributes:\n",
       "    long_name:  streamwise wind component\n",
       "    units:      m/s"
      ]
     },
     "execution_count": 10,
     "metadata": {},
     "output_type": "execute_result"
    }
   ],
   "source": [
    "xa.U"
   ]
  },
  {
   "cell_type": "markdown",
   "metadata": {},
   "source": [
    "## get profile"
   ]
  },
  {
   "cell_type": "code",
   "execution_count": 11,
   "metadata": {},
   "outputs": [],
   "source": [
    "Uprofile_inst = xa.U.mean(dim=('x','y')) # average over x,y: U(t,z)\n",
    "Uprofile_mean = Uprofile_inst.rolling(dim={'t':case.Navg}).mean()"
   ]
  },
  {
   "cell_type": "code",
   "execution_count": 12,
   "metadata": {},
   "outputs": [],
   "source": [
    "Uprofile = Uprofile_mean.to_dataframe(name='U')"
   ]
  },
  {
   "cell_type": "markdown",
   "metadata": {},
   "source": [
    "## read turbine output"
   ]
  },
  {
   "cell_type": "code",
   "execution_count": 13,
   "metadata": {},
   "outputs": [
    {
     "name": "stdout",
     "output_type": "stream",
     "text": [
      "Selected datafile: WAKEBENCH-NREL_DEBNATH_LES/neutral/NREL_DEBNATH_LES_20190325_wtg_response.txt\n"
     ]
    }
   ],
   "source": [
    "turb = pd.read_csv(case.get_turbine_datafile()).set_index('time_[s]')"
   ]
  },
  {
   "cell_type": "code",
   "execution_count": 14,
   "metadata": {},
   "outputs": [
    {
     "data": {
      "text/plain": [
       "Float64Index([   0.0,    0.1,    0.2,    0.3,    0.4,    0.5,    0.6,    0.7,\n",
       "                 0.8,    0.9,\n",
       "              ...\n",
       "              1843.1, 1843.1, 1843.1, 1843.1, 1843.1, 1843.1, 1843.1, 1843.1,\n",
       "              1843.1, 1843.1],\n",
       "             dtype='float64', name='time_[s]', length=18501)"
      ]
     },
     "execution_count": 14,
     "metadata": {},
     "output_type": "execute_result"
    }
   ],
   "source": [
    "turb.index"
   ]
  },
  {
   "cell_type": "code",
   "execution_count": 15,
   "metadata": {},
   "outputs": [
    {
     "data": {
      "text/plain": [
       "Index(['blade_pitch_[deg]', 'blade_root_edge_moment_[N_m]',\n",
       "       'blade_root_flap_moment_[N_m]', 'generator_power_[kW]',\n",
       "       'generator_torque_[N_m]', 'hub_wind_speed_[m_s-1]', 'rotor_power_[kW]',\n",
       "       'rotor_speed_[rpm]', 'rotor_torque_[N_m]', 'thrust_coefficient_[-]',\n",
       "       'thrust_force_[N]', 'total_thrust_force_[N]'],\n",
       "      dtype='object')"
      ]
     },
     "execution_count": 15,
     "metadata": {},
     "output_type": "execute_result"
    }
   ],
   "source": [
    "turb.columns"
   ]
  },
  {
   "cell_type": "code",
   "execution_count": 16,
   "metadata": {},
   "outputs": [
    {
     "data": {
      "text/plain": [
       "<matplotlib.lines.Line2D at 0x3165f83c8>"
      ]
     },
     "execution_count": 16,
     "metadata": {},
     "output_type": "execute_result"
    },
    {
     "data": {
      "image/png": "[encoded data removed]",
      "text/plain": [
       "<Figure size 432x288 with 1 Axes>"
      ]
     },
     "metadata": {
      "needs_background": "light"
     },
     "output_type": "display_data"
    }
   ],
   "source": [
    "turb['rotor_speed_[rpm]'].plot()\n",
    "turb['rotor_speed_[rpm]'].rolling(600).median().plot()\n",
    "omg = turb['rotor_speed_[rpm]'].rolling(600).median().mean()\n",
    "plt.gca().axhline(omg,ls='-',color='k')"
   ]
  },
  {
   "cell_type": "code",
   "execution_count": 17,
   "metadata": {},
   "outputs": [
    {
     "data": {
      "text/plain": [
       "43.339156413259374"
      ]
     },
     "execution_count": 17,
     "metadata": {},
     "output_type": "execute_result"
    }
   ],
   "source": [
    "omg"
   ]
  },
  {
   "cell_type": "markdown",
   "metadata": {},
   "source": [
    "## inherent scales"
   ]
  },
  {
   "cell_type": "markdown",
   "metadata": {},
   "source": [
    "### large-eddy turnover time"
   ]
  },
  {
   "cell_type": "code",
   "execution_count": 18,
   "metadata": {},
   "outputs": [
    {
     "data": {
      "text/plain": [
       "86.20689655172414"
      ]
     },
     "execution_count": 18,
     "metadata": {},
     "output_type": "execute_result"
    }
   ],
   "source": [
    "Teddy = case.zi / case.Uref # [s]\n",
    "Teddy"
   ]
  },
  {
   "cell_type": "markdown",
   "metadata": {},
   "source": [
    "### rotor period"
   ]
  },
  {
   "cell_type": "code",
   "execution_count": 19,
   "metadata": {},
   "outputs": [
    {
     "data": {
      "text/plain": [
       "1.3844293467060502"
      ]
     },
     "execution_count": 19,
     "metadata": {},
     "output_type": "execute_result"
    }
   ],
   "source": [
    "Trotor = 1/omg * 60 # [s]\n",
    "Trotor"
   ]
  },
  {
   "cell_type": "markdown",
   "metadata": {},
   "source": [
    "### integral time scale"
   ]
  },
  {
   "cell_type": "code",
   "execution_count": 47,
   "metadata": {},
   "outputs": [
    {
     "data": {
      "text/html": [
       "<div>\n",
       "<style scoped>\n",
       "    .dataframe tbody tr th:only-of-type {\n",
       "        vertical-align: middle;\n",
       "    }\n",
       "\n",
       "    .dataframe tbody tr th {\n",
       "        vertical-align: top;\n",
       "    }\n",
       "\n",
       "    .dataframe thead th {\n",
       "        text-align: right;\n",
       "    }\n",
       "</style>\n",
       "<table border=\"1\" class=\"dataframe\">\n",
       "  <thead>\n",
       "    <tr style=\"text-align: right;\">\n",
       "      <th></th>\n",
       "      <th></th>\n",
       "      <th></th>\n",
       "      <th></th>\n",
       "      <th>U</th>\n",
       "      <th>V</th>\n",
       "      <th>W</th>\n",
       "    </tr>\n",
       "    <tr>\n",
       "      <th>t</th>\n",
       "      <th>x</th>\n",
       "      <th>y</th>\n",
       "      <th>z</th>\n",
       "      <th></th>\n",
       "      <th></th>\n",
       "      <th></th>\n",
       "    </tr>\n",
       "  </thead>\n",
       "  <tbody>\n",
       "    <tr>\n",
       "      <th rowspan=\"5\" valign=\"top\">16150</th>\n",
       "      <th rowspan=\"5\" valign=\"top\">-67.5</th>\n",
       "      <th rowspan=\"5\" valign=\"top\">-40.0</th>\n",
       "      <th>0.497933</th>\n",
       "      <td>3.78682</td>\n",
       "      <td>-0.069897</td>\n",
       "      <td>0.062628</td>\n",
       "    </tr>\n",
       "    <tr>\n",
       "      <th>0.994865</th>\n",
       "      <td>3.98273</td>\n",
       "      <td>-0.404492</td>\n",
       "      <td>0.123900</td>\n",
       "    </tr>\n",
       "    <tr>\n",
       "      <th>1.491800</th>\n",
       "      <td>4.19350</td>\n",
       "      <td>-0.708643</td>\n",
       "      <td>0.135786</td>\n",
       "    </tr>\n",
       "    <tr>\n",
       "      <th>1.988730</th>\n",
       "      <td>4.36773</td>\n",
       "      <td>-1.040070</td>\n",
       "      <td>0.142509</td>\n",
       "    </tr>\n",
       "    <tr>\n",
       "      <th>2.485660</th>\n",
       "      <td>4.72891</td>\n",
       "      <td>-1.311610</td>\n",
       "      <td>0.129787</td>\n",
       "    </tr>\n",
       "  </tbody>\n",
       "</table>\n",
       "</div>"
      ],
      "text/plain": [
       "                                  U         V         W\n",
       "t     x     y     z                                    \n",
       "16150 -67.5 -40.0 0.497933  3.78682 -0.069897  0.062628\n",
       "                  0.994865  3.98273 -0.404492  0.123900\n",
       "                  1.491800  4.19350 -0.708643  0.135786\n",
       "                  1.988730  4.36773 -1.040070  0.142509\n",
       "                  2.485660  4.72891 -1.311610  0.129787"
      ]
     },
     "execution_count": 47,
     "metadata": {},
     "output_type": "execute_result"
    }
   ],
   "source": [
    "df = xa.to_dataframe()\n",
    "df.head()"
   ]
  },
  {
   "cell_type": "code",
   "execution_count": 48,
   "metadata": {},
   "outputs": [
    {
     "data": {
      "text/plain": [
       "(32.3016, 32.1, 32.7985)"
      ]
     },
     "execution_count": 48,
     "metadata": {},
     "output_type": "execute_result"
    }
   ],
   "source": [
    "khub = np.argmin(np.abs(z - case.turbine.zhub))\n",
    "z[khub], case.turbine.zhub, z[khub+1]"
   ]
  },
  {
   "cell_type": "code",
   "execution_count": 49,
   "metadata": {},
   "outputs": [],
   "source": [
    "zref = 32.7985"
   ]
  },
  {
   "cell_type": "code",
   "execution_count": 50,
   "metadata": {},
   "outputs": [],
   "source": [
    "# select ~hub height\n",
    "df = df.xs(zref, level='z')"
   ]
  },
  {
   "cell_type": "code",
   "execution_count": 51,
   "metadata": {},
   "outputs": [],
   "source": [
    "# drop x index\n",
    "df = df.reset_index(1).drop(columns='x')"
   ]
  },
  {
   "cell_type": "code",
   "execution_count": 151,
   "metadata": {},
   "outputs": [
    {
     "data": {
      "text/plain": [
       "0.8682451767722106"
      ]
     },
     "execution_count": 151,
     "metadata": {},
     "output_type": "execute_result"
    },
    {
     "data": {
      "image/png": "[encoded data removed]",
      "text/plain": [
       "<Figure size 432x288 with 1 Axes>"
      ]
     },
     "metadata": {
      "needs_background": "light"
     },
     "output_type": "display_data"
    }
   ],
   "source": [
    "df.xs(0.25,level='y')['U'].plot()\n",
    "df.xs(0.25,level='y')['U'].std()"
   ]
  },
  {
   "cell_type": "code",
   "execution_count": 155,
   "metadata": {},
   "outputs": [
    {
     "data": {
      "text/plain": [
       "0.8392646085716081"
      ]
     },
     "execution_count": 155,
     "metadata": {},
     "output_type": "execute_result"
    },
    {
     "data": {
      "image/png": "[encoded data removed]",
      "text/plain": [
       "<Figure size 432x288 with 1 Axes>"
      ]
     },
     "metadata": {
      "needs_background": "light"
     },
     "output_type": "display_data"
    }
   ],
   "source": [
    "# detrend\n",
    "u = df['U'] - Uprofile.xs(zref, level='z')['U']\n",
    "u = u.loc[~pd.isna(u)]\n",
    "u.xs(0.25,level='y').plot()\n",
    "u.xs(0.25,level='y').std()"
   ]
  },
  {
   "cell_type": "code",
   "execution_count": 143,
   "metadata": {},
   "outputs": [],
   "source": [
    "# calculate autocorrelation\n",
    "#%time R = np.correlate(u.values, u.values, mode='full')\n",
    "R = u.unstack().apply(lambda u_y: np.correlate(u_y, u_y, mode='full'), axis=0)\n",
    "Rmean = R.mean(axis=1).values[len(R)//2:]\n",
    "Rmean /= Rmean[0] # normalize by the stdev, i.e., a one-point correlation at dt=0"
   ]
  },
  {
   "cell_type": "code",
   "execution_count": 144,
   "metadata": {},
   "outputs": [
    {
     "data": {
      "text/plain": [
       "[<matplotlib.lines.Line2D at 0x4672381d0>]"
      ]
     },
     "execution_count": 144,
     "metadata": {},
     "output_type": "execute_result"
    },
    {
     "data": {
      "image/png": "[encoded data removed]",
      "text/plain": [
       "<Figure size 432x288 with 1 Axes>"
      ]
     },
     "metadata": {
      "needs_background": "light"
     },
     "output_type": "display_data"
    }
   ],
   "source": [
    "plt.plot(np.arange(len(Rmean)),Rmean)"
   ]
  },
  {
   "cell_type": "code",
   "execution_count": 145,
   "metadata": {},
   "outputs": [
    {
     "data": {
      "text/plain": [
       "2.8073148304190867"
      ]
     },
     "execution_count": 145,
     "metadata": {},
     "output_type": "execute_result"
    }
   ],
   "source": [
    "# integral time scale of turbulence\n",
    "Tint = np.sum(Rmean)\n",
    "Tint"
   ]
  },
  {
   "cell_type": "code",
   "execution_count": 161,
   "metadata": {},
   "outputs": [
    {
     "data": {
      "text/plain": [
       "(0, 500)"
      ]
     },
     "execution_count": 161,
     "metadata": {},
     "output_type": "execute_result"
    },
    {
     "data": {
      "image/png": "[encoded data removed]",
      "text/plain": [
       "<Figure size 432x288 with 1 Axes>"
      ]
     },
     "metadata": {
      "needs_background": "light"
     },
     "output_type": "display_data"
    }
   ],
   "source": [
    "imax = np.where(Rmean < 0)[0][0]\n",
    "plt.plot(np.arange(len(Rmean)),Rmean)\n",
    "plt.plot(imax,Rmean[imax],'rx')\n",
    "plt.xlim((0,500))"
   ]
  },
  {
   "cell_type": "code",
   "execution_count": 163,
   "metadata": {},
   "outputs": [
    {
     "data": {
      "text/plain": [
       "7.524551301849809"
      ]
     },
     "execution_count": 163,
     "metadata": {},
     "output_type": "execute_result"
    }
   ],
   "source": [
    "# integral time scale of turbulence, neglecting anticorrelation noise\n",
    "Tint = np.sum(Rmean[:imax])\n",
    "Tint"
   ]
  },
  {
   "cell_type": "code",
   "execution_count": null,
   "metadata": {},
   "outputs": [],
   "source": []
  }
 ],
 "metadata": {
  "kernelspec": {
   "display_name": "Python 3",
   "language": "python",
   "name": "python3"
  },
  "language_info": {
   "codemirror_mode": {
    "name": "ipython",
    "version": 3
   },
   "file_extension": ".py",
   "mimetype": "text/x-python",
   "name": "python",
   "nbconvert_exporter": "python",
   "pygments_lexer": "ipython3",
   "version": "3.7.1"
  }
 },
 "nbformat": 4,
 "nbformat_minor": 2
}
