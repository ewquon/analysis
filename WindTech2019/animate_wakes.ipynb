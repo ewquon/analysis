{
 "cells": [
  {
   "cell_type": "code",
   "execution_count": 1,
   "metadata": {},
   "outputs": [],
   "source": [
    "%load_ext autoreload\n",
    "%autoreload 2"
   ]
  },
  {
   "cell_type": "code",
   "execution_count": 2,
   "metadata": {},
   "outputs": [],
   "source": [
    "%matplotlib inline\n",
    "import sys, os\n",
    "import numpy as np\n",
    "import matplotlib.pyplot as plt\n",
    "from cycler import cycler\n",
    "from matplotlib.patches import Circle\n",
    "from collections import OrderedDict"
   ]
  },
  {
   "cell_type": "code",
   "execution_count": 3,
   "metadata": {},
   "outputs": [],
   "source": [
    "# samwich routines\n",
    "samwich_path = os.path.join(os.environ['HOME'],'waketracking')\n",
    "if not samwich_path in sys.path:\n",
    "    sys.path.append(samwich_path)\n",
    "from samwich.dataloaders import XarrayData\n",
    "from samwich.waketrackers import track"
   ]
  },
  {
   "cell_type": "code",
   "execution_count": 4,
   "metadata": {},
   "outputs": [],
   "source": [
    "# case definition\n",
    "from study import V27, neutral"
   ]
  },
  {
   "cell_type": "markdown",
   "metadata": {},
   "source": [
    "# Animate wake tracking results from all methods"
   ]
  },
  {
   "cell_type": "code",
   "execution_count": 5,
   "metadata": {},
   "outputs": [],
   "source": [
    "downstreamD = 6.0"
   ]
  },
  {
   "cell_type": "markdown",
   "metadata": {},
   "source": [
    "## set up tracking parameters"
   ]
  },
  {
   "cell_type": "code",
   "execution_count": 6,
   "metadata": {},
   "outputs": [],
   "source": [
    "case = neutral(casedir='WAKEBENCH-NREL_DEBNATH_LES/neutral',\n",
    "               prefix='NREL_DEBNATH_LES_20190325',\n",
    "               turbine=V27)\n",
    "suffix = '--filtered'"
   ]
  },
  {
   "cell_type": "code",
   "execution_count": 7,
   "metadata": {},
   "outputs": [],
   "source": [
    "Aref = case.turbine.rotor_area\n",
    "D = case.turbine.D\n",
    "zhub = case.turbine.zhub"
   ]
  },
  {
   "cell_type": "code",
   "execution_count": 8,
   "metadata": {},
   "outputs": [
    {
     "name": "stdout",
     "output_type": "stream",
     "text": [
      "Calculated k* : 0.0447339\n"
     ]
    }
   ],
   "source": [
    "from samwich.gaussian_functions import Bastankhah\n",
    "gauss = Bastankhah(CT=case.turbine.CTref, d0=case.turbine.D, TI=case.TI/100)"
   ]
  },
  {
   "cell_type": "markdown",
   "metadata": {},
   "source": [
    "## read all flowfield planes"
   ]
  },
  {
   "cell_type": "code",
   "execution_count": 9,
   "metadata": {},
   "outputs": [
    {
     "name": "stdout",
     "output_type": "stream",
     "text": [
      "Selected datafile: WAKEBENCH-NREL_DEBNATH_LES/neutral/NREL_DEBNATH_LES_20190325_uvw_6D.nc\n",
      "Calculated offset: 26\n",
      "CPU times: user 1.5 s, sys: 1.45 s, total: 2.96 s\n",
      "Wall time: 3.11 s\n"
     ]
    }
   ],
   "source": [
    "%%time\n",
    "data = XarrayData(case.get_wake_datafile(downstreamD),\n",
    "                  uvar='U',vvar='V',wvar='W',\n",
    "                  trim_time=case.trim_time(downstreamD))"
   ]
  },
  {
   "cell_type": "code",
   "execution_count": 10,
   "metadata": {},
   "outputs": [
    {
     "name": "stdout",
     "output_type": "stream",
     "text": [
      "Slicing data at i=0 x=162.0\n"
     ]
    }
   ],
   "source": [
    "x,y,z,u = data.sliceI()"
   ]
  },
  {
   "cell_type": "code",
   "execution_count": 11,
   "metadata": {},
   "outputs": [],
   "source": [
    "y1_cc = y[:,0]\n",
    "y1 = np.concatenate((\n",
    "    [y1_cc[0] - (y1_cc[1]-y1_cc[0])/2],\n",
    "    (y1_cc[:-1] + y1_cc[1:])/2,\n",
    "    [y1_cc[-1] + (y1_cc[-1]-y1_cc[-2])/2],\n",
    "))"
   ]
  },
  {
   "cell_type": "code",
   "execution_count": 12,
   "metadata": {},
   "outputs": [],
   "source": [
    "z1_cc = z[0,:]\n",
    "z1 = np.concatenate((\n",
    "    [z1_cc[0] - (z1_cc[1]-z1_cc[0])/2],\n",
    "    (z1_cc[:-1] + z1_cc[1:])/2,\n",
    "    [z1_cc[-1] + (z1_cc[-1]-z1_cc[-2])/2],\n",
    "))"
   ]
  },
  {
   "cell_type": "code",
   "execution_count": 13,
   "metadata": {},
   "outputs": [],
   "source": [
    "yy,zz = np.meshgrid(y1,z1,indexing='ij')"
   ]
  },
  {
   "cell_type": "code",
   "execution_count": 14,
   "metadata": {},
   "outputs": [
    {
     "data": {
      "text/plain": [
       "1578"
      ]
     },
     "execution_count": 14,
     "metadata": {},
     "output_type": "execute_result"
    }
   ],
   "source": [
    "Nt = u.shape[0]\n",
    "Nt"
   ]
  },
  {
   "cell_type": "markdown",
   "metadata": {},
   "source": [
    "## load all tracked planes"
   ]
  },
  {
   "cell_type": "code",
   "execution_count": 15,
   "metadata": {},
   "outputs": [],
   "source": [
    "wake = OrderedDict()"
   ]
  },
  {
   "cell_type": "code",
   "execution_count": 16,
   "metadata": {},
   "outputs": [],
   "source": [
    "def load_downstream_plane(downD,**tracking_params):\n",
    "    name = tracking_params.pop('name')\n",
    "    method = tracking_params.pop('method')\n",
    "    # evaluate parameters that are a function of downstream distance\n",
    "    for key,val in tracking_params.items():\n",
    "        if isinstance(val, dict):\n",
    "            tracking_params[key] = val[downD]\n",
    "    print('x/D:',downD,':',tracking_params)\n",
    "    # perform the wake tracking\n",
    "    wo = track(data.sliceI(), method=method)\n",
    "    wo.remove_shear(wind_profile=case.get_inflow(downD))\n",
    "    yc,zc = wo.find_centers(**tracking_params,\n",
    "                            **case.get_outputs(name,downD,suffix=suffix))\n",
    "    return wo"
   ]
  },
  {
   "cell_type": "markdown",
   "metadata": {},
   "source": [
    "### Gaussian 1D"
   ]
  },
  {
   "cell_type": "code",
   "execution_count": 17,
   "metadata": {
    "scrolled": true
   },
   "outputs": [
    {
     "name": "stdout",
     "output_type": "stream",
     "text": [
      "Calculated Gaussian width : 8.598824208554174 m\n",
      "Calculated Gaussian amplitude : -4.474464240770766 m/s\n",
      "Calculated Gaussian width : 9.806639508554174 m\n",
      "Calculated Gaussian amplitude : -3.112149184268989 m/s\n",
      "Calculated Gaussian width : 11.014454808554174 m\n",
      "Calculated Gaussian amplitude : -2.340643747870897 m/s\n",
      "Calculated Gaussian width : 12.222270108554174 m\n",
      "Calculated Gaussian amplitude : -1.8396952310704735 m/s\n",
      "Calculated Gaussian width : 13.430085408554174 m\n",
      "Calculated Gaussian amplitude : -1.4902034362444538 m/s\n",
      "Calculated Gaussian width : 14.637900708554174 m\n",
      "Calculated Gaussian amplitude : -1.2345920413753313 m/s\n",
      "Calculated Gaussian width : 15.845716008554174 m\n",
      "Calculated Gaussian amplitude : -1.0410934863247117 m/s\n",
      "Calculated Gaussian width : 8.598824208554174 m\n",
      "Calculated Gaussian width : 9.806639508554174 m\n",
      "Calculated Gaussian width : 11.014454808554174 m\n",
      "Calculated Gaussian width : 12.222270108554174 m\n",
      "Calculated Gaussian width : 13.430085408554174 m\n",
      "Calculated Gaussian width : 14.637900708554174 m\n",
      "Calculated Gaussian width : 15.845716008554174 m\n"
     ]
    }
   ],
   "source": [
    "Bastankhah_params = {\n",
    "    'name': '1D Gaussian (Bastankhah)',\n",
    "    'method': 'Gaussian',\n",
    "    'umin': { x_D: gauss.amplitude(x_D*case.turbine.D,-case.Uref) for x_D in case.downstreamD },\n",
    "    'sigma': { x_D: gauss.sigma(x_D*case.turbine.D) for x_D in case.downstreamD },\n",
    "}"
   ]
  },
  {
   "cell_type": "code",
   "execution_count": 18,
   "metadata": {},
   "outputs": [
    {
     "name": "stdout",
     "output_type": "stream",
     "text": [
      "x/D: 6.0 : {'umin': -1.4902034362444538, 'sigma': 13.430085408554174}\n",
      "Slicing data at i=0 x=162.0\n",
      "Selected Tracker: Gaussian\n",
      "\n",
      "Sampling plane normal vector: [1. 0. 0.]\n",
      "  identified plane center at: 162.0 0.0 40.5010165\n",
      "  rotated to rotor-aligned axes (about z): 0.0 deg\n",
      "  rotation error: 0.0\n",
      "  horizontal search range: -40.0 40.0\n",
      "  vertical search range: 0.497933 80.5041\n",
      "Number of time frames to process: 1578\n",
      "\n",
      "...finished initializing WakeTracker\n",
      "\n",
      "...finished initializing Gaussian \n",
      "\n",
      "  subtracting out time-varying profile\n",
      "Trajectory loaded from ./WAKEBENCH-NREL_DEBNATH_LES/neutral/1D_Gaussian_Bastankhah--filtered/trajectory_6D.csv\n",
      "Read pickled outlines from ./WAKEBENCH-NREL_DEBNATH_LES/neutral/1D_Gaussian_Bastankhah--filtered/outlines_6D.pkl\n",
      "Note: wake tracking has already been performed\n",
      "CPU times: user 2.15 s, sys: 313 ms, total: 2.47 s\n",
      "Wall time: 1.38 s\n"
     ]
    }
   ],
   "source": [
    "%time wake['1D Gaussian (Bastankhah)'] = load_downstream_plane(downstreamD, **Bastankhah_params)"
   ]
  },
  {
   "cell_type": "markdown",
   "metadata": {},
   "source": [
    "### Gaussian 2D"
   ]
  },
  {
   "cell_type": "code",
   "execution_count": 19,
   "metadata": {},
   "outputs": [],
   "source": [
    "Gaussian2D_params = {\n",
    "    'name': '2D Gaussian',\n",
    "    'method': 'Gaussian2D',\n",
    "    'umin': None, # use VD minima in each snapshot\n",
    "    'A_ref': Aref,\n",
    "    'A_min': Aref/5,\n",
    "    'A_max': 2*Aref,\n",
    "    'AR_max': 10.0,\n",
    "}"
   ]
  },
  {
   "cell_type": "code",
   "execution_count": 20,
   "metadata": {
    "scrolled": true
   },
   "outputs": [
    {
     "name": "stdout",
     "output_type": "stream",
     "text": [
      "x/D: 6.0 : {'umin': None, 'A_ref': 572.5552611167398, 'A_min': 114.51105222334795, 'A_max': 1145.1105222334795, 'AR_max': 10.0}\n",
      "Slicing data at i=0 x=162.0\n",
      "Selected Tracker: Gaussian2D\n",
      "\n",
      "Sampling plane normal vector: [1. 0. 0.]\n",
      "  identified plane center at: 162.0 0.0 40.5010165\n",
      "  rotated to rotor-aligned axes (about z): 0.0 deg\n",
      "  rotation error: 0.0\n",
      "  horizontal search range: -40.0 40.0\n",
      "  vertical search range: 0.497933 80.5041\n",
      "Number of time frames to process: 1578\n",
      "\n",
      "...finished initializing WakeTracker\n",
      "\n",
      "...finished initializing Gaussian2D \n",
      "\n",
      "  subtracting out time-varying profile\n",
      "Trajectory loaded from ./WAKEBENCH-NREL_DEBNATH_LES/neutral/2D_Gaussian--filtered/trajectory_6D.csv\n",
      "Read pickled outlines from ./WAKEBENCH-NREL_DEBNATH_LES/neutral/2D_Gaussian--filtered/outlines_6D.pkl\n",
      "Note: wake tracking has already been performed\n",
      "CPU times: user 2.05 s, sys: 312 ms, total: 2.36 s\n",
      "Wall time: 1.17 s\n"
     ]
    }
   ],
   "source": [
    "%time wake['2D Gaussian'] = load_downstream_plane(downstreamD, **Gaussian2D_params)"
   ]
  },
  {
   "cell_type": "markdown",
   "metadata": {},
   "source": [
    "### Constant area"
   ]
  },
  {
   "cell_type": "code",
   "execution_count": 21,
   "metadata": {},
   "outputs": [],
   "source": [
    "const_area_params = {\n",
    "    'name': 'Constant-Area Contours',\n",
    "    'method': 'ConstantArea',\n",
    "    'ref_area': Aref,\n",
    "}"
   ]
  },
  {
   "cell_type": "code",
   "execution_count": 22,
   "metadata": {},
   "outputs": [
    {
     "name": "stdout",
     "output_type": "stream",
     "text": [
      "x/D: 6.0 : {'ref_area': 572.5552611167398}\n",
      "Slicing data at i=0 x=162.0\n",
      "Selected Tracker: ConstantArea\n",
      "\n",
      "Sampling plane normal vector: [1. 0. 0.]\n",
      "  identified plane center at: 162.0 0.0 40.5010165\n",
      "  rotated to rotor-aligned axes (about z): 0.0 deg\n",
      "  rotation error: 0.0\n",
      "  horizontal search range: -40.0 40.0\n",
      "  vertical search range: 0.497933 80.5041\n",
      "Number of time frames to process: 1578\n",
      "\n",
      "...finished initializing WakeTracker\n",
      "\n",
      "...finished initializing ContourWakeTracker\n",
      "\n",
      "...finished initializing ConstantArea \n",
      "\n",
      "  subtracting out time-varying profile\n",
      "Trajectory loaded from ./WAKEBENCH-NREL_DEBNATH_LES/neutral/Constant-Area_Contours--filtered/trajectory_6D.csv\n",
      "Read pickled outlines from ./WAKEBENCH-NREL_DEBNATH_LES/neutral/Constant-Area_Contours--filtered/outlines_6D.pkl\n",
      "Note: wake tracking has already been performed\n",
      "CPU times: user 2.1 s, sys: 316 ms, total: 2.42 s\n",
      "Wall time: 1.32 s\n"
     ]
    }
   ],
   "source": [
    "%time wake['Constant-Area Contours'] = load_downstream_plane(downstreamD, **const_area_params)"
   ]
  },
  {
   "cell_type": "markdown",
   "metadata": {},
   "source": [
    "### Constant flux\n",
    "Recall: definition of velocity fields in SAMWICH Box is $u_{tot} = u_{avg} + u$\n",
    "\n",
    "momentum flux $M = U_w(U_\\infty - U_w) = -(U_w - U_\\infty)U_w = $ `-u*u_tot`, for wake velocity $U_w$"
   ]
  },
  {
   "cell_type": "code",
   "execution_count": 23,
   "metadata": {},
   "outputs": [],
   "source": [
    "def fluxfun(u,u_w):\n",
    "    \"\"\"x-momentum flux\n",
    "    Note: function arguments correspond to `field_names` kwarg\n",
    "    \"\"\"\n",
    "    return -u * u_w "
   ]
  },
  {
   "cell_type": "code",
   "execution_count": 24,
   "metadata": {},
   "outputs": [],
   "source": [
    "const_xmom_params = {\n",
    "    'name': 'Constant-Xmom Contours',\n",
    "    'method': 'ConstantFlux',\n",
    "    'ref_flux': case.turbine.thrust(case.Uref),\n",
    "    'flux_function': fluxfun,\n",
    "    'field_names': ('u','u_tot'),\n",
    "}"
   ]
  },
  {
   "cell_type": "code",
   "execution_count": 25,
   "metadata": {},
   "outputs": [
    {
     "name": "stdout",
     "output_type": "stream",
     "text": [
      "x/D: 6.0 : {'ref_flux': 13434.379391317067, 'flux_function': <function fluxfun at 0xd3b054598>, 'field_names': ('u', 'u_tot')}\n",
      "Slicing data at i=0 x=162.0\n",
      "Selected Tracker: ConstantFlux\n",
      "\n",
      "Sampling plane normal vector: [1. 0. 0.]\n",
      "  identified plane center at: 162.0 0.0 40.5010165\n",
      "  rotated to rotor-aligned axes (about z): 0.0 deg\n",
      "  rotation error: 0.0\n",
      "  horizontal search range: -40.0 40.0\n",
      "  vertical search range: 0.497933 80.5041\n",
      "Number of time frames to process: 1578\n",
      "\n",
      "...finished initializing WakeTracker\n",
      "\n",
      "...finished initializing ContourWakeTracker\n",
      "\n",
      "...finished initializing ConstantFlux \n",
      "\n",
      "  subtracting out time-varying profile\n",
      "Trajectory loaded from ./WAKEBENCH-NREL_DEBNATH_LES/neutral/Constant-Xmom_Contours--filtered/trajectory_6D.csv\n",
      "Read pickled outlines from ./WAKEBENCH-NREL_DEBNATH_LES/neutral/Constant-Xmom_Contours--filtered/outlines_6D.pkl\n",
      "Note: wake tracking has already been performed\n",
      "CPU times: user 2.08 s, sys: 290 ms, total: 2.37 s\n",
      "Wall time: 1.29 s\n"
     ]
    }
   ],
   "source": [
    "%time wake['Constant-Xmom Contours'] = load_downstream_plane(downstreamD, **const_xmom_params)"
   ]
  },
  {
   "cell_type": "code",
   "execution_count": 26,
   "metadata": {},
   "outputs": [
    {
     "data": {
      "text/plain": [
       "OrderedDict([('1D Gaussian (Bastankhah)',\n",
       "              Tracking 1578 sampled planes of vectors with shape (162,162)),\n",
       "             ('2D Gaussian',\n",
       "              Tracking 1578 sampled planes of vectors with shape (162,162)),\n",
       "             ('Constant-Area Contours',\n",
       "              Tracking 1578 sampled planes of vectors with shape (162,162)),\n",
       "             ('Constant-Xmom Contours',\n",
       "              Tracking 1578 sampled planes of vectors with shape (162,162))])"
      ]
     },
     "execution_count": 26,
     "metadata": {},
     "output_type": "execute_result"
    }
   ],
   "source": [
    "wake"
   ]
  },
  {
   "cell_type": "markdown",
   "metadata": {},
   "source": [
    "## plot"
   ]
  },
  {
   "cell_type": "markdown",
   "metadata": {},
   "source": [
    "### total velocity"
   ]
  },
  {
   "cell_type": "code",
   "execution_count": 27,
   "metadata": {},
   "outputs": [],
   "source": [
    "def plot_utot(itime,norm=D,colorset='tab10'):\n",
    "    \"\"\"Plot u\"\"\"\n",
    "    wo = wake['1D Gaussian (Bastankhah)']  # doesn't matter which one we use\n",
    "    fig,ax = plt.subplots(figsize=(8,6))\n",
    "    ax.set_prop_cycle(cycler(color=plt.get_cmap(colorset).colors))\n",
    "    pcm = ax.pcolormesh(yy/norm,(zz-zhub)/norm, wo.u_tot[itime,:,:]/case.Uref,\n",
    "                        cmap='Greys_r', vmin=0.4, vmax=1.2)\n",
    "    cbar = fig.colorbar(pcm, ax=ax)\n",
    "#     rotor = Circle((0,0),radius=0.5, color='k', lw=1, fill=False)\n",
    "#     ax.add_artist(rotor)\n",
    "    ax.set_title('{:g} s'.format(itime),fontsize='x-large')\n",
    "    cbar.set_label(r'$u / U_\\infty$',fontsize='xx-large')\n",
    "    cbar.ax.tick_params(labelsize='x-large')\n",
    "    ax.tick_params(labelsize='x-large')\n",
    "    ax.set_xlabel(r'$y/D$',fontsize='xx-large')\n",
    "    ax.set_ylabel(r'$(z-z_{hub})/D$',fontsize='xx-large')\n",
    "    ax.set_xlim((-1.5,1.5))\n",
    "    return fig,ax"
   ]
  },
  {
   "cell_type": "code",
   "execution_count": 28,
   "metadata": {},
   "outputs": [],
   "source": [
    "# %%time\n",
    "# for i in range(Nt):\n",
    "#     fig,ax = plot_utot(i)\n",
    "#     fname = 'figures/utot_at_{:g}D_{:04d}.png'.format(downstreamD,i)\n",
    "#     sys.stdout.write('\\rGenerating '+fname)\n",
    "#     fig.savefig(fname,bbox_inches='tight',dpi=300)\n",
    "#     plt.close(fig)\n",
    "# print('')\n",
    "\n",
    "# Generating figures/utot_at_3D_1586.png\n",
    "# CPU times: user 13min 45s, sys: 34.6 s, total: 14min 20s\n",
    "# Wall time: 14min 23s"
   ]
  },
  {
   "cell_type": "markdown",
   "metadata": {},
   "source": [
    "### wake velocity"
   ]
  },
  {
   "cell_type": "code",
   "execution_count": 29,
   "metadata": {},
   "outputs": [],
   "source": [
    "def plot_wake(itime,norm=D,colorset='tab10'):\n",
    "    \"\"\"Plot u - uinf(t,z)\"\"\"\n",
    "    fig,ax = plt.subplots(figsize=(8,6))\n",
    "    ax.set_prop_cycle(cycler(color=plt.get_cmap(colorset).colors))\n",
    "    cbar = None\n",
    "    for name,wo in wake.items():\n",
    "        if cbar is None:\n",
    "            pcm = ax.pcolormesh(yy/norm,(zz-zhub)/norm, wo.u[itime,:,:]/case.Uref,\n",
    "                                cmap='RdBu_r', vmin=-0.5, vmax=0.5)\n",
    "            cbar = fig.colorbar(pcm, ax=ax)\n",
    "        outline = wo.paths[itime]\n",
    "        if outline is not None:\n",
    "            ax.plot(outline[:,0]/norm,(outline[:,1]-zhub)/norm, lw=3, label=name)\n",
    "    rotor = Circle((0,0),radius=0.5, color='k', lw=1, fill=False)\n",
    "    ax.add_artist(rotor)\n",
    "    ax.set_title('{:g} s'.format(itime),fontsize='x-large')\n",
    "    cbar.set_label(r'$(u-U_\\infty)/U_\\infty$',fontsize='xx-large')\n",
    "    cbar.ax.tick_params(labelsize='x-large')\n",
    "    ax.tick_params(labelsize='x-large')\n",
    "    ax.set_xlabel(r'$y/D$',fontsize='xx-large')\n",
    "    ax.set_ylabel(r'$(z-z_{hub})/D$',fontsize='xx-large')\n",
    "    ax.set_xlim((-1.5,1.5))\n",
    "    ax.legend(loc='upper left', bbox_to_anchor=(1.2,1), fontsize='large')\n",
    "    return fig,ax"
   ]
  },
  {
   "cell_type": "code",
   "execution_count": 30,
   "metadata": {},
   "outputs": [
    {
     "name": "stdout",
     "output_type": "stream",
     "text": [
      "Generating figures/compare_wakes_at_6D_1577.png\n",
      "CPU times: user 16min 43s, sys: 38.1 s, total: 17min 21s\n",
      "Wall time: 17min 25s\n"
     ]
    }
   ],
   "source": [
    "%%time\n",
    "for i in range(Nt):\n",
    "    fname = 'figures/compare_wakes_at_{:g}D_{:04d}.png'.format(downstreamD,i)\n",
    "    sys.stdout.write('\\rGenerating '+fname)\n",
    "    fig,ax = plot_wake(i)\n",
    "    fig.savefig(fname,bbox_inches='tight',dpi=300)\n",
    "    plt.close(fig)\n",
    "print('')\n",
    "\n",
    "# Generating figures/compare_wakes_at_3D_1586.png\n",
    "# CPU times: user 16min 59s, sys: 51.5 s, total: 17min 51s\n",
    "# Wall time: 17min 55s"
   ]
  },
  {
   "cell_type": "markdown",
   "metadata": {},
   "source": [
    "### wake velocity, in the MFoR"
   ]
  },
  {
   "cell_type": "code",
   "execution_count": 31,
   "metadata": {},
   "outputs": [
    {
     "name": "stdout",
     "output_type": "stream",
     "text": [
      "Interpolating with RectBivariateSpline\n"
     ]
    },
    {
     "name": "stderr",
     "output_type": "stream",
     "text": [
      "Transform: frame 1577\n"
     ]
    },
    {
     "name": "stdout",
     "output_type": "stream",
     "text": [
      "Interpolating with RectBivariateSpline\n"
     ]
    },
    {
     "name": "stderr",
     "output_type": "stream",
     "text": [
      "Transform: frame 1577\n"
     ]
    },
    {
     "name": "stdout",
     "output_type": "stream",
     "text": [
      "Interpolating with RectBivariateSpline\n"
     ]
    },
    {
     "name": "stderr",
     "output_type": "stream",
     "text": [
      "Transform: frame 1577\n"
     ]
    },
    {
     "name": "stdout",
     "output_type": "stream",
     "text": [
      "Interpolating with RectBivariateSpline\n"
     ]
    },
    {
     "name": "stderr",
     "output_type": "stream",
     "text": [
      "Transform: frame 1577\n"
     ]
    },
    {
     "name": "stdout",
     "output_type": "stream",
     "text": [
      "CPU times: user 13.1 s, sys: 2.81 s, total: 15.9 s\n",
      "Wall time: 17.8 s\n"
     ]
    }
   ],
   "source": [
    "%%time\n",
    "for name, wo in wake.items():\n",
    "    wo.to_MFoR(y1_cc,z1_cc-zhub)\n",
    "\n",
    "# CPU times: user 12 s, sys: 733 ms, total: 12.7 s\n",
    "# Wall time: 12 s"
   ]
  },
  {
   "cell_type": "code",
   "execution_count": 39,
   "metadata": {},
   "outputs": [],
   "source": [
    "def plot_wake_mfor(itime,norm=D,colorset='tab10'):\n",
    "    \"\"\"Plot u - uinf(t,z) in the meandering frame of reference\"\"\"\n",
    "    fig,ax = plt.subplots(figsize=(8,6))\n",
    "    ax.set_prop_cycle(cycler(color=plt.get_cmap(colorset).colors))\n",
    "    cbar = None\n",
    "    ylim = None\n",
    "    for name,wo in wake.items():\n",
    "        if cbar is None:\n",
    "            pcm = ax.pcolormesh(yy/norm,(zz-zhub)/norm, wo.u_mfor[itime,:,:]/case.Uref,\n",
    "                                cmap='RdBu_r', vmin=-0.5, vmax=0.5)\n",
    "            cbar = fig.colorbar(pcm, ax=ax)\n",
    "        if ylim is None:\n",
    "            ylim = ax.get_ylim()\n",
    "        outline = wo.paths_mfor[itime]\n",
    "        if (outline is not None) and (len(outline) > 0):\n",
    "            ax.plot(outline[:,0]/norm,outline[:,1]/norm, lw=3, label=name)\n",
    "    rotor = Circle((0,0),radius=0.5, color='k', lw=1, fill=False)\n",
    "    ax.add_artist(rotor)\n",
    "    ax.set_title('{:g} s'.format(itime),fontsize='x-large')\n",
    "    cbar.set_label(r'$(u-U_\\infty)/U_\\infty$',fontsize='xx-large')\n",
    "    cbar.ax.tick_params(labelsize='x-large')\n",
    "    ax.tick_params(labelsize='x-large')\n",
    "    ax.set_xlabel(r'$y/D$',fontsize='xx-large')\n",
    "    ax.set_ylabel(r'$(z-z_{hub})/D$',fontsize='xx-large')\n",
    "    ax.set_xlim((-1.5,1.5))\n",
    "    ax.set_ylim(ylim)\n",
    "    ax.legend(loc='upper left', bbox_to_anchor=(1.2,1), fontsize='large')\n",
    "    return fig,ax"
   ]
  },
  {
   "cell_type": "code",
   "execution_count": 40,
   "metadata": {},
   "outputs": [
    {
     "name": "stdout",
     "output_type": "stream",
     "text": [
      "Generating figures/compare_wakes_mfor_at_6D_1577.png\n",
      "CPU times: user 15min 24s, sys: 1min 10s, total: 16min 34s\n",
      "Wall time: 16min 40s\n"
     ]
    }
   ],
   "source": [
    "%%time\n",
    "for i in range(Nt):\n",
    "    fname = 'figures/compare_wakes_mfor_at_{:g}D_{:04d}.png'.format(downstreamD,i)\n",
    "    sys.stdout.write('\\rGenerating '+fname)\n",
    "    fig,ax = plot_wake_mfor(i)\n",
    "    fig.savefig(fname,bbox_inches='tight',dpi=300)\n",
    "    plt.close(fig)\n",
    "print('')\n",
    "\n",
    "# Generating figures/compare_wakes_mfor_at_3D_1586.png\n",
    "# CPU times: user 16min 23s, sys: 35 s, total: 16min 58s\n",
    "# Wall time: 17min 11s"
   ]
  },
  {
   "cell_type": "code",
   "execution_count": null,
   "metadata": {},
   "outputs": [],
   "source": []
  }
 ],
 "metadata": {
  "kernelspec": {
   "display_name": "Python 3",
   "language": "python",
   "name": "python3"
  },
  "language_info": {
   "codemirror_mode": {
    "name": "ipython",
    "version": 3
   },
   "file_extension": ".py",
   "mimetype": "text/x-python",
   "name": "python",
   "nbconvert_exporter": "python",
   "pygments_lexer": "ipython3",
   "version": "3.7.1"
  }
 },
 "nbformat": 4,
 "nbformat_minor": 2
}
