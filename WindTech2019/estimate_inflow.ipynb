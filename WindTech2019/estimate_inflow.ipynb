{
 "cells": [
  {
   "cell_type": "code",
   "execution_count": 1,
   "metadata": {},
   "outputs": [],
   "source": [
    "%load_ext autoreload\n",
    "%autoreload 2"
   ]
  },
  {
   "cell_type": "code",
   "execution_count": 2,
   "metadata": {},
   "outputs": [],
   "source": [
    "%matplotlib inline\n",
    "import os\n",
    "import numpy as np\n",
    "import matplotlib.pyplot as plt\n",
    "import xarray"
   ]
  },
  {
   "cell_type": "code",
   "execution_count": 3,
   "metadata": {},
   "outputs": [],
   "source": [
    "from study import V27, neutral"
   ]
  },
  {
   "cell_type": "markdown",
   "metadata": {},
   "source": [
    "# Estimate inflow from upstream plane\n",
    "- velocity profile $= \\bar{U}(t,z)$\n",
    "- $\\bar{U}$ is a 1-min rolling mean\n",
    "- need offset in time from the x=-2.5D plane to the downstream wake planes"
   ]
  },
  {
   "cell_type": "code",
   "execution_count": 4,
   "metadata": {},
   "outputs": [],
   "source": [
    "casedir = 'WAKEBENCH-NREL_DEBNATH_LES/neutral'\n",
    "prefix = 'NREL_DEBNATH_LES_20190325'"
   ]
  },
  {
   "cell_type": "code",
   "execution_count": 5,
   "metadata": {},
   "outputs": [],
   "source": [
    "case = neutral(casedir,prefix,turbine=V27)"
   ]
  },
  {
   "cell_type": "code",
   "execution_count": 6,
   "metadata": {},
   "outputs": [
    {
     "data": {
      "text/plain": [
       "67.5"
      ]
     },
     "execution_count": 6,
     "metadata": {},
     "output_type": "execute_result"
    }
   ],
   "source": [
    "-case.upstreamD*V27.D"
   ]
  },
  {
   "cell_type": "markdown",
   "metadata": {},
   "source": [
    "## Load data into wake object"
   ]
  },
  {
   "cell_type": "code",
   "execution_count": 7,
   "metadata": {},
   "outputs": [
    {
     "name": "stdout",
     "output_type": "stream",
     "text": [
      "Selected datafile: WAKEBENCH-NREL_DEBNATH_LES/neutral/NREL_DEBNATH_LES_20190325_uvw_-2.5D.nc\n"
     ]
    },
    {
     "data": {
      "text/plain": [
       "<xarray.Dataset>\n",
       "Dimensions:  (t: 1663, x: 1, y: 162, z: 162)\n",
       "Coordinates:\n",
       "  * t        (t) uint16 16150 16151 16152 16153 ... 17809 17810 17811 17812\n",
       "  * x        (x) float64 -67.5\n",
       "  * y        (y) float64 -40.0 -39.51 -39.01 -38.51 ... 38.51 39.01 39.51 40.0\n",
       "  * z        (z) float64 0.4979 0.9949 1.492 1.989 ... 79.01 79.51 80.01 80.5\n",
       "Data variables:\n",
       "    U        (t, x, y, z) float64 ...\n",
       "    V        (t, x, y, z) float64 ...\n",
       "    W        (t, x, y, z) float64 ..."
      ]
     },
     "execution_count": 7,
     "metadata": {},
     "output_type": "execute_result"
    }
   ],
   "source": [
    "xa = xarray.open_dataset(case.get_wake_datafile(case.upstreamD))\n",
    "xa"
   ]
  },
  {
   "cell_type": "code",
   "execution_count": 8,
   "metadata": {},
   "outputs": [],
   "source": [
    "Ntimes = xa.dims['t']"
   ]
  },
  {
   "cell_type": "code",
   "execution_count": 9,
   "metadata": {},
   "outputs": [],
   "source": [
    "t = xa.t.values\n",
    "z = xa.z.values"
   ]
  },
  {
   "cell_type": "code",
   "execution_count": 10,
   "metadata": {},
   "outputs": [
    {
     "data": {
      "text/plain": [
       "<xarray.DataArray 'U' (t: 1663, x: 1, y: 162, z: 162)>\n",
       "[43643772 values with dtype=float64]\n",
       "Coordinates:\n",
       "  * t        (t) uint16 16150 16151 16152 16153 ... 17809 17810 17811 17812\n",
       "  * x        (x) float64 -67.5\n",
       "  * y        (y) float64 -40.0 -39.51 -39.01 -38.51 ... 38.51 39.01 39.51 40.0\n",
       "  * z        (z) float64 0.4979 0.9949 1.492 1.989 ... 79.01 79.51 80.01 80.5\n",
       "Attributes:\n",
       "    long_name:  streamwise wind component\n",
       "    units:      m/s"
      ]
     },
     "execution_count": 10,
     "metadata": {},
     "output_type": "execute_result"
    }
   ],
   "source": [
    "xa.U"
   ]
  },
  {
   "cell_type": "markdown",
   "metadata": {},
   "source": [
    "## Estimate profile"
   ]
  },
  {
   "cell_type": "code",
   "execution_count": 11,
   "metadata": {},
   "outputs": [],
   "source": [
    "Uprofile_inst = xa.U.mean(dim=('x','y')) # average over x,y: U(t,z)"
   ]
  },
  {
   "cell_type": "code",
   "execution_count": 12,
   "metadata": {},
   "outputs": [],
   "source": [
    "Uprofile_mean = Uprofile_inst.rolling(dim={'t':case.Navg}).mean()"
   ]
  },
  {
   "cell_type": "code",
   "execution_count": 13,
   "metadata": {},
   "outputs": [],
   "source": [
    "Uprofile = Uprofile_inst.mean(dim='t') # average over t,x,y: U(z)"
   ]
  },
  {
   "cell_type": "code",
   "execution_count": 14,
   "metadata": {},
   "outputs": [
    {
     "data": {
      "text/plain": [
       "((1663, 162), (1663, 162), (162,))"
      ]
     },
     "execution_count": 14,
     "metadata": {},
     "output_type": "execute_result"
    }
   ],
   "source": [
    "Uprofile_inst.shape, Uprofile_mean.shape, Uprofile.shape"
   ]
  },
  {
   "cell_type": "code",
   "execution_count": 15,
   "metadata": {},
   "outputs": [],
   "source": [
    "# profile envelope\n",
    "Uprofile_min = Uprofile_inst.min(dim='t')\n",
    "Uprofile_max = Uprofile_inst.max(dim='t')\n",
    "Uprofile_std = Uprofile_inst.std(dim='t')"
   ]
  },
  {
   "cell_type": "markdown",
   "metadata": {},
   "source": [
    "## Plot"
   ]
  },
  {
   "cell_type": "code",
   "execution_count": 32,
   "metadata": {},
   "outputs": [
    {
     "data": {
      "text/plain": [
       "<matplotlib.legend.Legend at 0x31dd6bba8>"
      ]
     },
     "execution_count": 32,
     "metadata": {},
     "output_type": "execute_result"
    },
    {
     "data": {
      "image/png": "[encoded data removed]",
      "text/plain": [
       "<Figure size 288x432 with 1 Axes>"
      ]
     },
     "metadata": {
      "needs_background": "light"
     },
     "output_type": "display_data"
    }
   ],
   "source": [
    "fig,ax = plt.subplots(figsize=(4,6))\n",
    "ax.plot(Uprofile,z,'k',lw=3,label='simulated mean')\n",
    "#ax.fill_betweenx(z, Uprofile_min, Uprofile_max)\n",
    "ax.fill_betweenx(z, Uprofile-Uprofile_std, Uprofile+Uprofile_std)\n",
    "\n",
    "U_powerlaw = case.Uref * (z/case.turbine.zhub)**case.alpha\n",
    "ax.plot(U_powerlaw,z,'r',label=r'$\\alpha = {:g}$'.format(case.alpha))\n",
    "\n",
    "ax.legend()"
   ]
  },
  {
   "cell_type": "markdown",
   "metadata": {},
   "source": [
    "## save data\n",
    "Values/nans for *rolling mean* `U_mean` of upstream sampled inflow for `Noffset==7`, `Navg==60`, and `Ntimes==1663`:\n",
    "```\n",
    "tidx  U(x=-2.5D)      U(x=0)\n",
    "---  ---------------  -----------\n",
    "0     nan             ???\n",
    "7     nan             U_mean(t=0)==nan\n",
    "59    U_mean(t=59)    U_mean(t=52)==nan\n",
    "66    U_mean(t=66)    U_mean(t=59)\n",
    "1655  U_mean(t=1655)  U_mean(t=1648)\n",
    "1662  U_mean(t=1662)  U_mean(t=1655)\n",
    "```\n",
    "Therefore,\n",
    "- upstream U(t,z) for t $\\in$ [`Navg`-1, -`Noffset`]\n",
    "- inflow U(t,z) for t $\\in$ [`Navg`+`Noffset`-1, -1]"
   ]
  },
  {
   "cell_type": "code",
   "execution_count": 17,
   "metadata": {},
   "outputs": [
    {
     "data": {
      "text/plain": [
       "7"
      ]
     },
     "execution_count": 17,
     "metadata": {},
     "output_type": "execute_result"
    }
   ],
   "source": [
    "# number of planes before inflow hits the rotor\n",
    "Noffset = int(-case.upstreamD*V27.D / case.Uref)\n",
    "Noffset"
   ]
  },
  {
   "cell_type": "code",
   "execution_count": 18,
   "metadata": {},
   "outputs": [
    {
     "data": {
      "text/plain": [
       "(59, 1655)"
      ]
     },
     "execution_count": 18,
     "metadata": {},
     "output_type": "execute_result"
    }
   ],
   "source": [
    "case.Navg-1, Ntimes-Noffset-1"
   ]
  },
  {
   "cell_type": "code",
   "execution_count": 19,
   "metadata": {},
   "outputs": [
    {
     "data": {
      "text/plain": [
       "(66, 1662)"
      ]
     },
     "execution_count": 19,
     "metadata": {},
     "output_type": "execute_result"
    }
   ],
   "source": [
    "case.Navg+Noffset-1, Ntimes-1"
   ]
  },
  {
   "cell_type": "code",
   "execution_count": 20,
   "metadata": {},
   "outputs": [],
   "source": [
    "inflow = Uprofile_mean.values"
   ]
  },
  {
   "cell_type": "code",
   "execution_count": 21,
   "metadata": {},
   "outputs": [],
   "source": [
    "np.savez(os.path.join(casedir,'inflow.npz'), z=z, U=inflow)"
   ]
  },
  {
   "cell_type": "code",
   "execution_count": null,
   "metadata": {},
   "outputs": [],
   "source": []
  },
  {
   "cell_type": "markdown",
   "metadata": {},
   "source": [
    "DEBUG"
   ]
  },
  {
   "cell_type": "code",
   "execution_count": 22,
   "metadata": {},
   "outputs": [
    {
     "data": {
      "text/plain": [
       "array([16209, 16210, 16211, ..., 17803, 17804, 17805], dtype=uint16)"
      ]
     },
     "execution_count": 22,
     "metadata": {},
     "output_type": "execute_result"
    }
   ],
   "source": [
    "# inflow\n",
    "t[case.Navg-1:-Noffset]"
   ]
  },
  {
   "cell_type": "code",
   "execution_count": 23,
   "metadata": {},
   "outputs": [
    {
     "data": {
      "text/plain": [
       "array([16216, 16217, 16218, ..., 17810, 17811, 17812], dtype=uint16)"
      ]
     },
     "execution_count": 23,
     "metadata": {},
     "output_type": "execute_result"
    }
   ],
   "source": [
    "# wake plane\n",
    "t[case.Navg+Noffset-1:]"
   ]
  },
  {
   "cell_type": "code",
   "execution_count": 24,
   "metadata": {},
   "outputs": [
    {
     "data": {
      "text/plain": [
       "array([16216, 16217, 16218, ..., 17810, 17811, 17812], dtype=uint16)"
      ]
     },
     "execution_count": 24,
     "metadata": {},
     "output_type": "execute_result"
    }
   ],
   "source": [
    "# wake plane\n",
    "t[slice(case.Navg+Noffset-1,None)]"
   ]
  },
  {
   "cell_type": "code",
   "execution_count": null,
   "metadata": {},
   "outputs": [],
   "source": []
  }
 ],
 "metadata": {
  "kernelspec": {
   "display_name": "Python 3",
   "language": "python",
   "name": "python3"
  },
  "language_info": {
   "codemirror_mode": {
    "name": "ipython",
    "version": 3
   },
   "file_extension": ".py",
   "mimetype": "text/x-python",
   "name": "python",
   "nbconvert_exporter": "python",
   "pygments_lexer": "ipython3",
   "version": "3.7.1"
  }
 },
 "nbformat": 4,
 "nbformat_minor": 2
}
